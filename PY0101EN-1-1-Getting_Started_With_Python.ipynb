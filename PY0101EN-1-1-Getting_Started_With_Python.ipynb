{
  "metadata": {
    "kernelspec": {
      "name": "python",
      "display_name": "Python (Pyodide)",
      "language": "python"
    },
    "language_info": {
      "codemirror_mode": {
        "name": "python",
        "version": 3
      },
      "file_extension": ".py",
      "mimetype": "text/x-python",
      "name": "python",
      "nbconvert_exporter": "python",
      "pygments_lexer": "ipython3",
      "version": "3.8"
    },
    "prev_pub_hash": "05a1f0aa77cd2817981e81261e2bd2ef05bf9cdb7e63210d8760cfb63abf570a"
  },
  "nbformat_minor": 4,
  "nbformat": 4,
  "cells": [
    {
      "cell_type": "markdown",
      "source": "<p style=\"text-align:center\">\n    <a href=\"https://skills.network\" target=\"_blank\">\n    <img src=\"https://cf-courses-data.s3.us.cloud-object-storage.appdomain.cloud/assets/logos/SN_web_lightmode.png\" width=\"300\" alt=\"Skills Network Logo\">\n    </a>\n</p>\n\n\n# Writing Your First Python Code\n\n\nEstimated time needed: **10** minutes\n    \n\n## Objectives\n\nAfter completing this lab you will be able to:\n* Write your basic python code\n\n",
      "metadata": {}
    },
    {
      "cell_type": "markdown",
      "source": "<h2>Table of Contents</h2>\n<div class=\"alert alert-block alert-info\" style=\"margin-top: 20px\">\n    <ul>\n        <li>\n            <a href=\"#Say-'Hello'-to-the-world-in-Python\">Say 'Hello' to the world in Python</a>\n            <ul>\n                <li><a href=\"#What-version-of-Python-are-we-using?\">What version of Python are we using?</a></li>\n                <li><a href=\"#Writing-comments-in-Python\">Writing comments in Python</a></li>\n                <li><a href=\"#Errors-in-Python\">Errors in Python</a></li>\n                <li><a href=\"#Does-Python-know-about-your-error-before-it-runs-your-code?\">Does Python know about your error before it runs your code?</a></li>\n                <li><a href=\"#Exercise:-Your-First-Program\">Exercise: Your First Program</a></li>\n            </ul>\n        </li>\n       \n   \n",
      "metadata": {}
    },
    {
      "cell_type": "markdown",
      "source": "## Say 'Hello' to the world in Python\n",
      "metadata": {}
    },
    {
      "cell_type": "markdown",
      "source": "When learning a new programming language, it is customary to start with an \"hello world\" example. As simple as it is, this one line of code will ensure that we know how to print a string in output and how to execute code within cells in a notebook.\n",
      "metadata": {}
    },
    {
      "cell_type": "markdown",
      "source": "<hr/>\n<div class=\"alert alert-success alertsuccess\" style=\"margin-top: 20px\">\n[Tip]: To execute the Python code in the code cell below, click on the cell to select it and press <kbd>Shift</kbd> + <kbd>Enter</kbd>.\n</div>\n<hr/>\n",
      "metadata": {}
    },
    {
      "cell_type": "code",
      "source": "# Try your first Python output\n\nprint('Hello, Python!')",
      "metadata": {
        "trusted": true
      },
      "outputs": [
        {
          "name": "stdout",
          "text": "Hello, Python!\n",
          "output_type": "stream"
        }
      ],
      "execution_count": 1
    },
    {
      "cell_type": "markdown",
      "source": "After executing the cell above, you should see that Python prints <code>Hello, Python!</code>. Congratulations on running your first Python code!\n",
      "metadata": {}
    },
    {
      "cell_type": "markdown",
      "source": "<hr/>\n<div class=\"alert alert-success alertsuccess\" style=\"margin-top: 20px\">\n    [Tip:] <code>print()</code> is a function. You passed the string <code>'Hello, Python!'</code> as an argument to instruct Python on what to print.\n</div>\n<hr/>\n",
      "metadata": {}
    },
    {
      "cell_type": "markdown",
      "source": "### What version of Python are we using?\n",
      "metadata": {}
    },
    {
      "cell_type": "markdown",
      "source": "<p>\n    Python 2 is no longer in use, as it officially reached end-of-life on January 1, 2020. The Python community and most major libraries have fully adopted Python 3, which is now the standard for all development and learning.\n</p>\n<p>\n    In this course, we use Python 3 exclusively in all our labs. How do we know that our notebook is executed by a Python 3 runtime?\n</p>\n<p>\n    We can ask Python directly and obtain a detailed answer. Try executing the following code:\n</p>\n",
      "metadata": {}
    },
    {
      "cell_type": "code",
      "source": "# Check the Python Version\n\nimport sys\nprint(sys.version)",
      "metadata": {
        "trusted": true
      },
      "outputs": [
        {
          "name": "stdout",
          "text": "3.12.1 (main, Jun  7 2024, 22:40:30) [Clang 19.0.0git (https:/github.com/llvm/llvm-project 0a8cd1ed1f4f35905df318015b\n",
          "output_type": "stream"
        }
      ],
      "execution_count": 2
    },
    {
      "cell_type": "markdown",
      "source": "<hr/>\n<div class=\"alert alert-success alertsuccess\" style=\"margin-top: 20px\">\n    [Tip:] <code>sys</code> is a built-in module that contains many system-specific parameters and functions, including the Python version in use. Before using it, we must explictly <code>import</code> it.\n</div>\n<hr/>\n",
      "metadata": {}
    },
    {
      "cell_type": "markdown",
      "source": "### Writing comments in Python\n",
      "metadata": {}
    },
    {
      "cell_type": "markdown",
      "source": "<p>\n    In addition to writing code, note that it's always a good idea to add comments to your code. It will help others understand what you were trying to accomplish (the reason why you wrote a given snippet of code). Not only does this help <strong>other people</strong> understand your code, it can also serve as a reminder <strong>to you</strong> when you come back to it weeks or months later.</p>\n\n<p>\n    To write comments in Python, use the number symbol <code>#</code> before writing your comment. When you run your code, Python will ignore everything past the <code>#</code> on a given line.\n</p>\n",
      "metadata": {}
    },
    {
      "cell_type": "code",
      "source": "# Practice on writing comments\n\nprint('Hello, Python!') # This line prints a string\nprint(\"Hi\")",
      "metadata": {
        "trusted": true
      },
      "outputs": [
        {
          "name": "stdout",
          "text": "Hello, Python!\nHi\n",
          "output_type": "stream"
        }
      ],
      "execution_count": 3
    },
    {
      "cell_type": "markdown",
      "source": "<p>\n    After executing the cell above, you should notice that <code>This line prints a string</code> did not appear in the output, because it was a comment (and thus ignored by Python).\n</p>\n<p>\n    The second line was also not executed because <code>print('Hi')</code> was preceded by the number sign (<code>#</code>) as well! Since this isn't an explanatory comment from the programmer, but an actual line of code, we might say that the programmer <em>commented out</em> that second line of code.\n</p>\n",
      "metadata": {}
    },
    {
      "cell_type": "markdown",
      "source": "<h3 id=\"errors\">Errors in Python</h3>\n",
      "metadata": {}
    },
    {
      "cell_type": "markdown",
      "source": "<p>Everyone makes mistakes. For many types of mistakes, Python will tell you that you have made a mistake by giving you an error message. It is important to read error messages carefully to really understand where you made a mistake and how you may go about correcting it.</p>\n<p>For example, if you spell <code>print</code> as <code>frint</code>, Python will display an error message. Give it a try:</p>\n",
      "metadata": {}
    },
    {
      "cell_type": "code",
      "source": "# Print string as error message\n\nprint(\"Hello, Python!\")",
      "metadata": {
        "trusted": true
      },
      "outputs": [
        {
          "name": "stdout",
          "text": "Hello, Python!\n",
          "output_type": "stream"
        }
      ],
      "execution_count": 5
    },
    {
      "cell_type": "markdown",
      "source": "<p>The error message tells you: \n<ol>\n    <li>where the error occurred (more useful in large notebook cells or scripts), and</li> \n    <li>what kind of error it was (NameError)</li> \n</ol>\n<p>Here, Python attempted to run the function <code>frint</code>, but could not determine what <code>frint</code> is since it's not a built-in function and it has not been previously defined by us either.</p>\n",
      "metadata": {}
    },
    {
      "cell_type": "markdown",
      "source": "<p>\n    You'll notice that if we make a different type of mistake, by forgetting to close the string, we'll obtain a different error (i.e., a <code>SyntaxError</code>). Try it below:\n</p>\n",
      "metadata": {}
    },
    {
      "cell_type": "code",
      "source": "# Try to see built-in error message\n\nprint(\"Hello, Python!\")",
      "metadata": {
        "trusted": true
      },
      "outputs": [
        {
          "name": "stdout",
          "text": "Hello, Python!\n",
          "output_type": "stream"
        }
      ],
      "execution_count": 7
    },
    {
      "cell_type": "markdown",
      "source": "### Does Python know about your error before it runs your code?\n",
      "metadata": {}
    },
    {
      "cell_type": "markdown",
      "source": "Python is what is called an <em>interpreted language</em>. Compiled languages examine your entire program at compile time, and are able to warn you about a whole class of errors prior to execution. In contrast, Python interprets your script line by line as it executes it. Python will stop executing the entire program when it encounters an error (unless the error is expected and handled by the programmer, a more advanced subject that we'll cover later on in this course).\n",
      "metadata": {}
    },
    {
      "cell_type": "markdown",
      "source": "Try to run the code in the cell below and see what happens:\n",
      "metadata": {}
    },
    {
      "cell_type": "code",
      "source": "# Print string and error to see the running order\n\nprint(\"This will be printed\")\nprint(\"This will cause an error\")\nprint(\"This will NOT be printed\")",
      "metadata": {
        "trusted": true
      },
      "outputs": [
        {
          "name": "stdout",
          "text": "This will be printed\nThis will cause an error\nThis will NOT be printed\n",
          "output_type": "stream"
        }
      ],
      "execution_count": 9
    },
    {
      "cell_type": "markdown",
      "source": "### Exercise: Your First Program\n",
      "metadata": {}
    },
    {
      "cell_type": "markdown",
      "source": "<p>Generations of programmers have started their coding careers by simply printing \"Hello, world!\". You will be following in their footsteps.</p>\n<p>In the code cell below, use the <code>print()</code> function to print out the phrase: <code>Hello, world!</code></p>\n",
      "metadata": {}
    },
    {
      "cell_type": "code",
      "source": "# Write your code below. Don't forget to press Shift+Enter to execute the cell\nprint(\"Hello, world!\")",
      "metadata": {
        "trusted": true
      },
      "outputs": [
        {
          "name": "stdout",
          "text": "Hello, world!\n",
          "output_type": "stream"
        }
      ],
      "execution_count": 10
    },
    {
      "cell_type": "markdown",
      "source": "<details><summary>Click here for the solution</summary>\n\n```python\nprint(\"Hello, world!\")\n\n```\n\n</details>\n",
      "metadata": {}
    },
    {
      "cell_type": "markdown",
      "source": "<p>Now, let's enhance your code with a comment. In the code cell below, print out the phrase: <code>Hello, world!</code> and comment it with the phrase <code>Print the traditional hello world</code> all in one line of code.</p>\n",
      "metadata": {}
    },
    {
      "cell_type": "code",
      "source": "# Write your code below. Don't forget to press Shift+Enter to execute the cell\nprint(\"Hello, world!\") # Print the traditional hello world",
      "metadata": {
        "trusted": true
      },
      "outputs": [
        {
          "name": "stdout",
          "text": "Hello, world!\n",
          "output_type": "stream"
        }
      ],
      "execution_count": 11
    },
    {
      "cell_type": "markdown",
      "source": "<details><summary>Click here for the solution</summary>\n\n```python\nprint(\"Hello, world!\") # Print the traditional hello world\n\n```\n\n</details>\n",
      "metadata": {}
    },
    {
      "cell_type": "markdown",
      "source": "<p>What is the value of <code>z</code> where <code>z = 2 + 15</code>?</p>\n",
      "metadata": {}
    },
    {
      "cell_type": "code",
      "source": "# Write your code below. Don't forget to press Shift+Enter to execute the cell\nz = 2 + 15\nprint(z)",
      "metadata": {
        "trusted": true
      },
      "outputs": [
        {
          "name": "stdout",
          "text": "17\n",
          "output_type": "stream"
        }
      ],
      "execution_count": 12
    },
    {
      "cell_type": "markdown",
      "source": "<details><summary>Click here for the solution</summary>\n\n```python\n17\n\n```\n\n</details>\n",
      "metadata": {}
    },
    {
      "cell_type": "markdown",
      "source": "<hr>\n\n<p>Congratulations, you have completed your first lesson and hands-on lab in Python.\n<hr>\n",
      "metadata": {}
    },
    {
      "cell_type": "markdown",
      "source": "## Author\n\n<a href=\"https://www.linkedin.com/in/joseph-s-50398b136/\" target=\"_blank\">Joseph Santarcangelo</a>\n\n\n## Other contributors\n\n<a href=\"www.linkedin.com/in/jiahui-mavis-zhou-a4537814a\">Mavis Zhou</a>\n\n\n## <h3 align=\"center\"> © IBM Corporation 2023. All rights reserved. <h3/>\n",
      "metadata": {}
    },
    {
      "cell_type": "markdown",
      "source": "```toggle## Change Log\n```\n\n\n```toggle|  Date (YYYY-MM-DD) |  Version | Changed By  |  Change Description |\n```\n```toggle|---|---|---|---|\n```\n```toggle| 2023-10-30 | 2.2 | Abhishek Gagneja| Updated instructions |\n```\n```toggle| 2022-01-10  | 2.1  | Malika  | Removed the readme for GitShare|\n```\n```toggle| 2020-08-26  | 2.0  | Lavanya | Moved lab to course repo in GitLab |\n```\n",
      "metadata": {}
    }
  ]
}