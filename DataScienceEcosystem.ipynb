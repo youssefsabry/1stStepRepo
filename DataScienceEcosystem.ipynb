{
 "cells": [
  {
   "cell_type": "markdown",
   "id": "231bd755-1aa8-4f4b-93ae-7db3d2e4816f",
   "metadata": {},
   "source": [
    "# Data Science Tools and Ecosystem"
   ]
  },
  {
   "cell_type": "markdown",
   "id": "7815813b-a713-45b6-a4f0-4e6f8d498179",
   "metadata": {},
   "source": [
    "Here, you'll find a summary of data science tools and their ecosystem."
   ]
  },
  {
   "cell_type": "markdown",
   "id": "5247a3b6-8eba-4add-94c0-f345a0f54a19",
   "metadata": {},
   "source": [
    "**Objectives:**\n",
    "* The most popular languages for Data Scientists.\n",
    "* Common libraries used by data scientists.\n",
    "* Open source tools used in data science.\n",
    "* A few arithmetic expressions in Python."
   ]
  },
  {
   "cell_type": "markdown",
   "id": "9a8b7be4-ccec-46c4-8534-1bc52295c321",
   "metadata": {},
   "source": [
    "Based on popularity and common usage in the industry, some of the most popular languages that Data Scientists use are:\n",
    "1. Python: This is widely considered the most popular language for data science.\n",
    "2. R: A language created specifically for statistical computing and graphics.\n",
    "3. SQL: Structured Query Language is essential for any data scientist.\n",
    "4. Julia: It is a high-level, high-performance, and dynamic programming language designed for technical computing."
   ]
  },
  {
   "cell_type": "markdown",
   "id": "f836c5df-1a66-4889-bf77-0f9c715117fc",
   "metadata": {},
   "source": [
    "Some of the commonly used libraries used by Data Scientists include:\n",
    "1. For Data Manipulation and Analysis\n",
    "    1. Pandas\n",
    "    2. Pandas\n",
    "2. For Data Visualization\n",
    "    1. Matplotlib\n",
    "    2. Seaborn\n",
    "3. For Machine Learning and Deep Learning\n",
    "    1. Scikit-learn\n",
    "    2. TensorFlow\n",
    "    3. PyTorch\n",
    "4. For Other Tasks (Web Scraping, etc.):\n",
    "    1. Beautiful Soup\n",
    "    2. Requests\n"
   ]
  },
  {
   "cell_type": "markdown",
   "id": "b83272b5-442d-474a-822a-d3e873a7b06a",
   "metadata": {},
   "source": [
    "Development environment open source tools used in data science:\n",
    "| Data Science Tools |\n",
    "| ------------------ |\n",
    "| Jupter Notebook |\n",
    "| RStudio |\n",
    "| Spyder |\n",
    "| Visual Studio Code |\n",
    "| Orange |\n",
    "| KNIME |\n",
    "| Apache Zeppelin |\n"
   ]
  },
  {
   "cell_type": "markdown",
   "id": "feddf165-3d0b-4d76-bcfd-ab2b653bb0f5",
   "metadata": {},
   "source": [
    "### Below are a few examples of evaluating arithmetic expressions in Python:"
   ]
  },
  {
   "cell_type": "code",
   "execution_count": 3,
   "id": "eb393ef6-1492-4fff-84d2-0a14bf31fc66",
   "metadata": {},
   "outputs": [
    {
     "data": {
      "text/plain": [
       "17"
      ]
     },
     "execution_count": 3,
     "metadata": {},
     "output_type": "execute_result"
    }
   ],
   "source": [
    "# This a simple arithmetic expression to mutiply then add integers:\n",
    "(3*4)+5"
   ]
  },
  {
   "cell_type": "code",
   "execution_count": 8,
   "id": "76745112-a97d-47ba-9ee3-bf3ad611823a",
   "metadata": {},
   "outputs": [
    {
     "name": "stdout",
     "output_type": "stream",
     "text": [
      "200 minutes is equal to 3.3333333333333335 hours.\n"
     ]
    }
   ],
   "source": [
    "# This will convert 200 minutes to hours by dividing by 60\n",
    "min = 200\n",
    "hrs = min/60\n",
    "print(f\"{min} minutes is equal to {hrs} hours.\")"
   ]
  },
  {
   "cell_type": "markdown",
   "id": "43ead5c7-cf5c-4398-a111-0e4114841d1d",
   "metadata": {},
   "source": [
    "## Author \n",
    "Youssef Sabry"
   ]
  }
 ],
 "metadata": {
  "kernelspec": {
   "display_name": "Python 3 (ipykernel)",
   "language": "python",
   "name": "python3"
  },
  "language_info": {
   "codemirror_mode": {
    "name": "ipython",
    "version": 3
   },
   "file_extension": ".py",
   "mimetype": "text/x-python",
   "name": "python",
   "nbconvert_exporter": "python",
   "pygments_lexer": "ipython3",
   "version": "3.13.5"
  }
 },
 "nbformat": 4,
 "nbformat_minor": 5
}
