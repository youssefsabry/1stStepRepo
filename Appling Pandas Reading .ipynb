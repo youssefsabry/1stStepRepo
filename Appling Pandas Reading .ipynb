{
 "cells": [
  {
   "cell_type": "code",
   "execution_count": 1,
   "id": "a7342a41-a2ab-463d-941e-40c14570f2ea",
   "metadata": {},
   "outputs": [],
   "source": [
    "import pandas as pd"
   ]
  },
  {
   "cell_type": "code",
   "execution_count": 2,
   "id": "6bac1d04-1a06-4402-a9a2-ab8d10767bf2",
   "metadata": {},
   "outputs": [
    {
     "name": "stdout",
     "output_type": "stream",
     "text": [
      "0    10\n",
      "1    20\n",
      "2    30\n",
      "3    40\n",
      "4    50\n",
      "dtype: int64\n"
     ]
    }
   ],
   "source": [
    "# Create a Series from a list\n",
    "data = [10, 20, 30, 40, 50]\n",
    "s = pd.Series(data)\n",
    "\n",
    "print(s)"
   ]
  },
  {
   "cell_type": "code",
   "execution_count": 8,
   "id": "45ea0bc2-e479-4d89-8708-13272ae10ef3",
   "metadata": {},
   "outputs": [
    {
     "name": "stdout",
     "output_type": "stream",
     "text": [
      "30\n",
      "40\n",
      "1    20\n",
      "2    30\n",
      "3    40\n",
      "dtype: int64\n",
      "1    20\n",
      "2    30\n",
      "3    40\n",
      "dtype: int64\n"
     ]
    }
   ],
   "source": [
    "print(s[2])\n",
    "print(s.iloc[3])\n",
    "print(s[1:4])\n",
    "print(s.iloc[1:4])"
   ]
  },
  {
   "cell_type": "code",
   "execution_count": 35,
   "id": "b7cee7ae-ce70-4acf-a543-b497d40e2fbd",
   "metadata": {},
   "outputs": [
    {
     "name": "stdout",
     "output_type": "stream",
     "text": [
      "[10 20 30 40 50]\n",
      "RangeIndex(start=0, stop=5, step=1)\n",
      "(5,)\n",
      "5\n",
      "10\n",
      "50\n",
      "150\n",
      "30.0\n",
      "5 ,  [10 20 30 40 50]\n",
      "0    10\n",
      "1    20\n",
      "2    30\n",
      "3    40\n",
      "4    50\n",
      "dtype: int64\n",
      "0    10\n",
      "1    20\n",
      "2    30\n",
      "3    40\n",
      "4    50\n",
      "dtype: int64\n",
      "0    False\n",
      "1    False\n",
      "2    False\n",
      "3    False\n",
      "4    False\n",
      "dtype: bool\n"
     ]
    }
   ],
   "source": [
    "print(s.values)\n",
    "print(s.index)\n",
    "print(s.shape)\n",
    "print(s.size)\n",
    "print(s.min())\n",
    "print(s.max())\n",
    "print(s.sum())\n",
    "print(s.mean())\n",
    "print(s.nunique(), \", \", s.unique())\n",
    "print(s.sort_index())\n",
    "print(s.sort_values())\n",
    "print(s.isnull())\n",
    "#print(s.apply())"
   ]
  },
  {
   "cell_type": "code",
   "execution_count": 36,
   "id": "4f6cd4c8-4442-4277-b670-6195a0525c93",
   "metadata": {},
   "outputs": [
    {
     "name": "stdout",
     "output_type": "stream",
     "text": [
      "      Name  Age           City\n",
      "0    Alice   25       New York\n",
      "1      Bob   30  San Francisco\n",
      "2  Charlie   35    Los Angeles\n",
      "3    David   28        Chicago\n"
     ]
    }
   ],
   "source": [
    "# Creating a DataFrame from a dictionary\n",
    "data = {'Name': ['Alice', 'Bob', 'Charlie', 'David'],\n",
    "        'Age': [25, 30, 35, 28],\n",
    "        'City': ['New York', 'San Francisco', 'Los Angeles', 'Chicago']}\n",
    "df = pd.DataFrame(data)\n",
    "print(df)"
   ]
  },
  {
   "cell_type": "code",
   "execution_count": 37,
   "id": "9065ff29-b9ba-491a-b0df-1a2e7adb347f",
   "metadata": {},
   "outputs": [
    {
     "name": "stdout",
     "output_type": "stream",
     "text": [
      "0      Alice\n",
      "1        Bob\n",
      "2    Charlie\n",
      "3      David\n",
      "Name: Name, dtype: object\n"
     ]
    }
   ],
   "source": [
    "print(df['Name'])"
   ]
  },
  {
   "cell_type": "code",
   "execution_count": 38,
   "id": "49c387c1-aead-4ae7-8bc3-015b4b2d5cf3",
   "metadata": {},
   "outputs": [
    {
     "name": "stdout",
     "output_type": "stream",
     "text": [
      "Name        Charlie\n",
      "Age              35\n",
      "City    Los Angeles\n",
      "Name: 2, dtype: object\n"
     ]
    }
   ],
   "source": [
    "print(df.iloc[2])"
   ]
  },
  {
   "cell_type": "code",
   "execution_count": 39,
   "id": "c1f8be6a-48fa-4b81-8bd4-3bb00d96ee53",
   "metadata": {},
   "outputs": [
    {
     "name": "stdout",
     "output_type": "stream",
     "text": [
      "Name        Charlie\n",
      "Age              35\n",
      "City    Los Angeles\n",
      "Name: 2, dtype: object\n"
     ]
    }
   ],
   "source": [
    "print(df.loc[2])"
   ]
  },
  {
   "cell_type": "code",
   "execution_count": 41,
   "id": "8afadf22-8142-491f-99ce-d0f03c30cca5",
   "metadata": {},
   "outputs": [
    {
     "name": "stdout",
     "output_type": "stream",
     "text": [
      "      Name  Age\n",
      "0    Alice   25\n",
      "1      Bob   30\n",
      "2  Charlie   35\n",
      "3    David   28\n"
     ]
    }
   ],
   "source": [
    "print(df[['Name', 'Age']])"
   ]
  },
  {
   "cell_type": "code",
   "execution_count": 42,
   "id": "12c2ce04-4d14-4572-be06-1d745d5a5ea5",
   "metadata": {},
   "outputs": [
    {
     "name": "stdout",
     "output_type": "stream",
     "text": [
      "      Name  Age           City\n",
      "1      Bob   30  San Francisco\n",
      "2  Charlie   35    Los Angeles\n"
     ]
    }
   ],
   "source": [
    "print(df[1:3])"
   ]
  },
  {
   "cell_type": "code",
   "execution_count": 45,
   "id": "46d2c3b1-6b0a-461b-99b9-b31bfd97a110",
   "metadata": {},
   "outputs": [
    {
     "name": "stdout",
     "output_type": "stream",
     "text": [
      "[25 30 35 28]\n",
      "4\n"
     ]
    }
   ],
   "source": [
    "print(df['Age'].unique())\n",
    "print(df['Age'].nunique())"
   ]
  },
  {
   "cell_type": "code",
   "execution_count": 46,
   "id": "f251ed45-7f50-4a3e-aafc-887320b80278",
   "metadata": {},
   "outputs": [
    {
     "name": "stdout",
     "output_type": "stream",
     "text": [
      "0    False\n",
      "1     True\n",
      "2     True\n",
      "3     True\n",
      "Name: Age, dtype: bool\n"
     ]
    }
   ],
   "source": [
    "print(df['Age'] > 25)"
   ]
  },
  {
   "cell_type": "code",
   "execution_count": 47,
   "id": "64eb0a96-6211-4df7-b589-bddec9d9c173",
   "metadata": {},
   "outputs": [],
   "source": [
    "df.to_csv('trading_data.csv', index=False)"
   ]
  },
  {
   "cell_type": "code",
   "execution_count": 51,
   "id": "004ae0cf-2b06-49b9-8213-f29fca902853",
   "metadata": {},
   "outputs": [
    {
     "name": "stdout",
     "output_type": "stream",
     "text": [
      "(4, 3)\n",
      "<class 'pandas.core.frame.DataFrame'>\n",
      "RangeIndex: 4 entries, 0 to 3\n",
      "Data columns (total 3 columns):\n",
      " #   Column  Non-Null Count  Dtype \n",
      "---  ------  --------------  ----- \n",
      " 0   Name    4 non-null      object\n",
      " 1   Age     4 non-null      int64 \n",
      " 2   City    4 non-null      object\n",
      "dtypes: int64(1), object(2)\n",
      "memory usage: 228.0+ bytes\n",
      "None\n",
      "             Age\n",
      "count   4.000000\n",
      "mean   29.500000\n",
      "std     4.203173\n",
      "min    25.000000\n",
      "25%    27.250000\n",
      "50%    29.000000\n",
      "75%    31.250000\n",
      "max    35.000000\n"
     ]
    }
   ],
   "source": [
    "print(df.shape)\n",
    "print(df.info())\n",
    "print(df.describe())"
   ]
  },
  {
   "cell_type": "code",
   "execution_count": 83,
   "id": "fd60dcdc-02a5-415c-8aa4-56d6486c979a",
   "metadata": {},
   "outputs": [
    {
     "name": "stdout",
     "output_type": "stream",
     "text": [
      "    Name  Age           City\n",
      "0  Alice   25       New York\n",
      "1    Bob   30  San Francisco\n",
      "      Name  Age         City\n",
      "2  Charlie   35  Los Angeles\n",
      "3    David   28      Chicago \n",
      "\n",
      "\n",
      "29.5 118 25 35\n",
      "      Name  Age           City\n",
      "0    Alice   25       New York\n",
      "3    David   28        Chicago\n",
      "1      Bob   30  San Francisco\n",
      "2  Charlie   35    Los Angeles\n"
     ]
    }
   ],
   "source": [
    "print(df.head(2))\n",
    "print(df.tail(2), \"\\n\\n\")\n",
    "print(df['Age'].mean(), df['Age'].sum(), df['Age'].min(), df['Age'].max())\n",
    "print(df.sort_values(by='Age'))\n",
    "#print(df.groupby(by = df[0]))"
   ]
  },
  {
   "cell_type": "code",
   "execution_count": null,
   "id": "e38c70c4-a64b-4f42-a296-20a2d54766ae",
   "metadata": {},
   "outputs": [],
   "source": []
  }
 ],
 "metadata": {
  "kernelspec": {
   "display_name": "Python 3 (ipykernel)",
   "language": "python",
   "name": "python3"
  },
  "language_info": {
   "codemirror_mode": {
    "name": "ipython",
    "version": 3
   },
   "file_extension": ".py",
   "mimetype": "text/x-python",
   "name": "python",
   "nbconvert_exporter": "python",
   "pygments_lexer": "ipython3",
   "version": "3.12.8"
  }
 },
 "nbformat": 4,
 "nbformat_minor": 5
}
