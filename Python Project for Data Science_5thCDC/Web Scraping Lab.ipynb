{
 "cells": [
  {
   "cell_type": "code",
   "execution_count": 1,
   "id": "9b81ce0d-8c36-48c3-a7bc-fb43a79c1d42",
   "metadata": {
    "scrolled": true
   },
   "outputs": [
    {
     "name": "stdout",
     "output_type": "stream",
     "text": [
      "3 channel Terms of Service accepted\n",
      "Channels:\n",
      " - defaults\n",
      "Platform: win-64\n",
      "Collecting package metadata (repodata.json): done\n",
      "Solving environment: done\n",
      "\n",
      "# All requested packages already installed.\n",
      "\n"
     ]
    },
    {
     "name": "stderr",
     "output_type": "stream",
     "text": [
      "\n",
      "\n",
      "==> WARNING: A newer version of conda exists. <==\n",
      "    current version: 25.5.1\n",
      "    latest version: 25.7.0\n",
      "\n",
      "Please update conda by running\n",
      "\n",
      "    $ conda update -n base -c defaults conda\n",
      "\n",
      "\n"
     ]
    },
    {
     "name": "stdout",
     "output_type": "stream",
     "text": [
      "Collecting lxml==4.6.4\n",
      "  Using cached lxml-4.6.4.tar.gz (3.2 MB)\n",
      "  Preparing metadata (setup.py): started\n",
      "  Preparing metadata (setup.py): finished with status 'done'\n",
      "Building wheels for collected packages: lxml\n",
      "  Building wheel for lxml (setup.py): started\n",
      "  Building wheel for lxml (setup.py): finished with status 'error'\n",
      "  Running setup.py clean for lxml\n",
      "Failed to build lxml\n"
     ]
    },
    {
     "name": "stderr",
     "output_type": "stream",
     "text": [
      "  DEPRECATION: Building 'lxml' using the legacy setup.py bdist_wheel mechanism, which will be removed in a future version. pip 25.3 will enforce this behaviour change. A possible replacement is to use the standardized build interface by setting the `--use-pep517` option, (possibly combined with `--no-build-isolation`), or adding a `pyproject.toml` file to the source tree of 'lxml'. Discussion can be found at https://github.com/pypa/pip/issues/6334\n",
      "  error: subprocess-exited-with-error\n",
      "  \n",
      "  × python setup.py bdist_wheel did not run successfully.\n",
      "  │ exit code: 1\n",
      "  ╰─> [86 lines of output]\n",
      "      Building lxml version 4.6.4.\n",
      "      C:\\Users\\youss\\AppData\\Local\\Temp\\pip-install-oniaps56\\lxml_55841fade0504d7ca25b03eb7ad4cfa1\\setup.py:67: DeprecationWarning: pkg_resources is deprecated as an API. See https://setuptools.pypa.io/en/latest/pkg_resources.html\n",
      "        import pkg_resources\n",
      "      Building without Cython.\n",
      "      Building against pre-built libxml2 andl libxslt libraries\n",
      "      C:\\Users\\youss\\anaconda3\\envs\\RP_Env\\Lib\\site-packages\\setuptools\\dist.py:759: SetuptoolsDeprecationWarning: License classifiers are deprecated.\n",
      "      !!\n",
      "      \n",
      "              ********************************************************************************\n",
      "              Please consider removing the following classifiers in favor of a SPDX license expression:\n",
      "      \n",
      "              License :: OSI Approved :: BSD License\n",
      "      \n",
      "              See https://packaging.python.org/en/latest/guides/writing-pyproject-toml/#license for details.\n",
      "              ********************************************************************************\n",
      "      \n",
      "      !!\n",
      "        self._finalize_license_expression()\n",
      "      running bdist_wheel\n",
      "      running build\n",
      "      running build_py\n",
      "      creating build\\lib.win-amd64-cpython-313\\lxml\n",
      "      copying src\\lxml\\builder.py -> build\\lib.win-amd64-cpython-313\\lxml\n",
      "      copying src\\lxml\\cssselect.py -> build\\lib.win-amd64-cpython-313\\lxml\n",
      "      copying src\\lxml\\doctestcompare.py -> build\\lib.win-amd64-cpython-313\\lxml\n",
      "      copying src\\lxml\\ElementInclude.py -> build\\lib.win-amd64-cpython-313\\lxml\n",
      "      copying src\\lxml\\pyclasslookup.py -> build\\lib.win-amd64-cpython-313\\lxml\n",
      "      copying src\\lxml\\sax.py -> build\\lib.win-amd64-cpython-313\\lxml\n",
      "      copying src\\lxml\\usedoctest.py -> build\\lib.win-amd64-cpython-313\\lxml\n",
      "      copying src\\lxml\\_elementpath.py -> build\\lib.win-amd64-cpython-313\\lxml\n",
      "      copying src\\lxml\\__init__.py -> build\\lib.win-amd64-cpython-313\\lxml\n",
      "      creating build\\lib.win-amd64-cpython-313\\lxml\\includes\n",
      "      copying src\\lxml\\includes\\__init__.py -> build\\lib.win-amd64-cpython-313\\lxml\\includes\n",
      "      creating build\\lib.win-amd64-cpython-313\\lxml\\html\n",
      "      copying src\\lxml\\html\\builder.py -> build\\lib.win-amd64-cpython-313\\lxml\\html\n",
      "      copying src\\lxml\\html\\clean.py -> build\\lib.win-amd64-cpython-313\\lxml\\html\n",
      "      copying src\\lxml\\html\\defs.py -> build\\lib.win-amd64-cpython-313\\lxml\\html\n",
      "      copying src\\lxml\\html\\diff.py -> build\\lib.win-amd64-cpython-313\\lxml\\html\n",
      "      copying src\\lxml\\html\\ElementSoup.py -> build\\lib.win-amd64-cpython-313\\lxml\\html\n",
      "      copying src\\lxml\\html\\formfill.py -> build\\lib.win-amd64-cpython-313\\lxml\\html\n",
      "      copying src\\lxml\\html\\html5parser.py -> build\\lib.win-amd64-cpython-313\\lxml\\html\n",
      "      copying src\\lxml\\html\\soupparser.py -> build\\lib.win-amd64-cpython-313\\lxml\\html\n",
      "      copying src\\lxml\\html\\usedoctest.py -> build\\lib.win-amd64-cpython-313\\lxml\\html\n",
      "      copying src\\lxml\\html\\_diffcommand.py -> build\\lib.win-amd64-cpython-313\\lxml\\html\n",
      "      copying src\\lxml\\html\\_html5builder.py -> build\\lib.win-amd64-cpython-313\\lxml\\html\n",
      "      copying src\\lxml\\html\\_setmixin.py -> build\\lib.win-amd64-cpython-313\\lxml\\html\n",
      "      copying src\\lxml\\html\\__init__.py -> build\\lib.win-amd64-cpython-313\\lxml\\html\n",
      "      creating build\\lib.win-amd64-cpython-313\\lxml\\isoschematron\n",
      "      copying src\\lxml\\isoschematron\\__init__.py -> build\\lib.win-amd64-cpython-313\\lxml\\isoschematron\n",
      "      copying src\\lxml\\etree.h -> build\\lib.win-amd64-cpython-313\\lxml\n",
      "      copying src\\lxml\\etree_api.h -> build\\lib.win-amd64-cpython-313\\lxml\n",
      "      copying src\\lxml\\lxml.etree.h -> build\\lib.win-amd64-cpython-313\\lxml\n",
      "      copying src\\lxml\\lxml.etree_api.h -> build\\lib.win-amd64-cpython-313\\lxml\n",
      "      copying src\\lxml\\includes\\c14n.pxd -> build\\lib.win-amd64-cpython-313\\lxml\\includes\n",
      "      copying src\\lxml\\includes\\config.pxd -> build\\lib.win-amd64-cpython-313\\lxml\\includes\n",
      "      copying src\\lxml\\includes\\dtdvalid.pxd -> build\\lib.win-amd64-cpython-313\\lxml\\includes\n",
      "      copying src\\lxml\\includes\\etreepublic.pxd -> build\\lib.win-amd64-cpython-313\\lxml\\includes\n",
      "      copying src\\lxml\\includes\\htmlparser.pxd -> build\\lib.win-amd64-cpython-313\\lxml\\includes\n",
      "      copying src\\lxml\\includes\\relaxng.pxd -> build\\lib.win-amd64-cpython-313\\lxml\\includes\n",
      "      copying src\\lxml\\includes\\schematron.pxd -> build\\lib.win-amd64-cpython-313\\lxml\\includes\n",
      "      copying src\\lxml\\includes\\tree.pxd -> build\\lib.win-amd64-cpython-313\\lxml\\includes\n",
      "      copying src\\lxml\\includes\\uri.pxd -> build\\lib.win-amd64-cpython-313\\lxml\\includes\n",
      "      copying src\\lxml\\includes\\xinclude.pxd -> build\\lib.win-amd64-cpython-313\\lxml\\includes\n",
      "      copying src\\lxml\\includes\\xmlerror.pxd -> build\\lib.win-amd64-cpython-313\\lxml\\includes\n",
      "      copying src\\lxml\\includes\\xmlparser.pxd -> build\\lib.win-amd64-cpython-313\\lxml\\includes\n",
      "      copying src\\lxml\\includes\\xmlschema.pxd -> build\\lib.win-amd64-cpython-313\\lxml\\includes\n",
      "      copying src\\lxml\\includes\\xpath.pxd -> build\\lib.win-amd64-cpython-313\\lxml\\includes\n",
      "      copying src\\lxml\\includes\\xslt.pxd -> build\\lib.win-amd64-cpython-313\\lxml\\includes\n",
      "      copying src\\lxml\\includes\\__init__.pxd -> build\\lib.win-amd64-cpython-313\\lxml\\includes\n",
      "      copying src\\lxml\\includes\\etree_defs.h -> build\\lib.win-amd64-cpython-313\\lxml\\includes\n",
      "      copying src\\lxml\\includes\\lxml-version.h -> build\\lib.win-amd64-cpython-313\\lxml\\includes\n",
      "      creating build\\lib.win-amd64-cpython-313\\lxml\\isoschematron\\resources\\rng\n",
      "      copying src\\lxml\\isoschematron\\resources\\rng\\iso-schematron.rng -> build\\lib.win-amd64-cpython-313\\lxml\\isoschematron\\resources\\rng\n",
      "      creating build\\lib.win-amd64-cpython-313\\lxml\\isoschematron\\resources\\xsl\n",
      "      copying src\\lxml\\isoschematron\\resources\\xsl\\RNG2Schtrn.xsl -> build\\lib.win-amd64-cpython-313\\lxml\\isoschematron\\resources\\xsl\n",
      "      copying src\\lxml\\isoschematron\\resources\\xsl\\XSD2Schtrn.xsl -> build\\lib.win-amd64-cpython-313\\lxml\\isoschematron\\resources\\xsl\n",
      "      creating build\\lib.win-amd64-cpython-313\\lxml\\isoschematron\\resources\\xsl\\iso-schematron-xslt1\n",
      "      copying src\\lxml\\isoschematron\\resources\\xsl\\iso-schematron-xslt1\\iso_abstract_expand.xsl -> build\\lib.win-amd64-cpython-313\\lxml\\isoschematron\\resources\\xsl\\iso-schematron-xslt1\n",
      "      copying src\\lxml\\isoschematron\\resources\\xsl\\iso-schematron-xslt1\\iso_dsdl_include.xsl -> build\\lib.win-amd64-cpython-313\\lxml\\isoschematron\\resources\\xsl\\iso-schematron-xslt1\n",
      "      copying src\\lxml\\isoschematron\\resources\\xsl\\iso-schematron-xslt1\\iso_schematron_message.xsl -> build\\lib.win-amd64-cpython-313\\lxml\\isoschematron\\resources\\xsl\\iso-schematron-xslt1\n",
      "      copying src\\lxml\\isoschematron\\resources\\xsl\\iso-schematron-xslt1\\iso_schematron_skeleton_for_xslt1.xsl -> build\\lib.win-amd64-cpython-313\\lxml\\isoschematron\\resources\\xsl\\iso-schematron-xslt1\n",
      "      copying src\\lxml\\isoschematron\\resources\\xsl\\iso-schematron-xslt1\\iso_svrl_for_xslt1.xsl -> build\\lib.win-amd64-cpython-313\\lxml\\isoschematron\\resources\\xsl\\iso-schematron-xslt1\n",
      "      copying src\\lxml\\isoschematron\\resources\\xsl\\iso-schematron-xslt1\\readme.txt -> build\\lib.win-amd64-cpython-313\\lxml\\isoschematron\\resources\\xsl\\iso-schematron-xslt1\n",
      "      running build_ext\n",
      "      building 'lxml.etree' extension\n",
      "      error: Microsoft Visual C++ 14.0 or greater is required. Get it with \"Microsoft C++ Build Tools\": https://visualstudio.microsoft.com/visual-cpp-build-tools/\n",
      "      [end of output]\n",
      "  \n",
      "  note: This error originates from a subprocess, and is likely not a problem with pip.\n",
      "  ERROR: Failed building wheel for lxml\n",
      "ERROR: Failed to build installable wheels for some pyproject.toml based projects (lxml)\n"
     ]
    },
    {
     "name": "stdout",
     "output_type": "stream",
     "text": [
      "3 channel Terms of Service accepted\n",
      "Channels:\n",
      " - defaults\n",
      "Platform: win-64\n",
      "Collecting package metadata (repodata.json): done\n",
      "Solving environment: done\n",
      "\n",
      "# All requested packages already installed.\n",
      "\n"
     ]
    },
    {
     "name": "stderr",
     "output_type": "stream",
     "text": [
      "\n",
      "\n",
      "==> WARNING: A newer version of conda exists. <==\n",
      "    current version: 25.5.1\n",
      "    latest version: 25.7.0\n",
      "\n",
      "Please update conda by running\n",
      "\n",
      "    $ conda update -n base -c defaults conda\n",
      "\n",
      "\n"
     ]
    },
    {
     "name": "stdout",
     "output_type": "stream",
     "text": [
      "Requirement already satisfied: pandas in c:\\users\\youss\\anaconda3\\envs\\rp_env\\lib\\site-packages (2.3.2)\n",
      "Requirement already satisfied: numpy>=1.26.0 in c:\\users\\youss\\anaconda3\\envs\\rp_env\\lib\\site-packages (from pandas) (2.3.3)\n",
      "Requirement already satisfied: python-dateutil>=2.8.2 in c:\\users\\youss\\anaconda3\\envs\\rp_env\\lib\\site-packages (from pandas) (2.9.0.post0)\n",
      "Requirement already satisfied: pytz>=2020.1 in c:\\users\\youss\\anaconda3\\envs\\rp_env\\lib\\site-packages (from pandas) (2025.2)\n",
      "Requirement already satisfied: tzdata>=2022.7 in c:\\users\\youss\\anaconda3\\envs\\rp_env\\lib\\site-packages (from pandas) (2025.2)\n",
      "Requirement already satisfied: six>=1.5 in c:\\users\\youss\\anaconda3\\envs\\rp_env\\lib\\site-packages (from python-dateutil>=2.8.2->pandas) (1.17.0)\n"
     ]
    }
   ],
   "source": [
    "!conda install bs4==4.10.0 -y\n",
    "!pip install lxml==4.6.4\n",
    "!conda install html5lib==1.1 -y\n",
    "!pip install pandas\n",
    "# !pip install requests==2.26.0"
   ]
  },
  {
   "cell_type": "code",
   "execution_count": 2,
   "id": "08f51059-400d-48bc-8220-a5f5dc60b086",
   "metadata": {},
   "outputs": [
    {
     "name": "stdout",
     "output_type": "stream",
     "text": [
      "Requirement already satisfied: beautifulsoup4 in c:\\users\\youss\\anaconda3\\envs\\rp_env\\lib\\site-packages (4.13.5)\n",
      "Requirement already satisfied: soupsieve>1.2 in c:\\users\\youss\\anaconda3\\envs\\rp_env\\lib\\site-packages (from beautifulsoup4) (2.5)\n",
      "Requirement already satisfied: typing-extensions>=4.0.0 in c:\\users\\youss\\anaconda3\\envs\\rp_env\\lib\\site-packages (from beautifulsoup4) (4.15.0)\n",
      "Note: you may need to restart the kernel to use updated packages.\n"
     ]
    }
   ],
   "source": [
    "pip install --upgrade beautifulsoup4"
   ]
  },
  {
   "cell_type": "code",
   "execution_count": 3,
   "id": "e99d39dc-9f22-43e5-a0f8-3834bec764ce",
   "metadata": {},
   "outputs": [
    {
     "name": "stdout",
     "output_type": "stream",
     "text": [
      "Requirement already satisfied: pandas in c:\\users\\youss\\anaconda3\\envs\\rp_env\\lib\\site-packages (2.3.2)\n",
      "Requirement already satisfied: numpy>=1.26.0 in c:\\users\\youss\\anaconda3\\envs\\rp_env\\lib\\site-packages (from pandas) (2.3.3)\n",
      "Requirement already satisfied: python-dateutil>=2.8.2 in c:\\users\\youss\\anaconda3\\envs\\rp_env\\lib\\site-packages (from pandas) (2.9.0.post0)\n",
      "Requirement already satisfied: pytz>=2020.1 in c:\\users\\youss\\anaconda3\\envs\\rp_env\\lib\\site-packages (from pandas) (2025.2)\n",
      "Requirement already satisfied: tzdata>=2022.7 in c:\\users\\youss\\anaconda3\\envs\\rp_env\\lib\\site-packages (from pandas) (2025.2)\n",
      "Requirement already satisfied: six>=1.5 in c:\\users\\youss\\anaconda3\\envs\\rp_env\\lib\\site-packages (from python-dateutil>=2.8.2->pandas) (1.17.0)\n",
      "Note: you may need to restart the kernel to use updated packages.\n"
     ]
    }
   ],
   "source": [
    "pip install --upgrade pandas"
   ]
  },
  {
   "cell_type": "code",
   "execution_count": 75,
   "id": "a87d2484-7b96-40fd-a127-e4d5def338de",
   "metadata": {},
   "outputs": [],
   "source": [
    "import warnings\n",
    "warnings.simplefilter(\"ignore\")"
   ]
  },
  {
   "cell_type": "code",
   "execution_count": 74,
   "id": "529b57ca",
   "metadata": {},
   "outputs": [],
   "source": [
    "from bs4 import BeautifulSoup\n",
    "import requests"
   ]
  },
  {
   "cell_type": "markdown",
   "id": "eb6b5478",
   "metadata": {},
   "source": [
    "## Beautiful Soup Objects"
   ]
  },
  {
   "cell_type": "markdown",
   "id": "d85bd119",
   "metadata": {},
   "source": [
    "Beautiful Soup is a Python library for pulling data out of HTML and XML files, we will focus on HTML files. This is accomplished by representing the HTML as a set of objects with methods used to parse the HTML. We can navigate the HTML as a tree and/or filter out what we are looking for.\n",
    "\n",
    "Consider the following HTML:"
   ]
  },
  {
   "cell_type": "code",
   "execution_count": 8,
   "id": "387a7ee1",
   "metadata": {},
   "outputs": [
    {
     "data": {
      "text/html": [
       "<!DOCTYPE html>\n",
       "<html>\n",
       "<head>\n",
       "<title>Page Title</title>\n",
       "</head>\n",
       "<body>\n",
       "<h3><b id='boldest'>Lebron James</b></h3>\n",
       "<p> Salary: $ 92,000,000 </p>\n",
       "<h3> Stephen Curry</h3>\n",
       "<p> Salary: $85,000, 000 </p>\n",
       "<h3> Kevin Durant </h3>\n",
       "<p> Salary: $73,200, 000</p>\n",
       "</body>\n",
       "</html>\n"
      ],
      "text/plain": [
       "<IPython.core.display.HTML object>"
      ]
     },
     "metadata": {},
     "output_type": "display_data"
    }
   ],
   "source": [
    "%%html\n",
    "<!DOCTYPE html>\n",
    "<html>\n",
    "<head>\n",
    "<title>Page Title</title>\n",
    "</head>\n",
    "<body>\n",
    "<h3><b id='boldest'>Lebron James</b></h3>\n",
    "<p> Salary: $ 92,000,000 </p>\n",
    "<h3> Stephen Curry</h3>\n",
    "<p> Salary: $85,000, 000 </p>\n",
    "<h3> Kevin Durant </h3>\n",
    "<p> Salary: $73,200, 000</p>\n",
    "</body>\n",
    "</html>"
   ]
  },
  {
   "cell_type": "markdown",
   "id": "c78715f9",
   "metadata": {},
   "source": [
    "We can store it as a string in the variable HTML:"
   ]
  },
  {
   "cell_type": "code",
   "execution_count": 7,
   "id": "3968105e",
   "metadata": {},
   "outputs": [],
   "source": [
    "html=\"<!DOCTYPE html><html><head><title>Page Title</title></head><body><h3><b id='boldest'>Lebron James</b></h3><p> Salary: $ 92,000,000 </p><h3> Stephen Curry</h3><p> Salary: $85,000, 000 </p><h3> Kevin Durant </h3><p> Salary: $73,200, 000</p></body></html>\""
   ]
  },
  {
   "cell_type": "markdown",
   "id": "b7553384",
   "metadata": {},
   "source": [
    "To parse a document, pass it into the BeautifulSoup constructor, the BeautifulSoup object, which represents the document as a nested data structure:"
   ]
  },
  {
   "cell_type": "code",
   "execution_count": 10,
   "id": "42658da9",
   "metadata": {},
   "outputs": [],
   "source": [
    "soup = BeautifulSoup(html, 'html.parser')"
   ]
  },
  {
   "cell_type": "markdown",
   "id": "bdf0c6f9",
   "metadata": {},
   "source": [
    "First, the document is converted to Unicode, (similar to ASCII), and HTML entities are converted to Unicode characters. Beautiful Soup transforms a complex HTML document into a complex tree of Python objects. The BeautifulSoup object can create other types of objects. In this lab, we will cover BeautifulSoup and Tag objects that for the purposes of this lab are identical, and NavigableString objects.\n",
    "<br><br>We can use the method prettify() to display the HTML in the nested structure:"
   ]
  },
  {
   "cell_type": "code",
   "execution_count": 12,
   "id": "72450f48",
   "metadata": {},
   "outputs": [
    {
     "name": "stdout",
     "output_type": "stream",
     "text": [
      "<!DOCTYPE html>\n",
      "<html>\n",
      " <head>\n",
      "  <title>\n",
      "   Page Title\n",
      "  </title>\n",
      " </head>\n",
      " <body>\n",
      "  <h3>\n",
      "   <b id=\"boldest\">\n",
      "    Lebron James\n",
      "   </b>\n",
      "  </h3>\n",
      "  <p>\n",
      "   Salary: $ 92,000,000\n",
      "  </p>\n",
      "  <h3>\n",
      "   Stephen Curry\n",
      "  </h3>\n",
      "  <p>\n",
      "   Salary: $85,000, 000\n",
      "  </p>\n",
      "  <h3>\n",
      "   Kevin Durant\n",
      "  </h3>\n",
      "  <p>\n",
      "   Salary: $73,200, 000\n",
      "  </p>\n",
      " </body>\n",
      "</html>\n",
      "\n"
     ]
    }
   ],
   "source": [
    "print(soup.prettify())"
   ]
  },
  {
   "cell_type": "markdown",
   "id": "b5ea1791",
   "metadata": {},
   "source": [
    "## Tags"
   ]
  },
  {
   "cell_type": "markdown",
   "id": "5a8bad9a",
   "metadata": {},
   "source": [
    "Let's say we want the title of the page and the name of the top paid player we can use the Tag. The Tag object corresponds to an HTML tag in the original document, for example, the tag title."
   ]
  },
  {
   "cell_type": "code",
   "execution_count": 15,
   "id": "8452ab0e",
   "metadata": {},
   "outputs": [
    {
     "name": "stdout",
     "output_type": "stream",
     "text": [
      "Tag object: <title>Page Title</title>\n",
      "Tag object type: <class 'bs4.element.Tag'>\n"
     ]
    }
   ],
   "source": [
    "tag_object = soup.title\n",
    "print(f'Tag object: {tag_object}')\n",
    "\n",
    "# we can see the tag type bs4.element.Tag\n",
    "print(f'Tag object type: {type(tag_object)}')"
   ]
  },
  {
   "cell_type": "markdown",
   "id": "2a672204",
   "metadata": {},
   "source": [
    "If there is more than one Tag with the same name, the first element with that Tag name is called, this corresponds to the most paid player:"
   ]
  },
  {
   "cell_type": "code",
   "execution_count": 16,
   "id": "d002e2c7",
   "metadata": {},
   "outputs": [
    {
     "data": {
      "text/plain": [
       "<h3><b id=\"boldest\">Lebron James</b></h3>"
      ]
     },
     "execution_count": 16,
     "metadata": {},
     "output_type": "execute_result"
    }
   ],
   "source": [
    "tag_object = soup.h3\n",
    "tag_object"
   ]
  },
  {
   "cell_type": "markdown",
   "id": "12728672",
   "metadata": {},
   "source": [
    "Enclosed in the bold attribute b, it helps to use the tree representation. We can navigate down the tree using the child attribute to get the name."
   ]
  },
  {
   "cell_type": "markdown",
   "id": "1a2e18cc",
   "metadata": {},
   "source": [
    "### Children, Parents, and Siblings"
   ]
  },
  {
   "cell_type": "markdown",
   "id": "1f0216a8",
   "metadata": {},
   "source": [
    "As stated above the Tag object is a tree of objects we can access the child of the tag or navigate down the branch as follows:"
   ]
  },
  {
   "cell_type": "code",
   "execution_count": 17,
   "id": "b4e7946b",
   "metadata": {},
   "outputs": [
    {
     "data": {
      "text/plain": [
       "<b id=\"boldest\">Lebron James</b>"
      ]
     },
     "execution_count": 17,
     "metadata": {},
     "output_type": "execute_result"
    }
   ],
   "source": [
    "tag_child = tag_object.b\n",
    "tag_child"
   ]
  },
  {
   "cell_type": "markdown",
   "id": "8e810a03",
   "metadata": {},
   "source": [
    "You can access the parent with the <code> parent</code>"
   ]
  },
  {
   "cell_type": "code",
   "execution_count": 19,
   "id": "21dee60f",
   "metadata": {},
   "outputs": [
    {
     "data": {
      "text/plain": [
       "<h3><b id=\"boldest\">Lebron James</b></h3>"
      ]
     },
     "execution_count": 19,
     "metadata": {},
     "output_type": "execute_result"
    }
   ],
   "source": [
    "tag_parent = tag_child.parent\n",
    "tag_parent"
   ]
  },
  {
   "cell_type": "markdown",
   "id": "4506a42e",
   "metadata": {},
   "source": [
    "this is identical to"
   ]
  },
  {
   "cell_type": "code",
   "execution_count": 20,
   "id": "afc6d37d",
   "metadata": {},
   "outputs": [
    {
     "data": {
      "text/plain": [
       "<h3><b id=\"boldest\">Lebron James</b></h3>"
      ]
     },
     "execution_count": 20,
     "metadata": {},
     "output_type": "execute_result"
    }
   ],
   "source": [
    "tag_object"
   ]
  },
  {
   "cell_type": "markdown",
   "id": "989fa00f",
   "metadata": {},
   "source": [
    "tag_object parent is the body element."
   ]
  },
  {
   "cell_type": "code",
   "execution_count": 21,
   "id": "b4ee1569",
   "metadata": {},
   "outputs": [
    {
     "data": {
      "text/plain": [
       "<body><h3><b id=\"boldest\">Lebron James</b></h3><p> Salary: $ 92,000,000 </p><h3> Stephen Curry</h3><p> Salary: $85,000, 000 </p><h3> Kevin Durant </h3><p> Salary: $73,200, 000</p></body>"
      ]
     },
     "execution_count": 21,
     "metadata": {},
     "output_type": "execute_result"
    }
   ],
   "source": [
    "tag_object.parent"
   ]
  },
  {
   "cell_type": "markdown",
   "id": "3759725b",
   "metadata": {},
   "source": [
    "<code>tag_object</code> sibling is the <code>paragraph</code> element"
   ]
  },
  {
   "cell_type": "code",
   "execution_count": 24,
   "id": "ea6f33ca",
   "metadata": {},
   "outputs": [
    {
     "data": {
      "text/plain": [
       "<p> Salary: $ 92,000,000 </p>"
      ]
     },
     "execution_count": 24,
     "metadata": {},
     "output_type": "execute_result"
    }
   ],
   "source": [
    "sibling_1 = tag_object.next_sibling\n",
    "sibling_1"
   ]
  },
  {
   "cell_type": "markdown",
   "id": "a1a849d2",
   "metadata": {},
   "source": [
    "`sibling_2` is the `header` element which is also a sibling of both `sibling_1` and `tag_object`"
   ]
  },
  {
   "cell_type": "code",
   "execution_count": 28,
   "id": "232ee148",
   "metadata": {},
   "outputs": [
    {
     "data": {
      "text/plain": [
       "<h3> Stephen Curry</h3>"
      ]
     },
     "execution_count": 28,
     "metadata": {},
     "output_type": "execute_result"
    }
   ],
   "source": [
    "sibling_2=sibling_1.next_sibling\n",
    "sibling_2"
   ]
  },
  {
   "cell_type": "markdown",
   "id": "041c1ceb",
   "metadata": {},
   "source": [
    "Using the object <code>sibling\\_2</code> and the property <code>next_sibling</code> to find the salary of Stephen Curry:"
   ]
  },
  {
   "cell_type": "code",
   "execution_count": 29,
   "id": "b91d046d",
   "metadata": {},
   "outputs": [
    {
     "data": {
      "text/plain": [
       "' Salary: $85,000, 000 '"
      ]
     },
     "execution_count": 29,
     "metadata": {},
     "output_type": "execute_result"
    }
   ],
   "source": [
    "salary = sibling_2.next_sibling.text\n",
    "salary"
   ]
  },
  {
   "cell_type": "markdown",
   "id": "259c9e65",
   "metadata": {},
   "source": [
    "### HTML Attributes"
   ]
  },
  {
   "cell_type": "markdown",
   "id": "8f9be34b",
   "metadata": {},
   "source": [
    "If the tag has attributes, the tag <code>id=\"boldest\"</code> has an attribute <code>id</code> whose value is <code>boldest</code>. You can access a tag’s attributes by treating the tag like a dictionary:\n"
   ]
  },
  {
   "cell_type": "code",
   "execution_count": 30,
   "id": "4f31b77f",
   "metadata": {},
   "outputs": [
    {
     "data": {
      "text/plain": [
       "'boldest'"
      ]
     },
     "execution_count": 30,
     "metadata": {},
     "output_type": "execute_result"
    }
   ],
   "source": [
    "tag_child['id']"
   ]
  },
  {
   "cell_type": "markdown",
   "id": "dc8cd736",
   "metadata": {},
   "source": [
    "You can access that dictionary directly as <code>attrs</code>:\n"
   ]
  },
  {
   "cell_type": "code",
   "execution_count": 31,
   "id": "7032d407",
   "metadata": {},
   "outputs": [
    {
     "data": {
      "text/plain": [
       "{'id': 'boldest'}"
      ]
     },
     "execution_count": 31,
     "metadata": {},
     "output_type": "execute_result"
    }
   ],
   "source": [
    "tag_child.attrs"
   ]
  },
  {
   "cell_type": "markdown",
   "id": "6be8a2f7",
   "metadata": {},
   "source": [
    "You can also work with Multi-valued attribute check out <a href=\"https://www.crummy.com/software/BeautifulSoup/bs4/doc/?utm_medium=Exinfluencer&utm_source=Exinfluencer&utm_content=000026UJ&utm_term=10006555&utm_id=NA-SkillsNetwork-Channel-SkillsNetworkCoursesIBMDeveloperSkillsNetworkPY0220ENSkillsNetwork23455606-2021-01-01\">\\[1]</a> for more.\n"
   ]
  },
  {
   "cell_type": "markdown",
   "id": "60154ee9",
   "metadata": {},
   "source": [
    "We can also obtain the content if the attribute of the <code>tag</code> using the Python <code>get()</code> method."
   ]
  },
  {
   "cell_type": "code",
   "execution_count": 32,
   "id": "e9862051",
   "metadata": {},
   "outputs": [
    {
     "data": {
      "text/plain": [
       "'boldest'"
      ]
     },
     "execution_count": 32,
     "metadata": {},
     "output_type": "execute_result"
    }
   ],
   "source": [
    "tag_child.get('id')"
   ]
  },
  {
   "cell_type": "markdown",
   "id": "07e6ab67",
   "metadata": {},
   "source": [
    "### Navigable String\n"
   ]
  },
  {
   "cell_type": "markdown",
   "id": "bae4b6e1",
   "metadata": {},
   "source": [
    "A string corresponds to a bit of text or content within a tag. Beautiful Soup uses the <code>NavigableString</code> class to contain this text. In our HTML we can obtain the name of the first player by extracting the sting of the <code>Tag</code> object <code>tag_child</code> as follows:\n"
   ]
  },
  {
   "cell_type": "code",
   "execution_count": null,
   "id": "39362823",
   "metadata": {},
   "outputs": [
    {
     "data": {
      "text/plain": [
       "'Lebron James'"
      ]
     },
     "execution_count": 33,
     "metadata": {},
     "output_type": "execute_result"
    }
   ],
   "source": [
    "tag_string = tag_child.string\n",
    "tag_string"
   ]
  },
  {
   "cell_type": "markdown",
   "id": "6869826f",
   "metadata": {},
   "source": [
    "we can verify the type is Navigable String"
   ]
  },
  {
   "cell_type": "code",
   "execution_count": 34,
   "id": "4af0856d",
   "metadata": {},
   "outputs": [
    {
     "data": {
      "text/plain": [
       "bs4.element.NavigableString"
      ]
     },
     "execution_count": 34,
     "metadata": {},
     "output_type": "execute_result"
    }
   ],
   "source": [
    "type(tag_string)"
   ]
  },
  {
   "cell_type": "markdown",
   "id": "33583b7b",
   "metadata": {},
   "source": [
    "A NavigableString is just like a Python string or Unicode string, to be more precise. The main difference is that it also supports some  <code>BeautifulSoup</code> features. We can covert it to sting object in Python:\n"
   ]
  },
  {
   "cell_type": "code",
   "execution_count": 35,
   "id": "b7403e66",
   "metadata": {},
   "outputs": [
    {
     "data": {
      "text/plain": [
       "'Lebron James'"
      ]
     },
     "execution_count": 35,
     "metadata": {},
     "output_type": "execute_result"
    }
   ],
   "source": [
    "unicode_string = str(tag_string)\n",
    "unicode_string"
   ]
  },
  {
   "cell_type": "markdown",
   "id": "55698bd6",
   "metadata": {},
   "source": [
    "<h2 id=\"filter\">Filter</h2>"
   ]
  },
  {
   "cell_type": "markdown",
   "id": "d90e6eaa",
   "metadata": {},
   "source": [
    "Filters allow you to find complex patterns, the simplest filter is a string. In this section we will pass a string to a different filter method and Beautiful Soup will perform a match against that exact string.  Consider the following HTML of rocket launchs:"
   ]
  },
  {
   "cell_type": "code",
   "execution_count": 36,
   "id": "c4adf94b",
   "metadata": {},
   "outputs": [
    {
     "data": {
      "text/html": [
       "<table>\n",
       "  <tr>\n",
       "    <td id='flight' >Flight No</td>\n",
       "    <td>Launch site</td> \n",
       "    <td>Payload mass</td>\n",
       "   </tr>\n",
       "  <tr> \n",
       "    <td>1</td>\n",
       "    <td><a href='https://en.wikipedia.org/wiki/Florida'>Florida</a></td>\n",
       "    <td>300 kg</td>\n",
       "  </tr>\n",
       "  <tr>\n",
       "    <td>2</td>\n",
       "    <td><a href='https://en.wikipedia.org/wiki/Texas'>Texas</a></td>\n",
       "    <td>94 kg</td>\n",
       "  </tr>\n",
       "  <tr>\n",
       "    <td>3</td>\n",
       "    <td><a href='https://en.wikipedia.org/wiki/Florida'>Florida</a> </td>\n",
       "    <td>80 kg</td>\n",
       "  </tr>\n",
       "</table>\n"
      ],
      "text/plain": [
       "<IPython.core.display.HTML object>"
      ]
     },
     "metadata": {},
     "output_type": "display_data"
    }
   ],
   "source": [
    "%%html\n",
    "<table>\n",
    "  <tr>\n",
    "    <td id='flight' >Flight No</td>\n",
    "    <td>Launch site</td> \n",
    "    <td>Payload mass</td>\n",
    "   </tr>\n",
    "  <tr> \n",
    "    <td>1</td>\n",
    "    <td><a href='https://en.wikipedia.org/wiki/Florida'>Florida</a></td>\n",
    "    <td>300 kg</td>\n",
    "  </tr>\n",
    "  <tr>\n",
    "    <td>2</td>\n",
    "    <td><a href='https://en.wikipedia.org/wiki/Texas'>Texas</a></td>\n",
    "    <td>94 kg</td>\n",
    "  </tr>\n",
    "  <tr>\n",
    "    <td>3</td>\n",
    "    <td><a href='https://en.wikipedia.org/wiki/Florida'>Florida</a> </td>\n",
    "    <td>80 kg</td>\n",
    "  </tr>\n",
    "</table>"
   ]
  },
  {
   "cell_type": "markdown",
   "id": "b72a9f62",
   "metadata": {},
   "source": [
    "We can store it as a string in the variable <code>table</code>:\n"
   ]
  },
  {
   "cell_type": "code",
   "execution_count": 37,
   "id": "8fca2a5d",
   "metadata": {},
   "outputs": [],
   "source": [
    "table=\"<table><tr><td id='flight' >Flight No</td><td>Launch site</td><td>Payload mass</td></tr><tr><td>1</td><td><a href='https://en.wikipedia.org/wiki/Florida'>Florida</a></td><td>300 kg</td></tr><tr><td>2</td><td><a href='https://en.wikipedia.org/wiki/Texas'>Texas</a></td><td>94 kg</td></tr><tr><td>3</td><td><a href='https://en.wikipedia.org/wiki/Florida'>Florida</a> </td><td>80 kg</td></tr></table>\""
   ]
  },
  {
   "cell_type": "code",
   "execution_count": 38,
   "id": "862b2a0c",
   "metadata": {},
   "outputs": [],
   "source": [
    "table_bs = BeautifulSoup(table, 'html.parser')"
   ]
  },
  {
   "cell_type": "markdown",
   "id": "a4ea42c3",
   "metadata": {},
   "source": [
    "## find All"
   ]
  },
  {
   "cell_type": "markdown",
   "id": "c14f5af2",
   "metadata": {},
   "source": [
    "The <code>find_all()</code> method looks through a tag’s descendants and retrieves all descendants that match your filters.\n",
    "\n",
    "<p>\n",
    "The Method signature for <code>find_all(name, attrs, recursive, string, limit, **kwargs)<c/ode>\n",
    "</p>\n"
   ]
  },
  {
   "cell_type": "markdown",
   "id": "dc922e56",
   "metadata": {},
   "source": [
    "### Name"
   ]
  },
  {
   "cell_type": "markdown",
   "id": "9afd09f2",
   "metadata": {},
   "source": [
    "When we set the <code>name</code> parameter to a tag name, the method will extract all the tags with that name and its children."
   ]
  },
  {
   "cell_type": "code",
   "execution_count": 41,
   "id": "07ff5f3c",
   "metadata": {},
   "outputs": [
    {
     "data": {
      "text/plain": [
       "[<tr><td id=\"flight\">Flight No</td><td>Launch site</td><td>Payload mass</td></tr>,\n",
       " <tr><td>1</td><td><a href=\"https://en.wikipedia.org/wiki/Florida\">Florida</a></td><td>300 kg</td></tr>,\n",
       " <tr><td>2</td><td><a href=\"https://en.wikipedia.org/wiki/Texas\">Texas</a></td><td>94 kg</td></tr>,\n",
       " <tr><td>3</td><td><a href=\"https://en.wikipedia.org/wiki/Florida\">Florida</a> </td><td>80 kg</td></tr>]"
      ]
     },
     "execution_count": 41,
     "metadata": {},
     "output_type": "execute_result"
    }
   ],
   "source": [
    "table_rows = table_bs.find_all('tr')\n",
    "table_rows"
   ]
  },
  {
   "cell_type": "markdown",
   "id": "db5c04b1",
   "metadata": {},
   "source": [
    "The result is a Python Iterable just like a list, each element is a <code>tag</code> object:\n"
   ]
  },
  {
   "cell_type": "code",
   "execution_count": 44,
   "id": "3bee7564",
   "metadata": {},
   "outputs": [
    {
     "data": {
      "text/plain": [
       "<tr><td id=\"flight\">Flight No</td><td>Launch site</td><td>Payload mass</td></tr>"
      ]
     },
     "execution_count": 44,
     "metadata": {},
     "output_type": "execute_result"
    }
   ],
   "source": [
    "first_row = table_rows[0]\n",
    "first_row"
   ]
  },
  {
   "cell_type": "markdown",
   "id": "de515d56",
   "metadata": {},
   "source": [
    "The type is <code>tag</code>"
   ]
  },
  {
   "cell_type": "code",
   "execution_count": 45,
   "id": "8e053cc3",
   "metadata": {},
   "outputs": [
    {
     "name": "stdout",
     "output_type": "stream",
     "text": [
      "<class 'bs4.element.Tag'>\n"
     ]
    }
   ],
   "source": [
    "print(type(first_row))"
   ]
  },
  {
   "cell_type": "markdown",
   "id": "20eeca3b",
   "metadata": {},
   "source": [
    "we can obtain the child"
   ]
  },
  {
   "cell_type": "code",
   "execution_count": 46,
   "id": "58796da2",
   "metadata": {},
   "outputs": [
    {
     "data": {
      "text/plain": [
       "<td id=\"flight\">Flight No</td>"
      ]
     },
     "execution_count": 46,
     "metadata": {},
     "output_type": "execute_result"
    }
   ],
   "source": [
    "first_row.td"
   ]
  },
  {
   "cell_type": "markdown",
   "id": "63d02780",
   "metadata": {},
   "source": [
    "If we iterate through the list, each element corresponds to a row in the table:\n"
   ]
  },
  {
   "cell_type": "code",
   "execution_count": 47,
   "id": "fb7157d8",
   "metadata": {},
   "outputs": [
    {
     "name": "stdout",
     "output_type": "stream",
     "text": [
      "row 0 is <tr><td id=\"flight\">Flight No</td><td>Launch site</td><td>Payload mass</td></tr>\n",
      "row 1 is <tr><td>1</td><td><a href=\"https://en.wikipedia.org/wiki/Florida\">Florida</a></td><td>300 kg</td></tr>\n",
      "row 2 is <tr><td>2</td><td><a href=\"https://en.wikipedia.org/wiki/Texas\">Texas</a></td><td>94 kg</td></tr>\n",
      "row 3 is <tr><td>3</td><td><a href=\"https://en.wikipedia.org/wiki/Florida\">Florida</a> </td><td>80 kg</td></tr>\n"
     ]
    }
   ],
   "source": [
    "for i,row in enumerate(table_rows):\n",
    "    print(\"row\",i,\"is\",row)"
   ]
  },
  {
   "cell_type": "markdown",
   "id": "b431b6d0",
   "metadata": {},
   "source": [
    "As <code>row</code> is a <code>cell</code> object, we can apply the method <code>find_all</code> to it and extract table cells in the object <code>cells</code> using the tag <code>td</code>, this is all the children with the name <code>td</code>. The result is a list, each element corresponds to a cell and is a <code>Tag</code> object, we can iterate through this list as well. We can extract the content using the <code>string</code>  attribute."
   ]
  },
  {
   "cell_type": "code",
   "execution_count": 49,
   "id": "544fd103",
   "metadata": {},
   "outputs": [
    {
     "name": "stdout",
     "output_type": "stream",
     "text": [
      "row 0\n",
      "column 0 is <td id=\"flight\">Flight No</td>\n",
      "column 1 is <td>Launch site</td>\n",
      "column 2 is <td>Payload mass</td>\n",
      "row 1\n",
      "column 0 is <td>1</td>\n",
      "column 1 is <td><a href=\"https://en.wikipedia.org/wiki/Florida\">Florida</a></td>\n",
      "column 2 is <td>300 kg</td>\n",
      "row 2\n",
      "column 0 is <td>2</td>\n",
      "column 1 is <td><a href=\"https://en.wikipedia.org/wiki/Texas\">Texas</a></td>\n",
      "column 2 is <td>94 kg</td>\n",
      "row 3\n",
      "column 0 is <td>3</td>\n",
      "column 1 is <td><a href=\"https://en.wikipedia.org/wiki/Florida\">Florida</a> </td>\n",
      "column 2 is <td>80 kg</td>\n"
     ]
    }
   ],
   "source": [
    "for i, row in enumerate(table_rows):\n",
    "    print(\"row\", i)\n",
    "    cells = row.find_all('td')\n",
    "    for j, cell in enumerate(cells):\n",
    "        print('column', j, 'is', cell)\n",
    "        "
   ]
  },
  {
   "cell_type": "markdown",
   "id": "da043ef4",
   "metadata": {},
   "source": [
    "If we use a list we can match against any item in that list."
   ]
  },
  {
   "cell_type": "code",
   "execution_count": 52,
   "id": "3c129fc8",
   "metadata": {},
   "outputs": [
    {
     "data": {
      "text/plain": [
       "[<tr><td id=\"flight\">Flight No</td><td>Launch site</td><td>Payload mass</td></tr>,\n",
       " <td id=\"flight\">Flight No</td>,\n",
       " <td>Launch site</td>,\n",
       " <td>Payload mass</td>,\n",
       " <tr><td>1</td><td><a href=\"https://en.wikipedia.org/wiki/Florida\">Florida</a></td><td>300 kg</td></tr>,\n",
       " <td>1</td>,\n",
       " <td><a href=\"https://en.wikipedia.org/wiki/Florida\">Florida</a></td>,\n",
       " <td>300 kg</td>,\n",
       " <tr><td>2</td><td><a href=\"https://en.wikipedia.org/wiki/Texas\">Texas</a></td><td>94 kg</td></tr>,\n",
       " <td>2</td>,\n",
       " <td><a href=\"https://en.wikipedia.org/wiki/Texas\">Texas</a></td>,\n",
       " <td>94 kg</td>,\n",
       " <tr><td>3</td><td><a href=\"https://en.wikipedia.org/wiki/Florida\">Florida</a> </td><td>80 kg</td></tr>,\n",
       " <td>3</td>,\n",
       " <td><a href=\"https://en.wikipedia.org/wiki/Florida\">Florida</a> </td>,\n",
       " <td>80 kg</td>]"
      ]
     },
     "execution_count": 52,
     "metadata": {},
     "output_type": "execute_result"
    }
   ],
   "source": [
    "list_of_cells = table_bs.find_all(name = ['tr', 'td'])\n",
    "list_of_cells"
   ]
  },
  {
   "cell_type": "markdown",
   "id": "cc7129f8",
   "metadata": {},
   "source": [
    "## Attributes"
   ]
  },
  {
   "cell_type": "markdown",
   "id": "64c5829d",
   "metadata": {},
   "source": [
    "If the argument is not recognized it will be turned into a filter on the tag’s attributes. For example the <code>id</code>  argument, Beautiful Soup will filter against each tag’s <code>id</code> attribute. For example, the first <code>td</code> elements have a value of <code>id</code> of <code>flight</code>, therefore we can filter based on that <code>id</code> value.\n"
   ]
  },
  {
   "cell_type": "code",
   "execution_count": 54,
   "id": "aad24098",
   "metadata": {},
   "outputs": [
    {
     "data": {
      "text/plain": [
       "[<td id=\"flight\">Flight No</td>]"
      ]
     },
     "execution_count": 54,
     "metadata": {},
     "output_type": "execute_result"
    }
   ],
   "source": [
    "att = table_bs.find_all(id = 'flight')\n",
    "att"
   ]
  },
  {
   "cell_type": "markdown",
   "id": "4950a8af",
   "metadata": {},
   "source": [
    "We can find all the elements that have links to the Florida Wikipedia page:"
   ]
  },
  {
   "cell_type": "code",
   "execution_count": 58,
   "id": "b2a8a92d",
   "metadata": {},
   "outputs": [
    {
     "data": {
      "text/plain": [
       "[<a href=\"https://en.wikipedia.org/wiki/Florida\">Florida</a>,\n",
       " <a href=\"https://en.wikipedia.org/wiki/Florida\">Florida</a>]"
      ]
     },
     "execution_count": 58,
     "metadata": {},
     "output_type": "execute_result"
    }
   ],
   "source": [
    "list_input = table_bs.find_all(href = 'https://en.wikipedia.org/wiki/Florida')\n",
    "list_input"
   ]
  },
  {
   "cell_type": "markdown",
   "id": "12012495",
   "metadata": {},
   "source": [
    "If we set the  <code>href</code> attribute to True, regardless of what the value is, the code finds all tags with <code>href</code> value:\n"
   ]
  },
  {
   "cell_type": "code",
   "execution_count": 59,
   "id": "3e4748db",
   "metadata": {},
   "outputs": [
    {
     "data": {
      "text/plain": [
       "[<a href=\"https://en.wikipedia.org/wiki/Florida\">Florida</a>,\n",
       " <a href=\"https://en.wikipedia.org/wiki/Texas\">Texas</a>,\n",
       " <a href=\"https://en.wikipedia.org/wiki/Florida\">Florida</a>]"
      ]
     },
     "execution_count": 59,
     "metadata": {},
     "output_type": "execute_result"
    }
   ],
   "source": [
    "table_bs.find_all(href = True)"
   ]
  },
  {
   "cell_type": "markdown",
   "id": "3f9d59ef",
   "metadata": {},
   "source": [
    "There are other methods for dealing with attributes and other related methods; Check out the following <a href='https://www.crummy.com/software/BeautifulSoup/bs4/doc/?utm_medium=Exinfluencer&utm_source=Exinfluencer&utm_content=000026UJ&utm_term=10006555&utm_id=NA-SkillsNetwork-Channel-SkillsNetworkCoursesIBMDeveloperSkillsNetworkPY0220ENSkillsNetwork23455606-2021-01-01#css-selectors'>link</a>"
   ]
  },
  {
   "cell_type": "markdown",
   "id": "fff8b8ca",
   "metadata": {},
   "source": [
    "<h3 id=\"exer_type\">Exercise: <code>find_all</code></h3>"
   ]
  },
  {
   "cell_type": "markdown",
   "id": "38ea777e",
   "metadata": {},
   "source": [
    "Using the logic above, find all the elements without <code>href</code> value\n"
   ]
  },
  {
   "cell_type": "code",
   "execution_count": 61,
   "id": "28f12dae",
   "metadata": {},
   "outputs": [
    {
     "data": {
      "text/plain": [
       "[]"
      ]
     },
     "execution_count": 61,
     "metadata": {},
     "output_type": "execute_result"
    }
   ],
   "source": [
    "table_bs.find_all( 'a', href = False)"
   ]
  },
  {
   "cell_type": "markdown",
   "id": "2a54f654",
   "metadata": {},
   "source": [
    "Using the soup object <code>soup</code>, find the element with the <code>id</code> attribute content set to <code>\"boldest\"</code>."
   ]
  },
  {
   "cell_type": "code",
   "execution_count": 62,
   "id": "0f094979",
   "metadata": {},
   "outputs": [
    {
     "data": {
      "text/plain": [
       "[<b id=\"boldest\">Lebron James</b>]"
      ]
     },
     "execution_count": 62,
     "metadata": {},
     "output_type": "execute_result"
    }
   ],
   "source": [
    "soup.find_all(id = 'boldest')"
   ]
  },
  {
   "cell_type": "markdown",
   "id": "566f5e08",
   "metadata": {},
   "source": [
    "### string"
   ]
  },
  {
   "cell_type": "markdown",
   "id": "e14bbced",
   "metadata": {},
   "source": [
    "With string you can search for strings instead of tags, where we find all the elments with Florida:\n"
   ]
  },
  {
   "cell_type": "code",
   "execution_count": 64,
   "id": "adbaafe8",
   "metadata": {},
   "outputs": [
    {
     "data": {
      "text/plain": [
       "['Florida', 'Florida']"
      ]
     },
     "execution_count": 64,
     "metadata": {},
     "output_type": "execute_result"
    }
   ],
   "source": [
    "table_bs.find_all(string = 'Florida')"
   ]
  },
  {
   "cell_type": "markdown",
   "id": "03f76a61",
   "metadata": {},
   "source": [
    "## find\n"
   ]
  },
  {
   "cell_type": "markdown",
   "id": "44eea0f0",
   "metadata": {},
   "source": [
    "The <code>find_all()</code> method scans the entire document looking for results, it’s if you are looking for one element you can use the <code>find()</code> method to find the first element in the document. Consider the following two table:\n"
   ]
  },
  {
   "cell_type": "code",
   "execution_count": 66,
   "id": "6c308e8a",
   "metadata": {},
   "outputs": [
    {
     "data": {
      "text/html": [
       "<h3>Rocket Launch </h3>\n",
       "\n",
       "<p>\n",
       "<table class='rocket'>\n",
       "  <tr>\n",
       "    <td>Flight No</td>\n",
       "    <td>Launch site</td> \n",
       "    <td>Payload mass</td>\n",
       "  </tr>\n",
       "  <tr>\n",
       "    <td>1</td>\n",
       "    <td>Florida</td>\n",
       "    <td>300 kg</td>\n",
       "  </tr>\n",
       "  <tr>\n",
       "    <td>2</td>\n",
       "    <td>Texas</td>\n",
       "    <td>94 kg</td>\n",
       "  </tr>\n",
       "  <tr>\n",
       "    <td>3</td>\n",
       "    <td>Florida </td>\n",
       "    <td>80 kg</td>\n",
       "  </tr>\n",
       "</table>\n",
       "</p>\n",
       "<p>\n",
       "\n",
       "<h3>Pizza Party  </h3>\n",
       "\n",
       "\n",
       "<table class='pizza'>\n",
       "  <tr>\n",
       "    <td>Pizza Place</td>\n",
       "    <td>Orders</td> \n",
       "    <td>Slices </td>\n",
       "   </tr>\n",
       "  <tr>\n",
       "    <td>Domino's Pizza</td>\n",
       "    <td>10</td>\n",
       "    <td>100</td>\n",
       "  </tr>\n",
       "  <tr>\n",
       "    <td>Little Caesars</td>\n",
       "    <td>12</td>\n",
       "    <td >144 </td>\n",
       "  </tr>\n",
       "  <tr>\n",
       "    <td>Papa John's </td>\n",
       "    <td>15 </td>\n",
       "    <td>165</td>\n",
       "  </tr>\n"
      ],
      "text/plain": [
       "<IPython.core.display.HTML object>"
      ]
     },
     "metadata": {},
     "output_type": "display_data"
    }
   ],
   "source": [
    "%%html\n",
    "<h3>Rocket Launch </h3>\n",
    "\n",
    "<p>\n",
    "<table class='rocket'>\n",
    "  <tr>\n",
    "    <td>Flight No</td>\n",
    "    <td>Launch site</td> \n",
    "    <td>Payload mass</td>\n",
    "  </tr>\n",
    "  <tr>\n",
    "    <td>1</td>\n",
    "    <td>Florida</td>\n",
    "    <td>300 kg</td>\n",
    "  </tr>\n",
    "  <tr>\n",
    "    <td>2</td>\n",
    "    <td>Texas</td>\n",
    "    <td>94 kg</td>\n",
    "  </tr>\n",
    "  <tr>\n",
    "    <td>3</td>\n",
    "    <td>Florida </td>\n",
    "    <td>80 kg</td>\n",
    "  </tr>\n",
    "</table>\n",
    "</p>\n",
    "<p>\n",
    "\n",
    "<h3>Pizza Party  </h3>\n",
    "  \n",
    "    \n",
    "<table class='pizza'>\n",
    "  <tr>\n",
    "    <td>Pizza Place</td>\n",
    "    <td>Orders</td> \n",
    "    <td>Slices </td>\n",
    "   </tr>\n",
    "  <tr>\n",
    "    <td>Domino's Pizza</td>\n",
    "    <td>10</td>\n",
    "    <td>100</td>\n",
    "  </tr>\n",
    "  <tr>\n",
    "    <td>Little Caesars</td>\n",
    "    <td>12</td>\n",
    "    <td >144 </td>\n",
    "  </tr>\n",
    "  <tr>\n",
    "    <td>Papa John's </td>\n",
    "    <td>15 </td>\n",
    "    <td>165</td>\n",
    "  </tr>\n"
   ]
  },
  {
   "cell_type": "markdown",
   "id": "236cc999",
   "metadata": {},
   "source": [
    "We store the HTML as a Python string and assign <code>two_tables</code>:\n"
   ]
  },
  {
   "cell_type": "code",
   "execution_count": 67,
   "id": "651f7e0c",
   "metadata": {},
   "outputs": [],
   "source": [
    "two_tables=\"<h3>Rocket Launch </h3><p><table class='rocket'><tr><td>Flight No</td><td>Launch site</td> <td>Payload mass</td></tr><tr><td>1</td><td>Florida</td><td>300 kg</td></tr><tr><td>2</td><td>Texas</td><td>94 kg</td></tr><tr><td>3</td><td>Florida </td><td>80 kg</td></tr></table></p><p><h3>Pizza Party  </h3><table class='pizza'><tr><td>Pizza Place</td><td>Orders</td> <td>Slices </td></tr><tr><td>Domino's Pizza</td><td>10</td><td>100</td></tr><tr><td>Little Caesars</td><td>12</td><td >144 </td></tr><tr><td>Papa John's </td><td>15 </td><td>165</td></tr>\""
   ]
  },
  {
   "cell_type": "markdown",
   "id": "931a278b",
   "metadata": {},
   "source": [
    "We create a <code>BeautifulSoup</code> object  <code>two_tables_bs</code>\n"
   ]
  },
  {
   "cell_type": "code",
   "execution_count": 70,
   "id": "fab8b3d5",
   "metadata": {},
   "outputs": [
    {
     "data": {
      "text/plain": [
       "<h3>Rocket Launch </h3><p><table class=\"rocket\"><tr><td>Flight No</td><td>Launch site</td> <td>Payload mass</td></tr><tr><td>1</td><td>Florida</td><td>300 kg</td></tr><tr><td>2</td><td>Texas</td><td>94 kg</td></tr><tr><td>3</td><td>Florida </td><td>80 kg</td></tr></table></p><p><h3>Pizza Party  </h3><table class=\"pizza\"><tr><td>Pizza Place</td><td>Orders</td> <td>Slices </td></tr><tr><td>Domino's Pizza</td><td>10</td><td>100</td></tr><tr><td>Little Caesars</td><td>12</td><td>144 </td></tr><tr><td>Papa John's </td><td>15 </td><td>165</td></tr></table></p>"
      ]
     },
     "execution_count": 70,
     "metadata": {},
     "output_type": "execute_result"
    }
   ],
   "source": [
    "two_tables_bs = BeautifulSoup(two_tables, 'html.parser')\n",
    "two_tables_bs"
   ]
  },
  {
   "cell_type": "markdown",
   "id": "b235f720",
   "metadata": {},
   "source": [
    "We can find the first table using the tag name table\n"
   ]
  },
  {
   "cell_type": "code",
   "execution_count": 71,
   "id": "89ebc0ab",
   "metadata": {},
   "outputs": [
    {
     "data": {
      "text/plain": [
       "<table class=\"rocket\"><tr><td>Flight No</td><td>Launch site</td> <td>Payload mass</td></tr><tr><td>1</td><td>Florida</td><td>300 kg</td></tr><tr><td>2</td><td>Texas</td><td>94 kg</td></tr><tr><td>3</td><td>Florida </td><td>80 kg</td></tr></table>"
      ]
     },
     "execution_count": 71,
     "metadata": {},
     "output_type": "execute_result"
    }
   ],
   "source": [
    "two_tables_bs.find('table')"
   ]
  },
  {
   "cell_type": "markdown",
   "id": "c2968a69",
   "metadata": {},
   "source": [
    "We can filter on the class attribute to find the second table, but because class is a keyword in Python, we add an underscore."
   ]
  },
  {
   "cell_type": "code",
   "execution_count": 72,
   "id": "849792ff",
   "metadata": {},
   "outputs": [
    {
     "data": {
      "text/plain": [
       "[<table class=\"pizza\"><tr><td>Pizza Place</td><td>Orders</td> <td>Slices </td></tr><tr><td>Domino's Pizza</td><td>10</td><td>100</td></tr><tr><td>Little Caesars</td><td>12</td><td>144 </td></tr><tr><td>Papa John's </td><td>15 </td><td>165</td></tr></table>]"
      ]
     },
     "execution_count": 72,
     "metadata": {},
     "output_type": "execute_result"
    }
   ],
   "source": [
    "two_tables_bs.find_all('table', class_ = 'pizza')"
   ]
  },
  {
   "cell_type": "markdown",
   "id": "d6cf5f0d",
   "metadata": {},
   "source": [
    "<h2 id=\"DSCW\">Downloading And Scraping The Contents Of A Web Page</h2> "
   ]
  },
  {
   "cell_type": "markdown",
   "id": "15af5262",
   "metadata": {},
   "source": [
    "We Download the contents of the web page:"
   ]
  },
  {
   "cell_type": "code",
   "execution_count": 73,
   "id": "455a29bc",
   "metadata": {},
   "outputs": [],
   "source": [
    "url = \"https://web.archive.org/web/20230224123642/https://www.ibm.com/us-en/\""
   ]
  },
  {
   "cell_type": "markdown",
   "id": "6fa8c1f9",
   "metadata": {},
   "source": [
    "We use <code>get</code> to download the contents of the webpage in text format and store in a variable called <code>data</code>:\n"
   ]
  },
  {
   "cell_type": "code",
   "execution_count": 77,
   "id": "08bb9f43",
   "metadata": {},
   "outputs": [
    {
     "data": {
      "text/plain": [
       "'<!DOCTYPE html><html lang=\"en-US\"><head><script type=\"text/javascript\" src=\"https://web-static.archive.org/_static/js/bundle-playback.js?v=FC38Hc5A\" charset=\"utf-8\"></script>\\n<script type=\"text/javascript\" src=\"https://web-static.archive.org/_static/js/wombat.js?v=txqj7nKC\" charset=\"utf-8\"></script>\\n<script>window.RufflePlayer=window.RufflePlayer||{};window.RufflePlayer.config={\"autoplay\":\"on\",\"unmuteOverlay\":\"hidden\",\"showSwfDownload\":true};</script>\\n<script type=\"text/javascript\" src=\"https://web-static.archive.org/_static/js/ruffle/ruffle.js\"></script>\\n<script type=\"text/javascript\">\\n    __wm.init(\"https://web.archive.org/web\");\\n  __wm.wombat(\"https://www.ibm.com/us-en/\",\"20230224123642\",\"https://web.archive.org/\",\"web\",\"https://web-static.archive.org/_static/\",\\n\\t      \"1677242202\");\\n</script>\\n<link rel=\"stylesheet\" type=\"text/css\" href=\"https://web-static.archive.org/_static/css/banner-styles.css?v=p7PEIJWi\" />\\n<link rel=\"stylesheet\" type=\"text/css\" href=\"https://web-static.archive.org/_static/css/iconochive.css?v=3PDvdIFv\" />\\n<!-- End Wayback Rewrite JS Include -->\\n<meta name=\"viewport\" content=\"width=device-width\"/><meta charset=\"utf-8\"/><title>IBM - United States</title><link rel=\"canonical\" href=\"https://web.archive.org/web/20230224123642/https://www.ibm.com/us-en\"/><meta name=\"robots\" content=\"index,follow\"/><meta name=\"description\" content=\"For more than a century IBM has been dedicated to every client\\'s success and to creating innovations that matter for the world\"/><meta name=\"keywords\" content=\"IBM\"/><meta http-equiv=\"X-UA-Compatible\" content=\"IE=Edge\"/><meta http-equiv=\"Cache-Control\" content=\"no-cache, no-store, must-revalidate\"/><meta http-equiv=\"Pragma\" content=\"no-cache\"/><meta http-equiv=\"Expires\" content=\"0\"/><link rel=\"icon\" href=\"//web.archive.org/web/20230224123642im_/https://www.ibm.com/favicon.ico\"/><meta name=\"ibmdotcom.version.react\" content=\"^1.38.0\"/><meta name=\"ibmdotcom.version.styles\" content=\"^1.38.0\"/><meta name=\"ibmdotcom.build.time\" content=\"2023-02-22T18:05:00.504Z\"/><meta name=\"dcterms.date\" content=\"2015-10-01\"/><meta name=\"dcterms.rights\" content=\"Â© Copyright IBM Corp. 2020\"/><meta name=\"geo.country\" content=\"US\"/><script>digitalData={\"page\":{\"category\":{\"primaryCategory\":\"SB03\"},\"pageInfo\":{\"effectiveDate\":\"2022-12-15\",\"expiryDate\":\"2027-12-15\",\"language\":\"en-us\",\"publishDate\":\"2022-12-15\",\"publisher\":\"IBM Corporation\",\"version\":\"Carbon:IBM.com Library v1.32.0\",\"ibm\":{\"contentDelivery\":\"Hand coded\",\"contentProducer\":\"Lance Tappana\",\"country\":\"us\",\"industry\":\"ZZ\",\"owner\":\"Corporate Webmaster/New York/IBM\",\"siteID\":\"GLOBAL\",\"subject\":\"IBM000\",\"type\":\"CT052\",\"messaging\":{\"routing\":{\"focusArea\":\"Miscellaneous - Cross IBM\",\"languageCode\":\"en\",\"regionCode\":\"US\"},\"translation\":{\"languageCode\":\"en\",\"regionCode\":\"US\"}}},\"hotjar\":{\"enabled\":0}}}};</script><script>\\n            window.hj=window.hj||function(){(hj.q=hj.q||[]).push(arguments)};\\n            window.hj(\\'tagRecording\\', [\\'hjLoaded\\']);\\n            document.addEventListener(\\'onMegaMenuToggle\\', e => {\\n              if(e.target.getAttribute(\"data-title\") == \\'products-solutions\\') {\\n                window.hj(\\'trigger\\', \\'MM_products-solutions\\');\\n              }\\n              if(e.target.getAttribute(\"data-title\") == \\'services-consulting\\') {\\n                window.hj(\\'trigger\\', \\'MM_services-consulting\\');\\n              }\\n              if(e.target.getAttribute(\"data-title\") == \\'learn-support\\') {\\n                window.hj(\\'trigger\\', \\'MM_learn-support\\');\\n              }\\n              if(e.target.getAttribute(\"data-title\") == \\'explore-more\\') {\\n                window.hj(\\'trigger\\', \\'MM_explore-more\\');\\n              }\\n            });\\n\\n            </script><script type=\"module\" src=\"https://web.archive.org/web/20230224123642jm_/https://1.www.s81c.com/common/carbon-for-ibm-dotcom/tag/v2/alpha/masthead.min.js\"></script><link rel=\"alternate\" hreflang=\"en-us\" href=\"https://web.archive.org/web/20230224123642/https://www.ibm.com/us-en\"/><link rel=\"alternate\" hreflang=\"x-default\" href=\"https://web.archive.org/web/20230224123642/https://www.ibm.com/\"/><link rel=\"alternate\" hreflang=\"en-af\" href=\"https://web.archive.org/web/20230224123642/https://www.ibm.com/af-en\"/><link rel=\"alternate\" hreflang=\"fr-dz\" href=\"https://web.archive.org/web/20230224123642/https://www.ibm.com/dz-fr\"/><link rel=\"alternate\" hreflang=\"pt-ao\" href=\"https://web.archive.org/web/20230224123642/https://www.ibm.com/ao-pt\"/><link rel=\"alternate\" hreflang=\"en-ai\" href=\"https://web.archive.org/web/20230224123642/https://www.ibm.com/ai-en\"/><link rel=\"alternate\" hreflang=\"en-ag\" href=\"https://web.archive.org/web/20230224123642/https://www.ibm.com/ag-en\"/><link rel=\"alternate\" hreflang=\"es-ar\" href=\"https://web.archive.org/web/20230224123642/https://www.ibm.com/ar-es\"/><link rel=\"alternate\" hreflang=\"en-aw\" href=\"https://web.archive.org/web/20230224123642/https://www.ibm.com/aw-en\"/><link rel=\"alternate\" hreflang=\"en-au\" href=\"https://web.archive.org/web/20230224123642/https://www.ibm.com/au-en\"/><link rel=\"alternate\" hreflang=\"de-at\" href=\"https://web.archive.org/web/20230224123642/https://www.ibm.com/at-de\"/><link rel=\"alternate\" hreflang=\"en-bs\" href=\"https://web.archive.org/web/20230224123642/https://www.ibm.com/bs-en\"/><link rel=\"alternate\" hreflang=\"en-bh\" href=\"https://web.archive.org/web/20230224123642/https://www.ibm.com/bh-en\"/><link rel=\"alternate\" hreflang=\"en-bd\" href=\"https://web.archive.org/web/20230224123642/https://www.ibm.com/bd-en\"/><link rel=\"alternate\" hreflang=\"en-bb\" href=\"https://web.archive.org/web/20230224123642/https://www.ibm.com/bb-en\"/><link rel=\"alternate\" hreflang=\"en-be\" href=\"https://web.archive.org/web/20230224123642/https://www.ibm.com/be-en\"/><link rel=\"alternate\" hreflang=\"en-bm\" href=\"https://web.archive.org/web/20230224123642/https://www.ibm.com/bm-en\"/><link rel=\"alternate\" hreflang=\"es-bo\" href=\"https://web.archive.org/web/20230224123642/https://www.ibm.com/bo-es\"/><link rel=\"alternate\" hreflang=\"en-bw\" href=\"https://web.archive.org/web/20230224123642/https://www.ibm.com/bw-en\"/><link rel=\"alternate\" hreflang=\"pt-br\" href=\"https://web.archive.org/web/20230224123642/https://www.ibm.com/br-pt\"/><link rel=\"alternate\" hreflang=\"en-vg\" href=\"https://web.archive.org/web/20230224123642/https://www.ibm.com/vg-en\"/><link rel=\"alternate\" hreflang=\"en-bn\" href=\"https://web.archive.org/web/20230224123642/https://www.ibm.com/bn-en\"/><link rel=\"alternate\" hreflang=\"en-bg\" href=\"https://web.archive.org/web/20230224123642/https://www.ibm.com/bg-en\"/><link rel=\"alternate\" hreflang=\"fr-bf\" href=\"https://web.archive.org/web/20230224123642/https://www.ibm.com/bf-fr\"/><link rel=\"alternate\" hreflang=\"en-kh\" href=\"https://web.archive.org/web/20230224123642/https://www.ibm.com/kh-en\"/><link rel=\"alternate\" hreflang=\"fr-cm\" href=\"https://web.archive.org/web/20230224123642/https://www.ibm.com/cm-fr\"/><link rel=\"alternate\" hreflang=\"en-ca\" href=\"https://web.archive.org/web/20230224123642/https://www.ibm.com/ca-en\"/><link rel=\"alternate\" hreflang=\"fr-ca\" href=\"https://web.archive.org/web/20230224123642/https://www.ibm.com/ca-fr\"/><link rel=\"alternate\" hreflang=\"en-ky\" href=\"https://web.archive.org/web/20230224123642/https://www.ibm.com/ky-en\"/><link rel=\"alternate\" hreflang=\"fr-td\" href=\"https://web.archive.org/web/20230224123642/https://www.ibm.com/td-fr\"/><link rel=\"alternate\" hreflang=\"es-cl\" href=\"https://web.archive.org/web/20230224123642/https://www.ibm.com/cl-es\"/><link rel=\"alternate\" hreflang=\"zh-cn\" href=\"https://web.archive.org/web/20230224123642/https://www.ibm.com/cn-zh\"/><link rel=\"alternate\" hreflang=\"es-co\" href=\"https://web.archive.org/web/20230224123642/https://www.ibm.com/co-es\"/><link rel=\"alternate\" hreflang=\"fr-cd\" href=\"https://web.archive.org/web/20230224123642/https://www.ibm.com/cd-fr\"/><link rel=\"alternate\" hreflang=\"fr-cg\" href=\"https://web.archive.org/web/20230224123642/https://www.ibm.com/cg-fr\"/><link rel=\"alternate\" hreflang=\"es-cr\" href=\"https://web.archive.org/web/20230224123642/https://www.ibm.com/cr-es\"/><link rel=\"alternate\" hreflang=\"en-hr\" href=\"https://web.archive.org/web/20230224123642/https://www.ibm.com/hr-en\"/><link rel=\"alternate\" hreflang=\"en-cw\" href=\"https://web.archive.org/web/20230224123642/https://www.ibm.com/cw-en\"/><link rel=\"alternate\" hreflang=\"en-cy\" href=\"https://web.archive.org/web/20230224123642/https://www.ibm.com/cy-en\"/><link rel=\"alternate\" hreflang=\"en-cz\" href=\"https://web.archive.org/web/20230224123642/https://www.ibm.com/cz-en\"/><link rel=\"alternate\" hreflang=\"en-dm\" href=\"https://web.archive.org/web/20230224123642/https://www.ibm.com/dm-en\"/><link rel=\"alternate\" hreflang=\"en-dk\" href=\"https://web.archive.org/web/20230224123642/https://www.ibm.com/dk-en\"/><link rel=\"alternate\" hreflang=\"es-ec\" href=\"https://web.archive.org/web/20230224123642/https://www.ibm.com/ec-es\"/><link rel=\"alternate\" hreflang=\"en-eg\" href=\"https://web.archive.org/web/20230224123642/https://www.ibm.com/eg-en\"/><link rel=\"alternate\" hreflang=\"en-ee\" href=\"https://web.archive.org/web/20230224123642/https://www.ibm.com/ee-en\"/><link rel=\"alternate\" hreflang=\"en-et\" href=\"https://web.archive.org/web/20230224123642/https://www.ibm.com/et-en\"/><link rel=\"alternate\" hreflang=\"en-fi\" href=\"https://web.archive.org/web/20230224123642/https://www.ibm.com/fi-en\"/><link rel=\"alternate\" hreflang=\"fr-fr\" href=\"https://web.archive.org/web/20230224123642/https://www.ibm.com/fr-fr\"/><link rel=\"alternate\" hreflang=\"fr-ga\" href=\"https://web.archive.org/web/20230224123642/https://www.ibm.com/ga-fr\"/><link rel=\"alternate\" hreflang=\"de-de\" href=\"https://web.archive.org/web/20230224123642/https://www.ibm.com/de-de\"/><link rel=\"alternate\" hreflang=\"en-gh\" href=\"https://web.archive.org/web/20230224123642/https://www.ibm.com/gh-en\"/><link rel=\"alternate\" hreflang=\"en-gr\" href=\"https://web.archive.org/web/20230224123642/https://www.ibm.com/gr-en\"/><link rel=\"alternate\" hreflang=\"en-gd\" href=\"https://web.archive.org/web/20230224123642/https://www.ibm.com/gd-en\"/><link rel=\"alternate\" hreflang=\"en-gy\" href=\"https://web.archive.org/web/20230224123642/https://www.ibm.com/gy-en\"/><link rel=\"alternate\" hreflang=\"en-hk\" href=\"https://web.archive.org/web/20230224123642/https://www.ibm.com/hk-en\"/><link rel=\"alternate\" hreflang=\"en-hu\" href=\"https://web.archive.org/web/20230224123642/https://www.ibm.com/hu-en\"/><link rel=\"alternate\" hreflang=\"en-in\" href=\"https://web.archive.org/web/20230224123642/https://www.ibm.com/in-en\"/><link rel=\"alternate\" hreflang=\"en-id\" href=\"https://web.archive.org/web/20230224123642/https://www.ibm.com/id-en\"/><link rel=\"alternate\" hreflang=\"en-iq\" href=\"https://web.archive.org/web/20230224123642/https://www.ibm.com/iq-en\"/><link rel=\"alternate\" hreflang=\"en-ie\" href=\"https://web.archive.org/web/20230224123642/https://www.ibm.com/ie-en\"/><link rel=\"alternate\" hreflang=\"en-il\" href=\"https://web.archive.org/web/20230224123642/https://www.ibm.com/il-en\"/><link rel=\"alternate\" hreflang=\"it-it\" href=\"https://web.archive.org/web/20230224123642/https://www.ibm.com/it-it\"/><link rel=\"alternate\" hreflang=\"fr-ci\" href=\"https://web.archive.org/web/20230224123642/https://www.ibm.com/ci-fr\"/><link rel=\"alternate\" hreflang=\"en-jm\" href=\"https://web.archive.org/web/20230224123642/https://www.ibm.com/jm-en\"/><link rel=\"alternate\" hreflang=\"ja-jp\" href=\"https://web.archive.org/web/20230224123642/https://www.ibm.com/jp-ja\"/><link rel=\"alternate\" hreflang=\"en-jo\" href=\"https://web.archive.org/web/20230224123642/https://www.ibm.com/jo-en\"/><link rel=\"alternate\" hreflang=\"en-kz\" href=\"https://web.archive.org/web/20230224123642/https://www.ibm.com/kz-en\"/><link rel=\"alternate\" hreflang=\"en-ke\" href=\"https://web.archive.org/web/20230224123642/https://www.ibm.com/ke-en\"/><link rel=\"alternate\" hreflang=\"ko-kr\" href=\"https://web.archive.org/web/20230224123642/https://www.ibm.com/kr-ko\"/><link rel=\"alternate\" hreflang=\"en-kw\" href=\"https://web.archive.org/web/20230224123642/https://www.ibm.com/kw-en\"/><link rel=\"alternate\" hreflang=\"en-lv\" href=\"https://web.archive.org/web/20230224123642/https://www.ibm.com/lv-en\"/><link rel=\"alternate\" hreflang=\"en-lb\" href=\"https://web.archive.org/web/20230224123642/https://www.ibm.com/lb-en\"/><link rel=\"alternate\" hreflang=\"en-ly\" href=\"https://web.archive.org/web/20230224123642/https://www.ibm.com/ly-en\"/><link rel=\"alternate\" hreflang=\"en-lt\" href=\"https://web.archive.org/web/20230224123642/https://www.ibm.com/lt-en\"/><link rel=\"alternate\" hreflang=\"en-mw\" href=\"https://web.archive.org/web/20230224123642/https://www.ibm.com/mw-en\"/><link rel=\"alternate\" hreflang=\"en-my\" href=\"https://web.archive.org/web/20230224123642/https://www.ibm.com/my-en\"/><link rel=\"alternate\" hreflang=\"fr-mu\" href=\"https://web.archive.org/web/20230224123642/https://www.ibm.com/mu-fr\"/><link rel=\"alternate\" hreflang=\"es-mx\" href=\"https://web.archive.org/web/20230224123642/https://www.ibm.com/mx-es\"/><link rel=\"alternate\" hreflang=\"en-ms\" href=\"https://web.archive.org/web/20230224123642/https://www.ibm.com/ms-en\"/><link rel=\"alternate\" hreflang=\"fr-ma\" href=\"https://web.archive.org/web/20230224123642/https://www.ibm.com/ma-fr\"/><link rel=\"alternate\" hreflang=\"pt-mz\" href=\"https://web.archive.org/web/20230224123642/https://www.ibm.com/mz-pt\"/><link rel=\"alternate\" hreflang=\"en-na\" href=\"https://web.archive.org/web/20230224123642/https://www.ibm.com/na-en\"/><link rel=\"alternate\" hreflang=\"en-np\" href=\"https://web.archive.org/web/20230224123642/https://www.ibm.com/np-en\"/><link rel=\"alternate\" hreflang=\"en-nl\" href=\"https://web.archive.org/web/20230224123642/https://www.ibm.com/nl-en\"/><link rel=\"alternate\" hreflang=\"en-nz\" href=\"https://web.archive.org/web/20230224123642/https://www.ibm.com/nz-en\"/><link rel=\"alternate\" hreflang=\"fr-ne\" href=\"https://web.archive.org/web/20230224123642/https://www.ibm.com/ne-fr\"/><link rel=\"alternate\" hreflang=\"en-ng\" href=\"https://web.archive.org/web/20230224123642/https://www.ibm.com/ng-en\"/><link rel=\"alternate\" hreflang=\"en-no\" href=\"https://web.archive.org/web/20230224123642/https://www.ibm.com/no-en\"/><link rel=\"alternate\" hreflang=\"en-om\" href=\"https://web.archive.org/web/20230224123642/https://www.ibm.com/om-en\"/><link rel=\"alternate\" hreflang=\"en-pk\" href=\"https://web.archive.org/web/20230224123642/https://www.ibm.com/pk-en\"/><link rel=\"alternate\" hreflang=\"es-py\" href=\"https://web.archive.org/web/20230224123642/https://www.ibm.com/py-es\"/><link rel=\"alternate\" hreflang=\"es-pe\" href=\"https://web.archive.org/web/20230224123642/https://www.ibm.com/pe-es\"/><link rel=\"alternate\" hreflang=\"en-ph\" href=\"https://web.archive.org/web/20230224123642/https://www.ibm.com/ph-en\"/><link rel=\"alternate\" hreflang=\"pl-pl\" href=\"https://web.archive.org/web/20230224123642/https://www.ibm.com/pl-pl\"/><link rel=\"alternate\" hreflang=\"en-pt\" href=\"https://web.archive.org/web/20230224123642/https://www.ibm.com/pt-en\"/><link rel=\"alternate\" hreflang=\"en-qa\" href=\"https://web.archive.org/web/20230224123642/https://www.ibm.com/qa-en\"/><link rel=\"alternate\" hreflang=\"en-ro\" href=\"https://web.archive.org/web/20230224123642/https://www.ibm.com/ro-en\"/><link rel=\"alternate\" hreflang=\"ru-ru\" href=\"https://web.archive.org/web/20230224123642/https://www.ibm.com/ru-ru\"/><link rel=\"alternate\" hreflang=\"en-kn\" href=\"https://web.archive.org/web/20230224123642/https://www.ibm.com/kn-en\"/><link rel=\"alternate\" hreflang=\"en-lc\" href=\"https://web.archive.org/web/20230224123642/https://www.ibm.com/lc-en\"/><link rel=\"alternate\" hreflang=\"en-vc\" href=\"https://web.archive.org/web/20230224123642/https://www.ibm.com/vc-en\"/><link rel=\"alternate\" hreflang=\"en-sa\" href=\"https://web.archive.org/web/20230224123642/https://www.ibm.com/sa-en\"/><link rel=\"alternate\" hreflang=\"fr-sn\" href=\"https://web.archive.org/web/20230224123642/https://www.ibm.com/sn-fr\"/><link rel=\"alternate\" hreflang=\"en-rs\" href=\"https://web.archive.org/web/20230224123642/https://www.ibm.com/rs-en\"/><link rel=\"alternate\" hreflang=\"fr-sc\" href=\"https://web.archive.org/web/20230224123642/https://www.ibm.com/sc-fr\"/><link rel=\"alternate\" hreflang=\"en-sl\" href=\"https://web.archive.org/web/20230224123642/https://www.ibm.com/sl-en\"/><link rel=\"alternate\" hreflang=\"en-sg\" href=\"https://web.archive.org/web/20230224123642/https://www.ibm.com/sg-en\"/><link rel=\"alternate\" hreflang=\"en-sk\" href=\"https://web.archive.org/web/20230224123642/https://www.ibm.com/sk-en\"/><link rel=\"alternate\" hreflang=\"en-si\" href=\"https://web.archive.org/web/20230224123642/https://www.ibm.com/si-en\"/><link rel=\"alternate\" hreflang=\"en-za\" href=\"https://web.archive.org/web/20230224123642/https://www.ibm.com/za-en\"/><link rel=\"alternate\" hreflang=\"es-es\" href=\"https://web.archive.org/web/20230224123642/https://www.ibm.com/es-es\"/><link rel=\"alternate\" hreflang=\"en-lk\" href=\"https://web.archive.org/web/20230224123642/https://www.ibm.com/lk-en\"/><link rel=\"alternate\" hreflang=\"en-sr\" href=\"https://web.archive.org/web/20230224123642/https://www.ibm.com/sr-en\"/><link rel=\"alternate\" hreflang=\"en-se\" href=\"https://web.archive.org/web/20230224123642/https://www.ibm.com/se-en\"/><link rel=\"alternate\" hreflang=\"fr-ch\" href=\"https://web.archive.org/web/20230224123642/https://www.ibm.com/ch-fr\"/><link rel=\"alternate\" hreflang=\"de-ch\" href=\"https://web.archive.org/web/20230224123642/https://www.ibm.com/ch-de\"/><link rel=\"alternate\" hreflang=\"zh-tw\" href=\"https://web.archive.org/web/20230224123642/https://www.ibm.com/tw-zh\"/><link rel=\"alternate\" hreflang=\"en-tz\" href=\"https://web.archive.org/web/20230224123642/https://www.ibm.com/tz-en\"/><link rel=\"alternate\" hreflang=\"en-th\" href=\"https://web.archive.org/web/20230224123642/https://www.ibm.com/th-en\"/><link rel=\"alternate\" hreflang=\"en-tt\" href=\"https://web.archive.org/web/20230224123642/https://www.ibm.com/tt-en\"/><link rel=\"alternate\" hreflang=\"fr-tn\" href=\"https://web.archive.org/web/20230224123642/https://www.ibm.com/tn-fr\"/><link rel=\"alternate\" hreflang=\"tr-tr\" href=\"https://web.archive.org/web/20230224123642/https://www.ibm.com/tr-tr\"/><link rel=\"alternate\" hreflang=\"en-ye\" href=\"https://web.archive.org/web/20230224123642/https://www.ibm.com/ye-en\"/><link rel=\"alternate\" hreflang=\"en-tc\" href=\"https://web.archive.org/web/20230224123642/https://www.ibm.com/tc-en\"/><link rel=\"alternate\" hreflang=\"en-ua\" href=\"https://web.archive.org/web/20230224123642/https://www.ibm.com/ua-en\"/><link rel=\"alternate\" hreflang=\"en-ug\" href=\"https://web.archive.org/web/20230224123642/https://www.ibm.com/ug-en\"/><link rel=\"alternate\" hreflang=\"en-ae\" href=\"https://web.archive.org/web/20230224123642/https://www.ibm.com/ae-en\"/><link rel=\"alternate\" hreflang=\"en-gb\" href=\"https://web.archive.org/web/20230224123642/https://www.ibm.com/uk-en\"/><link rel=\"alternate\" hreflang=\"es-uy\" href=\"https://web.archive.org/web/20230224123642/https://www.ibm.com/uy-es\"/><link rel=\"alternate\" hreflang=\"en-uz\" href=\"https://web.archive.org/web/20230224123642/https://www.ibm.com/uz-en\"/><link rel=\"alternate\" hreflang=\"es-ve\" href=\"https://web.archive.org/web/20230224123642/https://www.ibm.com/ve-es\"/><link rel=\"alternate\" hreflang=\"en-vn\" href=\"https://web.archive.org/web/20230224123642/https://www.ibm.com/vn-en\"/><link rel=\"alternate\" hreflang=\"en-zm\" href=\"https://web.archive.org/web/20230224123642/https://www.ibm.com/zm-en\"/><link rel=\"alternate\" hreflang=\"en-zw\" href=\"https://web.archive.org/web/20230224123642/https://www.ibm.com/zw-en\"/><meta name=\"next-head-count\" content=\"155\"/><link rel=\"preload\" href=\"./_next/static/css/styles.00ad75a6.chunk.css\" as=\"style\"/><link rel=\"stylesheet\" href=\"/web/20230224123642cs_/https://www.ibm.com/us-en/_next/static/css/styles.00ad75a6.chunk.css\" data-n-g=\"\"/><noscript data-n-css=\"\"></noscript><link rel=\"preload\" href=\"./_next/static/chunks/webpack-9a6e2dd34947de61505d.js\" as=\"script\"/><link rel=\"preload\" href=\"./_next/static/chunks/framework.602aaa49e9cf44108ea4.js\" as=\"script\"/><link rel=\"preload\" href=\"./_next/static/chunks/commons.56cd7ef778495da405ee.js\" as=\"script\"/><link rel=\"preload\" href=\"./_next/static/chunks/3ef630e34cd10ba68f9d468ac363ff81c534e1e9.d2f601340e1658353edc.js\" as=\"script\"/><link rel=\"preload\" href=\"./_next/static/chunks/main-51700067fcf16cbe3818.js\" as=\"script\"/><link rel=\"preload\" href=\"./_next/static/chunks/styles.3461e1160e1b06bf3496.js\" as=\"script\"/><link rel=\"preload\" href=\"./_next/static/chunks/pages/_app-692f4737856e6f61cf41.js\" as=\"script\"/><link rel=\"preload\" href=\"./_next/static/chunks/1c920f04.f4270e422fa8c16ba0f4.js\" as=\"script\"/><link rel=\"preload\" href=\"./_next/static/chunks/5f6bb6fb.63224c0f3a7ce047c8e2.js\" as=\"script\"/><link rel=\"preload\" href=\"./_next/static/chunks/8f19d780.9518ac89ebf3ed164ec7.js\" as=\"script\"/><link rel=\"preload\" href=\"./_next/static/chunks/8edc3fe5.f57e384a441d6dc22242.js\" as=\"script\"/><link rel=\"preload\" href=\"./_next/static/chunks/fc20e1c4.d98d23767340a1237305.js\" as=\"script\"/><link rel=\"preload\" href=\"./_next/static/chunks/a37fbe3b.f465653335f45cc0fa1b.js\" as=\"script\"/><link rel=\"preload\" href=\"./_next/static/chunks/bc80632e.7250d666a9b091e0e0e4.js\" as=\"script\"/><link rel=\"preload\" href=\"./_next/static/chunks/1dd0fb51.f16e33f7e2db3449d18e.js\" as=\"script\"/><link rel=\"preload\" href=\"./_next/static/chunks/56b0df7b.a548554a4a80dea8f00a.js\" as=\"script\"/><link rel=\"preload\" href=\"./_next/static/chunks/b222b98b.ebaff15e961fd9a66fec.js\" as=\"script\"/><link rel=\"preload\" href=\"./_next/static/chunks/500f7593.4b01426721d5ac82f9ba.js\" as=\"script\"/><link rel=\"preload\" href=\"./_next/static/chunks/5d8d49e442f4e00190cb1a13966c1f91ed87c0f4.c5cea6b9909ecf9bea26.js\" as=\"script\"/><link rel=\"preload\" href=\"./_next/static/chunks/11.f003844d8f71e73157c2.js\" as=\"script\"/><link rel=\"preload\" href=\"./_next/static/chunks/pages/index-6fa402b7cf0ac5e5bee1.js\" as=\"script\"/></head><body><div id=\"__next\"><div><div class=\"bx--dotcom-shell\"><main class=\"dds-ce-demo--ui-shell-content\"><div><dds-masthead-container data-endpoint=\"/common/carbon-for-ibm-dotcom/translations/masthead-footer/v2\" auth-method=\"profile-api\" has-contact=\"false\">\\n                  </dds-masthead-container></div><div class=\"newsflash-placeholder\"></div><div id=\"typing-leadspace\" class=\"bx--grid\"><div class=\"bx--row\"><div class=\"bx--col-lg-14\"><div class=\"bx--typewriter-effect bx--typewriter-effect-large\"><h1 class=\"bx--leadspace-title\"><span class=\"bx--text-black\"></span><span class=\"bx--text-blue\">|</span><span class=\"bx--text-white\">X-Force Threat Intelligence Index</span></h1><p class=\"bx--leadspace-copy\">Backdoor deployments spiked in 2022, but 67% failed due to defender disruption of ransomware attempts</p><ol class=\"bx--buttongroup\" data-autoid=\"dds--button-group\" style=\"--dds--button-group--item-count:1\"><li class=\"bx--buttongroup-item\"><a data-autoid=\"dds--button-group-0\" copy=\"Get the new report\" tabindex=\"0\" class=\"bx--btn bx--btn--primary bx--btn--expressive\" href=\"https://web.archive.org/web/20230224123642/https://www.ibm.com/reports/threat-intelligence/\">Get the new report<svg focusable=\"false\" preserveaspectratio=\"xMidYMid meet\" xmlns=\"http://www.w3.org/2000/svg\" fill=\"currentColor\" width=\"20\" height=\"20\" viewbox=\"0 0 20 20\" aria-hidden=\"true\" class=\"bx--btn__icon\"><path d=\"M11.8 2.8L10.8 3.8 16.2 9.3 1 9.3 1 10.7 16.2 10.7 10.8 16.2 11.8 17.2 19 10z\"></path></svg></a></li></ol></div></div></div></div><hr data-autoid=\"dds--hr\" class=\"bx--hr bx--hr--medium-contrast\"/><div id=\"main-content\" style=\"background-color:#FFF\"><div><div class=\"ibm-br--toc-section\"><section data-autoid=\"dds--tableofcontents\" class=\"bx--tableofcontents bx--tableofcontents--white\"><div class=\"dds-ce--table-of-contents__container\"><div class=\"bx--tableofcontents__sidebar\"><div class=\"bx--tableofcontents__mobile-top\"></div><div style=\"position:sticky;top:64px\"><div class=\"bx--tableofcontents__desktop\" data-autoid=\"dds--tableofcontents__desktop\"><ul></ul></div><div class=\"bx--tableofcontents__mobile\" data-autoid=\"dds--tableofcontents__mobile\"><div class=\"bx--tableofcontents__mobile__select__wrapper\"><select aria-label=\"Jump to\" class=\"bx--tableofcontents__mobile__select\"><option selected=\"\" class=\"bx--tableofcontents__mobile__select__option\" data-autoid=\"dds--tableofcontents__mobile__select__option-menuLabel\" value=\"menuLabel\" disabled=\"\" hidden=\"\">Jump to ...</option></select><svg focusable=\"false\" preserveaspectratio=\"xMidYMid meet\" xmlns=\"http://www.w3.org/2000/svg\" fill=\"currentColor\" aria-label=\"menu icon\" width=\"20\" height=\"20\" viewbox=\"0 0 32 32\" role=\"img\" class=\"bx--tableofcontents__mobile__select__icon\"><path d=\"M4 6H22V8H4zM4 12H22V14H4zM4 18H22V20H4zM4 24H22V26H4zM26 6H28V8H26zM26 12H28V14H26zM26 18H28V20H26zM26 24H28V26H26z\"></path><title>menu icon</title></svg></div></div></div></div><div class=\"bx--tableofcontents__content\"><div class=\"bx--tableofcontents__content-wrapper\"><a name=\"welcome\" data-title=\"About IBM\"></a><div class=\"ibm--br-intro-section ibm--fade\"><h2 class=\"bx--type-expressive-heading-05 ibm-br--heading-05\">We enable people, ideas and technologies to make the world work better through hybrid cloud and AI</h2><p><div class=\"bx--link-list\" data-autoid=\"dds--link-list\"><ul class=\"bx--link-list__list bx--link-list__list--vertical\"><li class=\"bx--link-list__list__CTA bx--link-list__list--local\"><div><div class=\"bx--link-with-icon__container\" data-autoid=\"dds--link-with-icon\"><a class=\"bx--link bx--link-with-icon bx--link-with-icon--inline-icon bx--link--lg\" href=\"https://web.archive.org/web/20230224123642/https://www.ibm.com/about\"><span>About IBM</span><svg focusable=\"false\" preserveaspectratio=\"xMidYMid meet\" xmlns=\"http://www.w3.org/2000/svg\" fill=\"currentColor\" width=\"20\" height=\"20\" viewbox=\"0 0 20 20\" aria-hidden=\"true\"><path d=\"M11.8 2.8L10.8 3.8 16.2 9.3 1 9.3 1 10.7 16.2 10.7 10.8 16.2 11.8 17.2 19 10z\"></path></svg></a></div></div></li></ul></div></p></div><a name=\"consulting\" data-title=\"Consulting\"></a><div class=\"ibm--spacer\"></div><div class=\"ibm--fade bx--custom-band-consulting\"><h2 class=\"bx--type-productive-heading-07\">Consulting</h2><dds-tabs-extended><dds-tab label=\"Overview\"><div class=\"bx--custom-content-item bx--grid bx--no-gutter\"><div class=\"bx--row\"><div class=\"bx--custom-content-item-col-image\"><div class=\"bx--image\" data-autoid=\"dds--image__longdescription\"><picture><img class=\"bx--image__img\" src=\"https://web.archive.org/web/20230224123642im_/https://1.dam.s81c.com/p/0a23e414312bcb6f/08196d0e04260ae5_cropped.jpg.global.sr_16x9.jpg\" alt=\"Person standing with arms crossed\" aria-describedby=\"bx--image-1\"/></picture><div id=\"bx--image-1\" class=\"bx--image__longdescription\">Person standing with arms crossed</div></div></div><div class=\"bx--custom-content-item-col-content\"><h3>Accelerate together</h3><p>Work with experts to speed business transformation through technology and an open ecosystem approach</p><div class=\"bx--link-list\" data-autoid=\"dds--link-list\"><ul class=\"bx--link-list__list bx--link-list__list--vertical\"><li class=\"bx--link-list__list__CTA bx--link-list__list--local\"><div><div class=\"bx--link-with-icon__container\" data-autoid=\"dds--link-with-icon\"><a class=\"bx--link bx--link-with-icon bx--link-with-icon--inline-icon bx--link--lg\" href=\"https://web.archive.org/web/20230224123642/https://www.ibm.com/consulting/?lnk=flathl\"><span>Explore IBM Consulting services</span><svg focusable=\"false\" preserveaspectratio=\"xMidYMid meet\" xmlns=\"http://www.w3.org/2000/svg\" fill=\"currentColor\" width=\"20\" height=\"20\" viewbox=\"0 0 20 20\" aria-hidden=\"true\"><path d=\"M11.8 2.8L10.8 3.8 16.2 9.3 1 9.3 1 10.7 16.2 10.7 10.8 16.2 11.8 17.2 19 10z\"></path></svg></a></div></div></li></ul></div></div></div></div></dds-tab><dds-tab label=\"Strategy\"><div class=\"bx--custom-content-item bx--grid bx--no-gutter\"><div class=\"bx--row\"><div class=\"bx--custom-content-item-col-image\"><div class=\"bx--image\" data-autoid=\"dds--image__longdescription\"><picture><img class=\"bx--image__img\" src=\"https://web.archive.org/web/20230224123642im_/https://1.dam.s81c.com/p/06655c075aa3aa29/CaitOppermann_2019_12_06_IBMGarage_DSC3304.jpg.global.m_16x9.jpg\" alt=\"Team members at work in a conference room\" aria-describedby=\"bx--image-2\"/></picture><div id=\"bx--image-2\" class=\"bx--image__longdescription\">Team members at work in a conference room</div></div></div><div class=\"bx--custom-content-item-col-content\"><h3>Reimagine everything</h3><p>Your business has the potential to thrive in a digital world. Letâ\\x80\\x99s make it happen.</p><div class=\"bx--link-list\" data-autoid=\"dds--link-list\"><ul class=\"bx--link-list__list bx--link-list__list--vertical\"><li class=\"bx--link-list__list__CTA bx--link-list__list--local\"><div><div class=\"bx--link-with-icon__container\" data-autoid=\"dds--link-with-icon\"><a class=\"bx--link bx--link-with-icon bx--link-with-icon--inline-icon bx--link--lg\" href=\"https://web.archive.org/web/20230224123642/https://www.ibm.com/consulting/strategy/?lnk=flathl\"><span>Create your new strategy</span><svg focusable=\"false\" preserveaspectratio=\"xMidYMid meet\" xmlns=\"http://www.w3.org/2000/svg\" fill=\"currentColor\" width=\"20\" height=\"20\" viewbox=\"0 0 20 20\" aria-hidden=\"true\"><path d=\"M11.8 2.8L10.8 3.8 16.2 9.3 1 9.3 1 10.7 16.2 10.7 10.8 16.2 11.8 17.2 19 10z\"></path></svg></a></div></div></li></ul></div></div></div></div></dds-tab><dds-tab label=\"Experience\"><div class=\"bx--custom-content-item bx--grid bx--no-gutter\"><div class=\"bx--row\"><div class=\"bx--custom-content-item-col-image\"><div class=\"bx--image\" data-autoid=\"dds--image__longdescription\"><picture><img class=\"bx--image__img\" src=\"https://web.archive.org/web/20230224123642im_/https://1.dam.s81c.com/p/08f951353c2707b8/052022_CaitOppermann_InsideIBM_London_2945_03.jpg.global.sr_16x9.jpg\" alt=\"Coworkers looking at laptops\" aria-describedby=\"bx--image-3\"/></picture><div id=\"bx--image-3\" class=\"bx--image__longdescription\">Coworkers looking at laptops</div></div></div><div class=\"bx--custom-content-item-col-content\"><h3>Transformation is a journey</h3><p>A human-centered approach helps IBM Consulting clients transform user experiences</p><div class=\"bx--link-list\" data-autoid=\"dds--link-list\"><ul class=\"bx--link-list__list bx--link-list__list--vertical\"><li class=\"bx--link-list__list__CTA bx--link-list__list--local\"><div><div class=\"bx--link-with-icon__container\" data-autoid=\"dds--link-with-icon\"><a class=\"bx--link bx--link-with-icon bx--link-with-icon--inline-icon bx--link--lg\" href=\"https://web.archive.org/web/20230224123642/https://www.ibm.com/consulting/ibmix?lnk=flathl\"><span>Take the first step</span><svg focusable=\"false\" preserveaspectratio=\"xMidYMid meet\" xmlns=\"http://www.w3.org/2000/svg\" fill=\"currentColor\" width=\"20\" height=\"20\" viewbox=\"0 0 20 20\" aria-hidden=\"true\"><path d=\"M11.8 2.8L10.8 3.8 16.2 9.3 1 9.3 1 10.7 16.2 10.7 10.8 16.2 11.8 17.2 19 10z\"></path></svg></a></div></div></li></ul></div></div></div></div></dds-tab><dds-tab label=\"Technology\"><div class=\"bx--custom-content-item bx--grid bx--no-gutter\"><div class=\"bx--row\"><div class=\"bx--custom-content-item-col-image\"><div class=\"bx--image\" data-autoid=\"dds--image__longdescription\"><picture><img class=\"bx--image__img\" src=\"https://web.archive.org/web/20230224123642im_/https://1.dam.s81c.com/p/064e0139f5a3aa5e/0500002_Lowell_LI_100119.jpg.global.sr_16x9.jpg\" alt=\"Cloud developer with red sweater coding at desk\" aria-describedby=\"bx--image-4\"/></picture><div id=\"bx--image-4\" class=\"bx--image__longdescription\">Cloud developer with red sweater coding at desk</div></div></div><div class=\"bx--custom-content-item-col-content\"><h3>An open future for technology</h3><p>Unite and align your strategy and process to meaningful automation, AI insights and outcomes</p><div class=\"bx--link-list\" data-autoid=\"dds--link-list\"><ul class=\"bx--link-list__list bx--link-list__list--vertical\"><li class=\"bx--link-list__list__CTA bx--link-list__list--local\"><div><div class=\"bx--link-with-icon__container\" data-autoid=\"dds--link-with-icon\"><a class=\"bx--link bx--link-with-icon bx--link-with-icon--inline-icon bx--link--lg\" href=\"https://web.archive.org/web/20230224123642/https://www.ibm.com/consulting/technology/\"><span>Modernize with impact</span><svg focusable=\"false\" preserveaspectratio=\"xMidYMid meet\" xmlns=\"http://www.w3.org/2000/svg\" fill=\"currentColor\" width=\"20\" height=\"20\" viewbox=\"0 0 20 20\" aria-hidden=\"true\"><path d=\"M11.8 2.8L10.8 3.8 16.2 9.3 1 9.3 1 10.7 16.2 10.7 10.8 16.2 11.8 17.2 19 10z\"></path></svg></a></div></div></li></ul></div></div></div></div></dds-tab><dds-tab label=\"Operations\"><div class=\"bx--custom-content-item bx--grid bx--no-gutter\"><div class=\"bx--row\"><div class=\"bx--custom-content-item-col-image\"><div class=\"bx--image\" data-autoid=\"dds--image__longdescription\"><picture><img class=\"bx--image__img\" src=\"https://web.archive.org/web/20230224123642im_/https://1.dam.s81c.com/p/0795cae91a25156f/conveyorrobottopview.jpg.global.sr_16x9.jpg\" alt=\"Aerial view of automated conveyer belt and machinery at work\" aria-describedby=\"bx--image-5\"/></picture><div id=\"bx--image-5\" class=\"bx--image__longdescription\">Aerial view of automated conveyer belt and machinery at work</div></div></div><div class=\"bx--custom-content-item-col-content\"><h3>Operate with experience</h3><p>Flexibly orchestrate your people, process, data and technology to deliver outcomes efficiently</p><div class=\"bx--link-list\" data-autoid=\"dds--link-list\"><ul class=\"bx--link-list__list bx--link-list__list--vertical\"><li class=\"bx--link-list__list__CTA bx--link-list__list--local\"><div><div class=\"bx--link-with-icon__container\" data-autoid=\"dds--link-with-icon\"><a class=\"bx--link bx--link-with-icon bx--link-with-icon--inline-icon bx--link--lg\" href=\"https://web.archive.org/web/20230224123642/https://www.ibm.com/consulting/operations/?lnk=flathl\"><span>Turn ideas into action</span><svg focusable=\"false\" preserveaspectratio=\"xMidYMid meet\" xmlns=\"http://www.w3.org/2000/svg\" fill=\"currentColor\" width=\"20\" height=\"20\" viewbox=\"0 0 20 20\" aria-hidden=\"true\"><path d=\"M11.8 2.8L10.8 3.8 16.2 9.3 1 9.3 1 10.7 16.2 10.7 10.8 16.2 11.8 17.2 19 10z\"></path></svg></a></div></div></li></ul></div></div></div></div></dds-tab><dds-tab label=\"Partners\"><div class=\"bx--custom-content-item bx--grid bx--no-gutter\"><div class=\"bx--row\"><div class=\"bx--custom-content-item-col-image\"><div class=\"bx--image\" data-autoid=\"dds--image__longdescription\"><picture><img class=\"bx--image__img\" src=\"https://web.archive.org/web/20230224123642im_/https://1.dam.s81c.com/p/06dfa9ccdba4ec79/1f417900-9042-44d1-9c219a854bbb62ea.jpg.global.sr_16x9.jpg\" alt=\"Overhead view of partners collaborating on design with laptops and coffee\" aria-describedby=\"bx--image-6\"/></picture><div id=\"bx--image-6\" class=\"bx--image__longdescription\">Overhead view of partners collaborating on design with laptops and coffee</div></div></div><div class=\"bx--custom-content-item-col-content\"><h3>Business relationships that count</h3><p>Partner with platform and infrastructure leaders to build cost-effective, open ecosystems</p><div class=\"bx--link-list\" data-autoid=\"dds--link-list\"><ul class=\"bx--link-list__list bx--link-list__list--vertical\"><li class=\"bx--link-list__list__CTA bx--link-list__list--local\"><div><div class=\"bx--link-with-icon__container\" data-autoid=\"dds--link-with-icon\"><a class=\"bx--link bx--link-with-icon bx--link-with-icon--inline-icon bx--link--lg\" href=\"https://web.archive.org/web/20230224123642/https://www.ibm.com/strategic-partnerships\"><span>Unlock new opportunities</span><svg focusable=\"false\" preserveaspectratio=\"xMidYMid meet\" xmlns=\"http://www.w3.org/2000/svg\" fill=\"currentColor\" width=\"20\" height=\"20\" viewbox=\"0 0 20 20\" aria-hidden=\"true\"><path d=\"M11.8 2.8L10.8 3.8 16.2 9.3 1 9.3 1 10.7 16.2 10.7 10.8 16.2 11.8 17.2 19 10z\"></path></svg></a></div></div></li></ul></div></div></div></div></dds-tab></dds-tabs-extended></div><div class=\"bx--custom-featured-story ibm--fade\"><div class=\"bx--custom-featured-story-heading\"><h2 class=\"bx--type-productive-heading-07\">Whatâ\\x80\\x99s new</h2></div><dds-feature-section class=\"bx--custom-featured-story-section\" media-alignment=\"right\"><dds-image slot=\"image\" default-src=\"https://1.dam.s81c.com/p/0a9d035b4eaa2eea/MVH_official_portrait.jpg.global.l_1x1.jpg\" alt=\"Astronaut in a space suit posing with his helmet off\"><dds-image-item media=\"(min-width: 1312px)\" srcset=\"https://1.dam.s81c.com/p/0a9d035b4eaa2eea/MVH_official_portrait.jpg.global.l_1x1.jpg\"></dds-image-item><dds-image-item media=\"(min-width: 672px)\" srcset=\"https://1.dam.s81c.com/p/0a9d035b4eaa2eea/MVH_official_portrait.jpg.global.sr_4x3.jpg\"></dds-image-item><dds-image-item media=\"(min-width: 320px)\" srcset=\"https://1.dam.s81c.com/p/0a9d035b4eaa2eea/MVH_official_portrait.jpg.global.m_1x1.jpg\"></dds-image-item><dds-image-item media=\"(min-width: 320px)\" srcset=\"https://1.dam.s81c.com/p/0a9d035b4eaa2eea/MVH_official_portrait.jpg.global.s_1x1.jpg\"></dds-image-item></dds-image><dds-content-block-heading>A year in space</dds-content-block-heading><dds-content-item-paragraph slot=\"copy\">Astronaut Mark Vande Hei joins host Malcolm Gladwell to discuss his 355-day mission and what he learned about science and self-discovery</dds-content-item-paragraph><dds-feature-section-card-link class=\"bx--custom-featured-story-section-card-link\" slot=\"footer\" href=\"https://www.ibm.com/thought-leadership/smart/talks/\" cta-type=\"local\" color-scheme=\"inverse\"><dds-card-link-heading>Listen to the Smart Talks podcast</dds-card-link-heading><dds-card-cta-footer color-scheme=\"inverse\"> </dds-card-cta-footer></dds-feature-section-card-link></dds-feature-section></div><a name=\"Technology\" id=\"ibm-hp--tech-section\" data-title=\"Technology\"></a><div class=\"ibm--fade\"><div class=\"bx--custom-widget-band-header\"><h2 class=\"bx--type-productive-heading-07\">Explore our technology</h2></div><div class=\"bx--widget-container\" id=\"product-explorer-main-offering\" data-widget=\"product-explorer-main-offering\" data-localecode=\"en-us\" data-full-width=\"true\"></div></div><a name=\"inside-ibm\" data-title=\"Inside IBM\"></a><div class=\"bx--custom-cards-carousel-wrapper ibm--fade\"><div class=\"bx--custom-cards-carousel-heading\"><h2 class=\"bx--type-productive-heading-07\">Inside IBM</h2></div><div class=\"bx--grid bx--grid--narrow bx--no-gutter\"><div class=\"bx--row\"><div class=\"bx--col bx--no-gutter\"><div class=\"bx--custom-cards-carousel\"><div data-autoid=\"dds--card-group\" class=\"bx--card-group__cards__row bx--row--condensed\" style=\"--dds--card-group--cards-in-row:3\"><div class=\"bx--card-group__cards__col\"><div class=\"bx--card-group__card\"><div class=\"bx--tile bx--card bx--card-link bx--card__CTA bx--card__CardCTA\" data-autoid=\"dds--card\" href=\"https://www.ibm.com/employment/?lnk=flatitem\"><div class=\"bx--card__wrapper\"><div class=\"bx--card__content\"><h3 class=\"bx--card__heading\">Careers at IBM</h3><div class=\"bx--card__copy\"><p>From a safer food supply to ethical AI, your skills can help tackle the worldâ\\x80\\x99s toughest problems</p> </div><a class=\"bx--link bx--card__footer\" href=\"https://web.archive.org/web/20230224123642/https://www.ibm.com/employment/?lnk=flatitem\" aria-label=\"Careers at IBM\"><svg focusable=\"false\" preserveaspectratio=\"xMidYMid meet\" xmlns=\"http://www.w3.org/2000/svg\" fill=\"currentColor\" src=\"[object Object]\" width=\"20\" height=\"20\" viewbox=\"0 0 20 20\" aria-hidden=\"true\" class=\"bx--card__cta\"><path d=\"M11.8 2.8L10.8 3.8 16.2 9.3 1 9.3 1 10.7 16.2 10.7 10.8 16.2 11.8 17.2 19 10z\"></path></svg></a></div></div></div></div></div><div class=\"bx--card-group__cards__col\"><div class=\"bx--card-group__card\"><div class=\"bx--tile bx--card bx--card-link bx--card__CTA bx--card__CardCTA\" data-autoid=\"dds--card\" href=\"https://www.ibm.com/impact\"><div class=\"bx--card__wrapper\"><div class=\"bx--card__content\"><h3 class=\"bx--card__heading\">Corporate social responsibility</h3><div class=\"bx--card__copy\"><p>IBM aspires to make a positive impact on the world, and the places where we work and live</p> </div><a class=\"bx--link bx--card__footer\" href=\"https://web.archive.org/web/20230224123642/https://www.ibm.com/impact\" aria-label=\"Corporate social responsibility\"><svg focusable=\"false\" preserveaspectratio=\"xMidYMid meet\" xmlns=\"http://www.w3.org/2000/svg\" fill=\"currentColor\" src=\"[object Object]\" width=\"20\" height=\"20\" viewbox=\"0 0 20 20\" aria-hidden=\"true\" class=\"bx--card__cta\"><path d=\"M11.8 2.8L10.8 3.8 16.2 9.3 1 9.3 1 10.7 16.2 10.7 10.8 16.2 11.8 17.2 19 10z\"></path></svg></a></div></div></div></div></div><div class=\"bx--card-group__cards__col\"><div class=\"bx--card-group__card\"><div class=\"bx--tile bx--card bx--card-link bx--card__CTA bx--card__CardCTA\" data-autoid=\"dds--card\" href=\"https://research.ibm.com/\"><div class=\"bx--card__wrapper\"><div class=\"bx--card__content\"><h3 class=\"bx--card__heading\">IBM Research</h3><div class=\"bx--card__copy\"><p>Around the globe, 3,000 IBM scientists and design thinkers are inventing whatâ\\x80\\x99s next in computing</p> </div><a class=\"bx--link bx--card__footer\" href=\"https://web.archive.org/web/20230224123642/https://research.ibm.com/\" aria-label=\"IBM Research\"><svg focusable=\"false\" preserveaspectratio=\"xMidYMid meet\" xmlns=\"http://www.w3.org/2000/svg\" fill=\"currentColor\" src=\"[object Object]\" width=\"20\" height=\"20\" viewbox=\"0 0 20 20\" aria-hidden=\"true\" class=\"bx--card__cta\"><path d=\"M11.8 2.8L10.8 3.8 16.2 9.3 1 9.3 1 10.7 16.2 10.7 10.8 16.2 11.8 17.2 19 10z\"></path></svg></a></div></div></div></div></div></div></div></div></div></div></div><div class=\"bx--custom-featured-story ibm--fade\"><div class=\"bx--custom-featured-story-heading\"><h2 class=\"bx--type-productive-heading-07\">Powering the future</h2></div><dds-feature-section class=\"bx--custom-featured-story-section\" media-alignment=\"right\"><dds-image slot=\"image\" default-src=\"https://1.dam.s81c.com/p/0a23e414312bcb7e/2019_ConnieZhou_BigBets_15.jpg.global.xl_1x1.jpg\" alt=\"IBM quantum computer\"><dds-image-item media=\"(min-width: 1312px)\" srcset=\"https://1.dam.s81c.com/p/0a23e414312bcb7e/2019_ConnieZhou_BigBets_15.jpg.global.xl_1x1.jpg\"></dds-image-item><dds-image-item media=\"(min-width: 672px)\" srcset=\"https://1.dam.s81c.com/p/0a23e414312bcb7e/2019_ConnieZhou_BigBets_15.jpg.global.l_4x3.jpg\"></dds-image-item><dds-image-item media=\"(min-width: 320px)\" srcset=\"https://1.dam.s81c.com/p/0a23e414312bcb7e/2019_ConnieZhou_BigBets_15.jpg.global.m_1x1.jpg\"></dds-image-item><dds-image-item media=\"(min-width: 320px)\" srcset=\"https://1.dam.s81c.com/p/0a23e414312bcb7e/2019_ConnieZhou_BigBets_15.jpg.global.s_1x1.jpg\"></dds-image-item></dds-image><dds-content-block-heading>Security in the era of quantum</dds-content-block-heading><dds-content-item-paragraph slot=\"copy\">Through encryption, quantum computing will profoundly alter how we secure our digital economy</dds-content-item-paragraph><dds-feature-section-card-link class=\"bx--custom-featured-story-section-card-link\" slot=\"footer\" href=\"https://www.ibm.com/thought-leadership/institute-business-value/en-us/report/quantum-safe-encryption\" cta-type=\"local\" color-scheme=\"inverse\"><dds-card-link-heading>Read the Expert Insights report</dds-card-link-heading><dds-card-cta-footer color-scheme=\"inverse\"> </dds-card-cta-footer></dds-feature-section-card-link></dds-feature-section></div></div></div></div></section></div></div></div><footer data-autoid=\"dds--footer\" class=\"bx--footer\"><section class=\"bx--footer__main\"><div class=\"bx--footer__main-container\"><div class=\"bx--footer__logo-container\"><div class=\"bx--footer__logo-row\"><div data-autoid=\"dds--footer-logo\" class=\"bx--footer-logo\"><a data-autoid=\"dds--footer-logo__link\" class=\"bx--footer-logo__link\" href=\"https://web.archive.org/web/20230224123642/https://www.ibm.com/\"><svg width=\"157\" height=\"65\" class=\"bx--footer-logo__logo\" viewbox=\"0 0 157 65\" xmlns=\"http://www.w3.org/2000/svg\"><title>IBM Logo</title><path d=\"M30.444 60.208v4.03H0v-4.03h30.444zm78.291-.001v4.03H86.983v-4.03h21.752zm47.858 0v4.03H134.84v-4.03h21.753zm-33.416 0l-1.398 4.03-1.38-4.03h2.778zm-88.384 0h42.775c-2.797 2.426-6.39 3.925-10.327 4.025l-.423.006H34.793v-4.03h42.775zm-4.35-8.46v4.03H0v-4.03h30.444zm52.402 0c-.332 1.248-.8 2.44-1.389 3.555l-.259.474H34.793v-4.029h48.052zm73.748-.005v4.031H134.84v-4.03h21.753zm-47.858 0v4.031H86.983v-4.03h21.752zm17.375 0l-1.398 4.031h-5.85l-1.395-4.03h8.643zM21.745 43.285v4.03H8.698v-4.03h13.047zm61.195 0a17.32 17.32 0 0 1 .476 3.51l.008.52H68.796v-4.03H82.94zm-26.401 0v4.03H43.491v-4.03H56.54zm72.502-.007l-1.396 4.03H115.93l-1.397-4.03h14.507zm18.85 0v4.03h-13.05v-4.03h13.05zm-39.156 0v4.03H95.684v-4.03h13.051zm-86.99-8.454v4.03H8.698v-4.03h13.047zm56.117 0a16.945 16.945 0 0 1 2.926 3.582l.264.447h-37.56v-4.03h34.37zm30.873-.01v4.03H95.684v-4.03h13.051zm39.157 0v4.03H134.84v-4.03h13.052zm-15.919 0l-1.396 4.03h-17.579l-1.396-4.03h20.371zm-50.778-8.452a16.963 16.963 0 0 1-2.82 3.674l-.37.355H43.49v-4.029h37.704zm-59.45 0v4.03H8.698v-4.03h13.047zm126.147-.013v4.031H134.84v-3.839l-1.33 3.839h-11.456l1.373-4.03h24.465zm-27.743 0l1.372 4.031h-11.456l-1.33-3.839v3.84H95.684v-4.032h24.465zm-98.404-8.448v4.03H8.698V17.9h13.047zm61.68 0c0 1.215-.134 2.399-.375 3.542l-.11.487H68.796V17.9h14.628zM56.538 17.9v4.03H43.491V17.9H56.54zm91.352-.015v4.03h-22.954l1.37-4.03h21.584zm-30.624 0l1.372 4.03H95.684v-4.03h21.583zM30.444 9.437v4.03H0v-4.03h30.444zm50.753 0a17.048 17.048 0 0 1 1.498 3.499l.15.531H34.794v-4.03h46.403zm75.396-.018v4.03h-28.776l1.373-4.03h27.403zm-42.207 0l1.372 4.031H86.982V9.42h27.404zM30.444.978v4.03H0V.977h30.444zm36.374 0c3.96 0 7.594 1.415 10.448 3.772l.303.257H34.794V.977h32.024zm89.775-.022v4.031h-25.894l1.372-4.03h24.522zm-45.098 0l1.372 4.03H86.982V.955h24.513z\"></path></svg></a></div><div class=\"bx--locale-btn__container\"><button data-autoid=\"dds--locale-btn\" aria-label=\"\" tabindex=\"0\" class=\"bx--locale-btn bx--btn bx--btn--tertiary\" type=\"button\"><svg focusable=\"false\" preserveaspectratio=\"xMidYMid meet\" xmlns=\"http://www.w3.org/2000/svg\" fill=\"currentColor\" aria-label=\"Earth Filled Icon\" aria-hidden=\"true\" width=\"20\" height=\"20\" viewbox=\"0 0 32 32\" role=\"img\" class=\"bx--btn__icon\"><path d=\"M16,2A14,14,0,1,0,30,16,14.0158,14.0158,0,0,0,16,2ZM4.02,16.394l1.3384.4458L7,19.3027v1.2831a1,1,0,0,0,.2929.7071L10,24v2.3765A11.9941,11.9941,0,0,1,4.02,16.394ZM16,28a11.9682,11.9682,0,0,1-2.5718-.2847L14,26l1.8046-4.5116a1,1,0,0,0-.0964-.9261l-1.4113-2.117A1,1,0,0,0,13.4648,18h-4.93L7.2866,16.1274,9.4141,14H11v2h2V13.2656l3.8682-6.7695-1.7364-.9922L14.2769,7H11.5352l-1.086-1.6289A11.861,11.861,0,0,1,20,4.7V8a1,1,0,0,0,1,1h1.4648a1,1,0,0,0,.8321-.4453l.8769-1.3154A12.0331,12.0331,0,0,1,26.8945,11H22.82a1,1,0,0,0-.9806.8039l-.7221,4.4708a1,1,0,0,0,.54,1.0539L25,19l.6851,4.0557A11.9793,11.9793,0,0,1,16,28Z\"></path></svg></button><div data-autoid=\"dds--locale-modal\" role=\"presentation\" aria-hidden=\"true\" class=\"bx--modal bx--locale-modal-container\"><div class=\"bx--modal-container\" role=\"dialog\" aria-modal=\"true\" aria-label=\",[object Object]\"><button type=\"button\" class=\"bx--visually-hidden\">Focus sentinel</button><div class=\"bx--modal-container-body\"><div class=\"bx--modal-header\"><h2 class=\"bx--modal-header__label bx--type-delta\"><svg focusable=\"false\" preserveaspectratio=\"xMidYMid meet\" xmlns=\"http://www.w3.org/2000/svg\" fill=\"currentColor\" width=\"16\" height=\"16\" viewbox=\"0 0 32 32\" aria-hidden=\"true\" class=\"bx--locale-modal__label-globe\"><path d=\"M16,2A14,14,0,1,0,30,16,14.0158,14.0158,0,0,0,16,2ZM4.02,16.394l1.3384.4458L7,19.3027v1.2831a1,1,0,0,0,.2929.7071L10,24v2.3765A11.9941,11.9941,0,0,1,4.02,16.394ZM16,28a11.9682,11.9682,0,0,1-2.5718-.2847L14,26l1.8046-4.5116a1,1,0,0,0-.0964-.9261l-1.4113-2.117A1,1,0,0,0,13.4648,18h-4.93L7.2866,16.1274,9.4141,14H11v2h2V13.2656l3.8682-6.7695-1.7364-.9922L14.2769,7H11.5352l-1.086-1.6289A11.861,11.861,0,0,1,20,4.7V8a1,1,0,0,0,1,1h1.4648a1,1,0,0,0,.8321-.4453l.8769-1.3154A12.0331,12.0331,0,0,1,26.8945,11H22.82a1,1,0,0,0-.9806.8039l-.7221,4.4708a1,1,0,0,0,.54,1.0539L25,19l.6851,4.0557A11.9793,11.9793,0,0,1,16,28Z\"></path></svg></h2><button class=\"bx--modal-close\" title=\"Close\" aria-label=\"Close\" type=\"button\"><svg focusable=\"false\" preserveaspectratio=\"xMidYMid meet\" xmlns=\"http://www.w3.org/2000/svg\" fill=\"currentColor\" width=\"20\" height=\"20\" viewbox=\"0 0 32 32\" aria-hidden=\"true\" class=\"bx--modal-close__icon\"><path d=\"M24 9.4L22.6 8 16 14.6 9.4 8 8 9.4 14.6 16 8 22.6 9.4 24 16 17.4 22.6 24 24 22.6 17.4 16 24 9.4z\"></path></svg></button></div><div class=\"bx--modal-content bx--locale-modal \"><div class=\"bx--grid bx--no-gutter bx--locale-modal__regions\"><div class=\"bx--row\"></div></div><div class=\"bx--locale-modal__filter\"><div class=\"bx--locale-modal__search\"><div role=\"search\" aria-labelledby=\"bx--locale-modal__filter-search\" class=\"bx--search bx--search--xl\"><div class=\"bx--search-magnifier\"><svg focusable=\"false\" preserveaspectratio=\"xMidYMid meet\" xmlns=\"http://www.w3.org/2000/svg\" fill=\"currentColor\" width=\"16\" height=\"16\" viewbox=\"0 0 16 16\" aria-hidden=\"true\" class=\"bx--search-magnifier-icon\"><path d=\"M15,14.3L10.7,10c1.9-2.3,1.6-5.8-0.7-7.7S4.2,0.7,2.3,3S0.7,8.8,3,10.7c2,1.7,5,1.7,7,0l4.3,4.3L15,14.3z M2,6.5\\tC2,4,4,2,6.5,2S11,4,11,6.5S9,11,6.5,11S2,9,2,6.5z\"></path></svg></div><label id=\"bx--locale-modal__filter-search\" for=\"bx--locale-modal__filter\" class=\"bx--label\">Search by location or language</label><input type=\"text\" role=\"searchbox\" autocomplete=\"off\" data-autoid=\"dds--locale-modal__filter\" tabindex=\"0\" class=\"bx--search-input\" id=\"bx--locale-modal__filter\" placeholder=\"\"/><button class=\"bx--search-close bx--search-close--hidden\" type=\"button\" aria-label=\"Clear search input\"><svg focusable=\"false\" preserveaspectratio=\"xMidYMid meet\" xmlns=\"http://www.w3.org/2000/svg\" fill=\"currentColor\" width=\"16\" height=\"16\" viewbox=\"0 0 32 32\" aria-hidden=\"true\"><path d=\"M24 9.4L22.6 8 16 14.6 9.4 8 8 9.4 14.6 16 8 22.6 9.4 24 16 17.4 22.6 24 24 22.6 17.4 16 24 9.4z\"></path></svg></button></div><p class=\"bx--locale-modal__search-text\"></p></div><ul class=\"bx--locale-modal__list\"><p class=\"bx--assistive-text\" role=\"status\" aria-live=\"assertive\"></p></ul></div></div></div><button type=\"button\" class=\"bx--visually-hidden\">Focus sentinel</button></div></div></div></div></div></div></section></footer></main><script src=\"https://web.archive.org/web/20230224123642js_/https://cdn.jsdelivr.net/npm/react@17/umd/react.production.min.js\"></script><script src=\"https://web.archive.org/web/20230224123642js_/https://cdn.jsdelivr.net/npm/react-dom@17/umd/react-dom.production.min.js\"></script><script src=\"https://web.archive.org/web/20230224123642js_/https://cdn.jsdelivr.net/npm/react-intl@5/dist/react-intl.min.js\"></script></div></div><script src=\"//web.archive.org/web/20230224123642js_/https://1.www.s81c.com/common/stats/ibm-common.js\" defer=\"\"></script><link href=\"//web.archive.org/web/20230224123642cs_/https://1.www.s81c.com/common/v18/css/forms.css\" rel=\"stylesheet\"/></div><script id=\"__NEXT_DATA__\" type=\"application/json\">{\"props\":{\"pageProps\":{\"data\":{\"_id\":\"7ec18a83cb1c595406965cba92f231c4\",\"_rev\":\"12390-664dacec7a75f48b5aaa3ac2b7c86663\",\"type\":\"production\",\"sections\":{\"leadspace\":{\"data\":{\"content\":[{\"blocklink\":true,\"largeCol\":\"bx--col-lg-6\",\"imagePos\":\"top right\",\"bgColor\":\"#000000\",\"ctaType\":\"links\",\"ctaColor\":\"gray-90\",\"webm\":\"\",\"gif\":\"\",\"videoImage\":\"\",\"ibmEvLinkTitle\":\"\",\"ibmEvGroup\":\"\",\"ibmEvName\":\"\",\"ibmEvSection\":\"L1\",\"ibmEvTarget\":\"\",\"lsPaddingTop\":\"ibm-pt-5\",\"lsPaddingBottom\":\"ibm-pb-5\",\"ctaOneVideoID\":\"\",\"ctaOneIcon\":\"forward\",\"videoID\":\"\",\"mp4\":\"\",\"type\":\"carbon\",\"ctaTwoVideoID\":\"\",\"ctaTwoIcon\":\"forward\",\"videoType\":\"kaltura\",\"alternate\":true,\"titleType\":\"bx--type-expressive-heading-05\",\"title\":\"The best of IBM 2022\\\\n\",\"copy\":\"From quantum breakthroughs to drug discovery, these 11 stories point to a brighter, more sustainable future\\\\n\",\"timestamp\":1671460488507,\"ctaOne\":\"See the year in review\",\"ctaOneLink\":\"https://web.archive.org/web/20230224123642/https://www.ibm.com/thought-leadership/best-of/2022/?lnk=ushpv18l1\",\"airtableID\":\"27195\",\"imageMobile\":\"https://web.archive.org/web/20230224123642/https://1.dam.s81c.com/p/0a23e3c651299e47/20221216-best-of-2022-mobile-720x360.jpg\",\"image\":\"https://web.archive.org/web/20230224123642/https://1.dam.s81c.com/p/0a23e3c651299e48/20221216-best-of-2022-2304x983.jpg\",\"videoPosition\":\"video-center\",\"imageAlt\":\"Collage of semiconductor, 6 new creators, mayflower ship, man in a cleanroom, woman writing on a whiteboard, 2 men moving a mainframe \"}]}},\"newsflash\":{\"data\":{\"content\":[{\"active\":false,\"videoID\":\"\",\"bgColor\":\"#001d6c\",\"videoType\":\"kaltura\",\"ibmEvSection\":\"NF1\",\"airtableID\":\"\",\"sandbox\":false,\"title\":\"\\\\u003cstrong\\\\u003eSurvey\\\\u003c/strong\\\\u003e: Many perceive technical training and certification as out of reach. IBM SkillsBuild can you help you learn for free, worldwide\\\\u0026nbsp;\\\\u0026#8594;\",\"stage\":false,\"timestamp\":1676563315130,\"videoTitle\":\"\",\"videoDesc\":\"\",\"link\":\"https://web.archive.org/web/20230224123642/https://newsroom.ibm.com/2023-02-14-New-IBM-Survey-Reveals-the-Greatest-Perceived-Barrier-to-Professional-or-Technical-Skill-Development-is-that-the-Programs-are-Too-Expensive?lnk=ushpv18nf1\"},{\"active\":false,\"videoID\":\"\",\"bgColor\":\"#001d6c\",\"videoType\":\"kaltura\",\"ibmEvSection\":\"NF2\",\"airtableID\":\"\",\"sandbox\":false,\"title\":\"\\\\u003cstrong\\\\u003eNew\\\\u003c/strong\\\\u003e: \\\\u0026nbsp;\\\\u0026#8594;\",\"stage\":false,\"timestamp\":1676316899591},{\"active\":false,\"videoID\":\"\",\"bgColor\":\"#001d6c\",\"videoType\":\"kaltura\",\"ibmEvSection\":\"NF3\",\"airtableID\":\"\",\"sandbox\":false,\"title\":\"\\\\u003cstrong\\\\u003eNew\\\\u003c/strong\\\\u003e: \\\\u0026nbsp;\\\\u0026#8594;\",\"stage\":false,\"timestamp\":1670900212031,\"videoTitle\":\"\",\"videoDesc\":\"\",\"link\":\"\"},{\"active\":false,\"videoID\":\"\",\"bgColor\":\"#001d6c\",\"videoType\":\"kaltura\",\"ibmEvSection\":\"NF4\",\"airtableID\":\"\",\"sandbox\":false,\"title\":\"\\\\u003cstrong\\\\u003eNew\\\\u003c/strong\\\\u003e: \\\\u0026nbsp;\\\\u0026#8594;\",\"stage\":false,\"timestamp\":1676046144350,\"link\":\"\"},{\"active\":false,\"videoID\":\"\",\"bgColor\":\"#001d6c\",\"videoType\":\"kaltura\",\"ibmEvSection\":\"NF5\",\"airtableID\":\"\",\"sandbox\":false,\"title\":\"\\\\u003cstrong\\\\u003eNew\\\\u003c/strong\\\\u003e:  IBM and NASA collaborate on new tech using AI to extract climate change insights from existing data\\\\u0026nbsp;\\\\u0026#8594;\",\"stage\":false,\"timestamp\":1675694677989,\"link\":\"https://web.archive.org/web/20230224123642/https://research.ibm.com/blog/ibm-nasa-foundation-models?lnk=ushpv18nf5\"},{\"active\":false,\"videoID\":\"\",\"bgColor\":\"#001d6c\",\"videoType\":\"kaltura\",\"ibmEvSection\":\"NF6\",\"airtableID\":\"\",\"sandbox\":false,\"title\":\"\\\\u003cstrong\\\\u003eNew\\\\u003c/strong\\\\u003e: \\\\u0026nbsp;\\\\u0026#8594;\",\"stage\":false,\"timestamp\":1668702082528,\"videoTitle\":\"\",\"videoDesc\":\"\",\"link\":\"\"},{\"active\":false,\"videoID\":\"\",\"bgColor\":\"#001d6c\",\"videoType\":\"kaltura\",\"ibmEvSection\":\"NF7\",\"airtableID\":\"\",\"sandbox\":false,\"title\":\"\\\\u003cstrong\\\\u003eNews\\\\u003c/strong\\\\u003e: IBM acquires StepZen to help enterprises get more business value from their data and APIs\\\\u0026nbsp;\\\\u0026#8594;\",\"stage\":false,\"timestamp\":1675970682146,\"link\":\"https://web.archive.org/web/20230224123642/https://newsroom.ibm.com/IBM-Acquires-StepZen-to-Help-Enterprises-Get-More-Business-Value-from-Their-Data-and-APIs?lnk=ushpv18nf7\"},{\"active\":false,\"videoID\":\"\",\"bgColor\":\"#001d6c\",\"videoType\":\"kaltura\",\"ibmEvSection\":\"NF8\",\"airtableID\":\"\",\"sandbox\":false,\"title\":\"\\\\u003cstrong\\\\u003eNew\\\\u003c/strong\\\\u003e: \\\\u0026nbsp;\\\\u0026#8594;\",\"stage\":false,\"timestamp\":1667576613575}]}},\"mastheadbtn\":{\"data\":{\"content\":[{\"stage\":false,\"tool\":false,\"title\":\"Stay safe, y\\\\u0026#8217;all.\",\"link\":\"https://web.archive.org/web/20230224123642/https://www.ibm.com/impact/covid-19/?lnk=ushpv18mb\",\"active\":false,\"timestamp\":1591040701251}]}},\"featured\":{\"data\":{\"content\":[{\"videoImage\":\"\",\"videoType\":\"kaltura\",\"ibmEvLinkTitle\":\"\",\"ibmEvGroup\":\"\",\"ibmEvName\":\"\",\"ibmEvSection\":\"F1\",\"ibmEvTarget\":\"\",\"damVideoMP4\":\"\",\"damVideoWebM\":\"\",\"icon\":\"forward\",\"videoID\":\"\",\"title\":\"27164 IBM iX\",\"timestamp\":1670602077463,\"airtableID\":\"27164\",\"eyebrow\":\"IBM iX: design-led, data-driven\",\"copy\":\"A human-centered approach helps IBM Consulting clients transform customer and employee experiences\",\"image\":\"https://web.archive.org/web/20230224123642/https://1.dam.s81c.com/p/0868c64e393cf933/2017_12_Slowell_Inside_IBM_Cloud_developers_242.jpg.global.s_4x3.jpg\",\"imageAlt\":\"Two co-workers talking at a desk\",\"button\":\"\",\"link\":\"https://web.archive.org/web/20230224123642/https://www.ibm.com/consulting/ibmix?lnk=ushpv18f1\"},{\"videoImage\":\"\",\"videoType\":\"youtube\",\"ibmEvLinkTitle\":\"\",\"ibmEvGroup\":\"\",\"ibmEvName\":\"\",\"ibmEvSection\":\"F2\",\"ibmEvTarget\":\"\",\"damVideoMP4\":\"\",\"damVideoWebM\":\"\",\"icon\":\"forward\",\"videoID\":\"\",\"title\":\"27173 Is your business cybersafe?\",\"copy\":\"Work with senior security consultants to understand where you are and where you need to go in this free 3\\\\u0026#8209;hour workshop\",\"eyebrow\":\"Is your business cybersafe?\\\\n\",\"timestamp\":1670602025015,\"airtableID\":\"27173\",\"image\":\"https://web.archive.org/web/20230224123642/https://1.dam.s81c.com/p/08a56f9ac246227c/20220801_26754_Countdown-to-Ransomware-guide-security-intelligence-444x333.jpg\",\"link\":\"https://web.archive.org/web/20230224123642/https://www.ibm.com/security/resources/workshop?lnk=ushpv18f2\",\"imageAlt\":\"Three IBM Security employees at a conference table interacting with a man at a whiteboard\"},{\"videoImage\":\"\",\"videoType\":\"youtube\",\"ibmEvLinkTitle\":\"\",\"ibmEvGroup\":\"\",\"ibmEvName\":\"\",\"ibmEvSection\":\"F3\",\"ibmEvTarget\":\"\",\"damVideoMP4\":\"\",\"damVideoWebM\":\"\",\"icon\":\"forward\",\"videoID\":\"\",\"title\":\"27158 Food trust/FSMA\",\"timestamp\":1670605658975,\"airtableID\":\"27158\",\"copy\":\"IBM Food Trust ensures a safer food supply and simplifies compliance with the latest US FDA traceability rules\",\"image\":\"https://web.archive.org/web/20230224123642/https://1.dam.s81c.com/p/04d38222a5bc17ff/84962edd-c289-4d32-ad92a178655984d5.jpg.global.s_4x3.jpg\",\"mobileImg\":\"https://web.archive.org/web/20230224123642/https://1.dam.s81c.com/public/content/dam/worldwide-content/homepage/ul/g/9e/7c/20210823-f-swiss-re-case-study-26069.jpg\",\"eyebrow\":\"A higher standard, farm to fork\",\"link\":\"https://web.archive.org/web/20230224123642/https://www.ibm.com/products/supply-chain-intelligence-suite/food-trust?lnk=ushpv18f3\",\"imageAlt\":\"Oranges on a factory assembly line\"},{\"videoImage\":\"\",\"videoType\":\"youtube\",\"ibmEvLinkTitle\":\"\",\"ibmEvGroup\":\"\",\"ibmEvName\":\"\",\"ibmEvSection\":\"F4\",\"ibmEvTarget\":\"\",\"damVideoMP4\":\"\",\"damVideoWebM\":\"\",\"icon\":\"forward\",\"videoID\":\"\",\"title\":\"27177 Year in review newsletters\",\"image\":\"https://web.archive.org/web/20230224123642/https://1.dam.s81c.com/p/08243aa34ebb7a36/2022_05_10_SpencerLowell_WorkingWorld_IBM_Brand_Library_285.jpg.global.s_4x3.jpg\",\"copy\":\"Three year-in-review newsletters will highlight the impact of todayâ\\x80\\x99s technology on the future of business. Subscribe now.\",\"eyebrow\":\"2022â\\x80\\x99s top thought leadership\",\"timestamp\":1670853303889,\"airtableID\":\"27177\",\"link\":\"https://web.archive.org/web/20230224123642/https://www.ibm.com/subscribe/?lnk=ushpv18f4\",\"imageAlt\":\"Orion Crew Module solar panel mockup deployment test at NASA Glen Research Center in Sandusky, Ohio\"},{\"subcopy\":\"\",\"ibmEvLinkTitle\":\"\",\"ibmEvGroup\":\"\",\"ibmEvName\":\"\",\"ibmEvSection\":\"F5\",\"ibmEvTarget\":\"\",\"button_mobile\":\"t1\",\"videoID\":\"\",\"icon\":\"forward\",\"image\":\"\",\"title\":\"\",\"eyebrow\":\"\",\"copy\":\"\",\"button\":\"\",\"timestamp\":1644590702649,\"airtableID\":\"\",\"link\":\"\"},{\"subcopy\":\"\",\"ibmEvLinkTitle\":\"\",\"ibmEvGroup\":\"\",\"ibmEvName\":\"\",\"ibmEvSection\":\"F6\",\"ibmEvTarget\":\"\",\"button_mobile\":\"t1\",\"videoID\":\"\",\"icon\":\"forward\",\"image\":\"https://web.archive.org/web/20230224123642/https://1.dam.s81c.com/public/content/dam/worldwide-content/homepage/ul/g/7b/7b/20220117-cloud-simplicity-26358-2304x983.png\",\"title\":\"\",\"eyebrow\":\"A unified cloud experience\",\"copy\":\"Build, deploy and scale faster across any environment with consistency and security\",\"button\":\"Simplify your multicloud\",\"timestamp\":1643665707293,\"airtableID\":\"\",\"link\":\"https://web.archive.org/web/20230224123642/https://www.ibm.com/cloud/campaign/cloud-simplicity?lnk=ushpv18f6\"},{\"videoImage\":\"\",\"videoType\":\"youtube\",\"ibmEvLinkTitle\":\"\",\"ibmEvGroup\":\"\",\"ibmEvName\":\"\",\"ibmEvSection\":\"F7\",\"ibmEvTarget\":\"\",\"damVideoMP4\":\"\",\"damVideoWebM\":\"\",\"icon\":\"forward\",\"videoID\":\"\",\"title\":\"\",\"link\":\"https://web.archive.org/web/20230224123642/https://www.ibm.com/consulting/?lnk=ushpv18f7\",\"image\":\"https://web.archive.org/web/20230224123642/https://1.dam.s81c.com/public/content/dam/worldwide-content/homepage/ul/g/ae/b2/20211103-f-ibm-consulting-26242.gif\",\"eyebrow\":\"Move fast and far with IBM Consulting\",\"copy\":\"Together, we can turn ideas into action better than we ever could alone\",\"button\":\"Navigate the new rules of modern business with a partner you\\\\u0026nbsp;trust\",\"timestamp\":1643665749045,\"airtableID\":\"\"},{\"videoID\":\"\",\"videoImage\":\"\",\"videoType\":\"youtube\",\"ibmEvLinkTitle\":\"\",\"ibmEvGroup\":\"\",\"ibmEvName\":\"\",\"ibmEvSection\":\"F8\",\"ibmEvTarget\":\"\",\"damVideoMP4\":\"\",\"damVideoWebM\":\"\",\"icon\":\"forward\",\"timestamp\":1643665604671,\"title\":\"\",\"eyebrow\":\"\",\"button\":\"\",\"copy\":\"\",\"image\":\"\",\"link\":\"\",\"airtableID\":\"\"},{\"videoImage\":\"\",\"videoType\":\"kaltura\",\"ibmEvLinkTitle\":\"\",\"ibmEvGroup\":\"\",\"ibmEvName\":\"\",\"ibmEvSection\":\"F9\",\"ibmEvTarget\":\"\",\"damVideoMP4\":\"\",\"damVideoWebM\":\"\",\"icon\":\"forward\",\"videoID\":\"\",\"title\":\"\",\"image\":\"\",\"link\":\"\",\"button\":\"\",\"eyebrow\":\"\",\"copy\":\"\",\"timestamp\":1643665619583,\"airtableID\":\"\"},{\"subcopy\":\"\",\"ibmEvLinkTitle\":\"\",\"ibmEvGroup\":\"\",\"ibmEvName\":\"\",\"ibmEvSection\":\"F10\",\"ibmEvTarget\":\"\",\"button_mobile\":\"t1\",\"videoID\":\"\",\"icon\":\"forward\",\"image\":\"\",\"title\":\"\",\"eyebrow\":\"\",\"copy\":\"\",\"button\":\"\",\"link\":\"\",\"timestamp\":1643665630573,\"airtableID\":\"\"},{\"subcopy\":\"\",\"ibmEvLinkTitle\":\"\",\"ibmEvGroup\":\"\",\"ibmEvName\":\"\",\"ibmEvSection\":\"F11\",\"ibmEvTarget\":\"\",\"button_mobile\":\"t1\",\"videoID\":\"\",\"icon\":\"forward\",\"image\":\"\",\"title\":\"\",\"eyebrow\":\"\",\"copy\":\"\",\"button\":\"\",\"link\":\"\",\"timestamp\":1643665641479,\"airtableID\":\"\"},{\"videoImage\":\"\",\"videoType\":\"kaltura\",\"ibmEvLinkTitle\":\"\",\"ibmEvGroup\":\"\",\"ibmEvName\":\"\",\"ibmEvSection\":\"F12\",\"ibmEvTarget\":\"\",\"damVideoMP4\":\"\",\"damVideoWebM\":\"\",\"icon\":\"forward\",\"videoID\":\"\",\"title\":\"\",\"eyebrow\":\"\",\"copy\":\"\",\"button\":\"\",\"image\":\"\",\"link\":\"\",\"timestamp\":1643665651571,\"airtableID\":\"\"}]},\"config\":{\"type\":\"quatro\",\"totalCards\":\"12\"}},\"research\":{\"data\":{\"content\":[{\"videoImage\":\"\",\"videoType\":\"youtube\",\"ibmEvLinkTitle\":\"\",\"ibmEvGroup\":\"\",\"ibmEvName\":\"\",\"ibmEvSection\":\"R1\",\"ibmEvTarget\":\"\",\"damVideoMP4\":\"\",\"damVideoWebM\":\"\",\"icon\":\"forward\",\"videoID\":\"\",\"title\":\"27189 Spot the dog safety monitor\",\"timestamp\":1670853838373,\"airtableID\":\"27189\",\"image\":\"https://web.archive.org/web/20230224123642/https://1.dam.s81c.com/p/0a23e41430abcb17/20221208-r1-spot-the-dog-robotics-offerings-27188-1600x900.jpg\",\"mobileImg\":\"https://web.archive.org/web/20230224123642/https://1.dam.s81c.com/public/content/dam/worldwide-content/homepage/ul/g/9e/7c/20210823-f-swiss-re-case-study-26069.jpg\",\"headline\":\"Pin-Yu Chen challenges AI every day to build the most trustworthy systems possible\",\"eyebrow\":\"Will Spot the danger-detecting robot be your safety inspectorâ\\x80\\x99s best friend?\",\"imageAlt\":\"composite image featuring Spot, the dog-like robot\",\"copy\":\"\\\\n\",\"link\":\"https://web.archive.org/web/20230224123642/https://research.ibm.com/blog/ibm-ai-edge-national-grid-monitoring?lnk=ushpv18r1\"},{\"videoImage\":\"\",\"videoType\":\"youtube\",\"ibmEvLinkTitle\":\"\",\"ibmEvGroup\":\"\",\"ibmEvName\":\"\",\"ibmEvSection\":\"R2\",\"ibmEvTarget\":\"\",\"damVideoMP4\":\"\",\"damVideoWebM\":\"\",\"icon\":\"forward\",\"videoID\":\"\",\"title\":\"27190 Quantum Open Science Prize\",\"timestamp\":1670593706262,\"airtableID\":\"27190\",\"copy\":\"\\\\n\",\"image\":\"https://web.archive.org/web/20230224123642/https://1.dam.s81c.com/p/09f257ea96c87909/20221205-r1-quantum-open-science-prize-1600x900.png\",\"mobileImg\":\"https://web.archive.org/web/20230224123642/https://1.dam.s81c.com/public/content/dam/worldwide-content/homepage/ul/g/9e/7c/20210823-f-swiss-re-case-study-26069.jpg\",\"headline\":\"AI processes can have a massive carbon footprint. They donâ\\x80\\x99t have to, thanks to analog AI.\",\"eyebrow\":\"IBM Quantumâ\\x80\\x99s Open Science Prize seeks the best open source solutions to pressing problems\",\"imageAlt\":\"Schematic illustration of the honeycomb-pattered Kagome lattice\",\"link\":\"https://web.archive.org/web/20230224123642/https://research.ibm.com/blog/ibm-quantum-open-science-prize-2022?lnk=ushpv18r2\"},{\"videoImage\":\"\",\"videoType\":\"youtube\",\"ibmEvLinkTitle\":\"\",\"ibmEvGroup\":\"\",\"ibmEvName\":\"\",\"ibmEvSection\":\"R3\",\"ibmEvTarget\":\"\",\"damVideoMP4\":\"\",\"damVideoWebM\":\"\",\"icon\":\"forward\",\"videoID\":\"\",\"title\":\"27191 Ruthenium 1nm chip\",\"timestamp\":1670593873723,\"airtableID\":\"27191\",\"copy\":\"\\\\n\",\"image\":\"https://web.archive.org/web/20230224123642/https://1.dam.s81c.com/p/09e9905470286c48/20221205-r1-1nm-chips-ruthenium-27178-1600x900.jpg\",\"mobileImg\":\"https://web.archive.org/web/20230224123642/https://1.dam.s81c.com/public/content/dam/worldwide-content/homepage/ul/g/9e/7c/20210823-f-swiss-re-case-study-26069.jpg\",\"headline\":\"AI processes can have a massive carbon footprint. They donâ\\x80\\x99t have to, thanks to analog AI.\",\"eyebrow\":\"The 1-nanometer future: a metal called ruthenium will shrink the worldâ\\x80\\x99s smallest chip below 2nm\",\"imageAlt\":\"Fingers holding a chip wafer with a computer chip closeup in an inset\",\"link\":\"https://web.archive.org/web/20230224123642/https://research.ibm.com/blog/1nm-chips-vtfet-ruthenium?lnk=ushpv18r3\"},{\"videoImage\":\"\",\"videoType\":\"youtube\",\"ibmEvLinkTitle\":\"\",\"ibmEvGroup\":\"\",\"ibmEvName\":\"\",\"ibmEvSection\":\"R4\",\"ibmEvTarget\":\"\",\"damVideoMP4\":\"\",\"damVideoWebM\":\"\",\"icon\":\"forward\",\"videoID\":\"https://web.archive.org/web/20230224123642/https://www.ibm.com/thought-leadership/institute-business-value/report/space-cloud-computing\",\"title\":\"27192 PyTorch AI foundation models\",\"timestamp\":1670593999804,\"airtableID\":\"27192\",\"image\":\"https://web.archive.org/web/20230224123642/https://1.dam.s81c.com/p/09e98ff48ebdd003/20221128-r-pytorch-foundational-models-27155-800x450.png\",\"mobileImg\":\"https://web.archive.org/web/20230224123642/https://1.dam.s81c.com/public/content/dam/worldwide-content/homepage/ul/g/9e/7c/20210823-f-swiss-re-case-study-26069.jpg\",\"headline\":\"Pin-Yu Chen challenges AI every day to build the most trustworthy systems possible\",\"eyebrow\":\"Train large AI models using standard Ethernet networking on Red Hat OpenShift, on any cloud\\\\n\",\"imageAlt\":\"intersecting groups of lines representing networking\",\"copy\":\"\\\\n\",\"link\":\"https://web.archive.org/web/20230224123642/https://research.ibm.com/blog/ibm-pytorch-cloud-ai-ethernet?lnk=ushpv18r4\"}]},\"config\":{\"enabled\":\"true\",\"type\":\"carousel\",\"totalCards\":\"12\"}},\"makers\":{\"data\":{\"content\":[{\"alternate\":true,\"ctaColor\":\"red-50\",\"ibmEvLinkTitle\":\"\",\"ibmEvGroup\":\"\",\"ibmEvName\":\"case study\",\"ibmEvSection\":\"M1\",\"ibmEvTarget\":\"\",\"imageMobile\":\"\",\"damVideoMP4\":\"\",\"damVideoWebM\":\"\",\"ctaCopyThree\":\"\",\"ctaLinkTwoThree\":\"\",\"imagePos\":\"center center\",\"copyTwo\":\"\",\"videoType\":\"kaltura\",\"eyebrow\":\"Sustainability insights make facilities work more efficiently\",\"airtableID\":\"27171\",\"videoID\":\"\",\"mobileColumnHalf\":true,\"timestamp\":1671118406356,\"ctaLinkOne\":\"https://web.archive.org/web/20230224123642/https://www.ibm.com/case-studies/audi-uk/?lnk=ushpv18cs1\",\"copyOne\":\"A commitment to enhanced user experience enabled Audi UK to deepen its connection to customers\",\"title\":\"27171 GRE-Envizi\",\"ctaCopyOne\":\"See how IBM Consulting helped boost lead generation by 59%\",\"button\":\"See how data provided by the Envizi ESG Suite helped IBM reduce carbon emissions by 62%\",\"copy\":\"IBM Global Real Estate needed a greener way to manage more than 50 million square feet of space worldwide\",\"link\":\"https://web.archive.org/web/20230224123642/https://www.ibm.com/case-studies/ibm-gre?lnk=ushpv18m1\",\"image\":\"https://web.archive.org/web/20230224123642/https://1.dam.s81c.com/p/09e9905470a86c9a/20221212-m-gre-envizi-27171-1600x900.jpg\",\"imageAlt\":\"A Black professional in an office building overlooking green landscape\"},{\"alternate\":true,\"ctaColor\":\"red-50\",\"ibmEvLinkTitle\":\"\",\"ibmEvGroup\":\"\",\"ibmEvName\":\"case study\",\"ibmEvSection\":\"M2\",\"ibmEvTarget\":\"\",\"imageMobile\":\"\",\"damVideoMP4\":\"\",\"damVideoWebM\":\"\",\"ctaCopyThree\":\"\",\"ctaLinkTwoThree\":\"\",\"imagePos\":\"center center\",\"copyTwo\":\"\",\"videoType\":\"kaltura\",\"eyebrow\":\"For predictable trains, we need predictive maintenance\",\"airtableID\":\"27193\",\"videoID\":\"\",\"mobileColumnHalf\":true,\"timestamp\":1670599073776,\"ctaLinkOne\":\"https://web.archive.org/web/20230224123642/https://www.ibm.com/case-studies/audi-uk/?lnk=ushpv18cs1\",\"copyOne\":\"A commitment to enhanced user experience enabled Audi UK to deepen its connection to customers\",\"title\":\"27193 Downer Group\",\"ctaCopyOne\":\"See how IBM Consulting helped boost lead generation by 59%\",\"button\":\"Working with IBM Consulting, they created TrainDNA and increased reliability by 51%\",\"copy\":\"When Australia moved to outsource operation of its railroad system, the Downer Group needed a way to handle a huge new workload\",\"link\":\"https://web.archive.org/web/20230224123642/https://www.ibm.com/case-studies/downer?lnk=ushpv18m2\",\"image\":\"https://web.archive.org/web/20230224123642/https://1.dam.s81c.com/p/09f257ea96c8790a/20221205-m-downer-group-27163-1600x900.jpg\",\"imageAlt\":\"Young woman looking out a train window at the landscape passing by\"},{\"alternate\":true,\"ctaColor\":\"red-50\",\"ibmEvLinkTitle\":\"\",\"ibmEvGroup\":\"\",\"ibmEvName\":\"case study\",\"ibmEvSection\":\"M3\",\"ibmEvTarget\":\"\",\"imageMobile\":\"\",\"damVideoMP4\":\"\",\"damVideoWebM\":\"\",\"ctaCopyThree\":\"\",\"ctaLinkTwoThree\":\"\",\"imagePos\":\"center center\",\"copyTwo\":\"\",\"videoType\":\"kaltura\",\"eyebrow\":\"New Jersey keeps the heat and lights on for those in need\",\"airtableID\":\"27194\",\"videoID\":\"\",\"mobileColumnHalf\":true,\"timestamp\":1670599058497,\"ctaLinkOne\":\"https://web.archive.org/web/20230224123642/https://www.ibm.com/case-studies/audi-uk/?lnk=ushpv18cs1\",\"copyOne\":\"A commitment to enhanced user experience enabled Audi UK to deepen its connection to customers\",\"title\":\"27194 State of New Jersey\",\"ctaCopyOne\":\"See how IBM Consulting helped boost lead generation by 59%\",\"button\":\"IBM Consulting designed a portal that handles 6,200 calls a month, fast-tracking $127M in relief\",\"copy\":\"The pandemic caused many low-income residents to fall behind on their utility bills, putting their home heating at risk\",\"link\":\"https://web.archive.org/web/20230224123642/https://www.ibm.com/case-studies/new-jersey-department-of-community-affairs/?lnk=ushpv18m3\",\"image\":\"https://web.archive.org/web/20230224123642/https://1.dam.s81c.com/p/09e98ff48ebdd004/20221128-m-new-jersey-department-of-community-affairs-27154-1600x900.jpg\",\"imageAlt\":\"Winter view of suburban houses through frost on a window\"}]},\"config\":{\"enabled\":\"true\",\"type\":\"carousel\",\"totalCards\":\"12\"}},\"tech\":{\"data\":{\"content\":[{\"imageMobile\":\"10312017-n-episode6-starwars-600x260.jpg\",\"videoType\":\"kaltura\",\"ibmEvLinkTitle\":\"Dear Tech Sonoma\",\"ibmEvGroup\":\"Advertising\",\"ibmEvName\":\"Ad support\",\"ibmEvSection\":\"DT\",\"ibmEvTarget\":\"\",\"damVideoMP4\":\"\",\"damVideoWebM\":\"\",\"videoID\":\"\",\"icon\":\"forward\",\"copy\":\"\",\"link\":\"\",\"airtableID\":\"\",\"title\":\"\",\"eyebrow\":\"\",\"button\":\"\",\"image\":\"\",\"timestamp\":1598626304757},{\"icon\":\"forward\",\"videoID\":\"\",\"videoType\":\"kaltura\",\"ibmEvLinkTitle\":\"Network Consulting Services\",\"ibmEvGroup\":\"GTS\",\"ibmEvName\":\"service\",\"ibmEvSection\":\"BT\",\"ibmEvTarget\":\"\",\"damVideoMP4\":\"\",\"damVideoWebM\":\"\",\"title\":\"\",\"eyebrow\":\"\",\"image\":\"\",\"copy\":\"\",\"button\":\"\",\"link\":\"\",\"timestamp\":1598626317181,\"airtableID\":\"\"},{\"videoType\":\"kaltura\",\"ibmEvLinkTitle\":\"Systems TechU Las Vegas\",\"ibmEvGroup\":\"STG\",\"ibmEvName\":\"event\",\"ibmEvSection\":\"ST\",\"ibmEvTarget\":\"\",\"damVideoMP4\":\"\",\"damVideoWebM\":\"\",\"videoID\":\"\",\"icon\":\"play\",\"airtableID\":\"\",\"title\":\"\",\"copy\":\"\",\"eyebrow\":\"\",\"link\":\"\",\"image\":\"\",\"button\":\"\",\"timestamp\":1598626329298}]}},\"trials\":{\"data\":{\"content\":[{\"icon\":\"forward\",\"videoID\":\"\",\"videoImage\":\"\",\"videoType\":\"youtube\",\"ibmEvLinkTitle\":\"\",\"ibmEvGroup\":\"\",\"ibmEvName\":\"\",\"ibmEvSection\":\"T1\",\"ibmEvTarget\":\"\",\"damVideoMP4\":\"\",\"damVideoWebM\":\"\",\"timestamp\":1670594621355,\"title\":\"1303 IBM Watson Assistant\",\"airtableID\":\"1303\",\"copy\":\"Help customers get stuff done quickly, easily, on any channel. Ask for a demo.\",\"eyebrow\":\"IBM Watson Assistant\",\"link\":\"https://web.archive.org/web/20230224123642/https://www.ibm.com/products/watson-assistant?lnk=ushpv18t1\\\\u0026lnk2=trial_WatAssist\\\\u0026psrc=none\\\\u0026pexp=def\",\"image\":\"https://web.archive.org/web/20230224123642/https://1.dam.s81c.com/public/content/dam/worldwide-content/homepage/ul/g/ee/15/20220216-t-ibm-watson-assistant.png\",\"imageAlt\":\"The Watson Assistant interface with text boxes and a simulated chatbot\"},{\"subcopy\":\"\",\"ibmEvLinkTitle\":\"\",\"ibmEvGroup\":\"\",\"ibmEvName\":\"\",\"ibmEvSection\":\"T2\",\"ibmEvTarget\":\"\",\"button_mobile\":\"T2\",\"icon\":\"forward\",\"timestamp\":1670594649943,\"title\":\"1304 Cloud Pak for Business Automation\",\"airtableID\":\"1304\",\"copy\":\"Build and scale automation applications on any cloud. Test drive it at no\\\\u0026nbsp;cost.\",\"eyebrow\":\"Cloud Pak for Business Automation\",\"image\":\"https://web.archive.org/web/20230224123642/https://1.dam.s81c.com/public/content/dam/worldwide-content/homepage/ul/g/67/6a/20220216-t-ibm-cloud-pak-for-automation.png\",\"link\":\"https://web.archive.org/web/20230224123642/https://www.ibm.com/cloud/cloud-pak-for-automation?lnk=ushpv18t2\\\\u0026lnk2=trial_CloudPakAtm\\\\u0026psrc=none\\\\u0026pexp=def\",\"imageAlt\":\"spreadsheet-type charts\"},{\"subcopy\":\"\",\"ibmEvLinkTitle\":\"\",\"ibmEvGroup\":\"\",\"ibmEvName\":\"\",\"ibmEvSection\":\"T3\",\"ibmEvTarget\":\"\",\"button_mobile\":\"T4\",\"timestamp\":1670594670414,\"airtableID\":\"1305\",\"title\":\"1305 IBM Instana Observability\",\"image\":\"https://web.archive.org/web/20230224123642/https://1.dam.s81c.com/p/08f951362f270092/Instana-trial-800x450.jpg\",\"eyebrow\":\"IBM Instana Observability\",\"copy\":\"Easily manage the performance of your microservice applications. Get a free trial.\",\"link\":\"https://web.archive.org/web/20230224123642/https://www.ibm.com/cloud/instana?lnk=ushpv18t3\\\\u0026lnk2=trial_Instana\\\\u0026psrc=none\\\\u0026pexp=def\",\"imageAlt\":\"Instana dashboard with status tables and charts\"},{\"subcopy\":\"\",\"ibmEvLinkTitle\":\"\",\"ibmEvGroup\":\"\",\"ibmEvName\":\"\",\"ibmEvSection\":\"T4\",\"ibmEvTarget\":\"\",\"button_mobile\":\"T4\",\"timestamp\":1645198930856,\"airtableID\":\"\",\"title\":\"\",\"image\":\"\",\"eyebrow\":\"\",\"copy\":\"\",\"button\":\"\",\"link\":\"\"}]}},\"contentspotlight\":{\"data\":{\"content\":[{\"alternate\":true,\"ctaColor\":\"red-50\",\"ibmEvLinkTitle\":\"\",\"ibmEvGroup\":\"\",\"ibmEvName\":\"case study\",\"ibmEvSection\":\"CS1\",\"ibmEvTarget\":\"\",\"imageMobile\":\"\",\"damVideoMP4\":\"\",\"damVideoWebM\":\"\",\"ctaCopyThree\":\"\",\"ctaLinkTwoThree\":\"\",\"imagePos\":\"center left\",\"copyTwo\":\"\",\"videoType\":\"kaltura\",\"eyebrow\":\"\",\"airtableID\":\"\",\"videoID\":\"\",\"mobileColumnHalf\":true,\"timestamp\":1645199476505,\"ctaLinkOne\":\"\",\"copyOne\":\"\",\"title\":\"\",\"ctaCopyOne\":\"\",\"image\":\"\"},{\"alternate\":true,\"image\":\"https://web.archive.org/web/20230224123642/https://1.dam.s81c.com/public/content/dam/worldwide-content/homepage/ul/g/ea/ca/cs-hub-logos-k-1042x1130.png\",\"ctaColor\":\"red-50\",\"videoID\":\"\",\"videoType\":\"youtube\",\"ibmEvLinkTitle\":\"\",\"ibmEvGroup\":\"\",\"ibmEvName\":\"case study\",\"ibmEvSection\":\"CS2\",\"ibmEvTarget\":\"\",\"imageMobile\":\"\",\"damVideoMP4\":\"\",\"damVideoWebM\":\"\",\"ctaCopyThree\":\"\",\"ctaLinkTwoThree\":\"\",\"imagePos\":\"center center\",\"eyebrow\":\"25339\",\"title\":\"Client success stories\",\"ctaCopyTwo\":\"\",\"ctaCopyOne\":\"Read how industry leaders put smart to work\",\"ctaLinkTwo\":\"\",\"ctaLinkOne\":\"https://web.archive.org/web/20230224123642/https://www.ibm.com/case-studies/search?search\\\\u0026lnk=ushpv18cs2\",\"copyOne\":\"\",\"copyTwo\":\"\",\"timestamp\":1638195426535,\"airtableID\":\"25339\",\"mobileColumnHalf\":true}]},\"config\":{\"type\":\"dos\"}},\"thinknews\":{\"data\":{\"content\":[{\"videoImage\":\"\",\"videoType\":\"youtube\",\"ibmEvLinkTitle\":\"\",\"ibmEvGroup\":\"\",\"ibmEvName\":\"\",\"ibmEvSection\":\"Th1\",\"ibmEvTarget\":\"\",\"damVideoMP4\":\"\",\"damVideoWebM\":\"\",\"icon\":\"forward\",\"videoID\":\"\",\"label\":\"\",\"title\":\"\",\"image\":\"https://web.archive.org/web/20230224123642/https://1.dam.s81c.com/p/0797bc3546c3dcc9/20220405-ibm-z-multiframe-annc-444x320-26343.jpg\",\"copy\":\"Breeze through 25 billion secure transactions daily, across any hybrid cloud structure\",\"eyebrow\":\"\",\"timestamp\":1655481021045,\"airtableID\":\"\",\"link\":\"\",\"active\":false,\"sandbox\":false,\"stage\":false},{\"videoImage\":\"\",\"videoType\":\"youtube\",\"ibmEvLinkTitle\":\"\",\"ibmEvGroup\":\"\",\"ibmEvName\":\"\",\"ibmEvSection\":\"Th2\",\"ibmEvTarget\":\"\",\"damVideoMP4\":\"\",\"damVideoWebM\":\"\",\"icon\":\"forward\",\"videoID\":\"\",\"label\":\"\",\"title\":\"\",\"timestamp\":1655481064068,\"airtableID\":\"\",\"eyebrow\":\"\",\"copy\":\"Four out of five companies surveyed use or plan to adopt AI. Find out why.\\\\n\",\"link\":\"\",\"active\":false,\"sandbox\":false,\"stage\":false},{\"videoImage\":\"\",\"videoType\":\"youtube\",\"ibmEvLinkTitle\":\"\",\"ibmEvGroup\":\"\",\"ibmEvName\":\"\",\"ibmEvSection\":\"Th3\",\"ibmEvTarget\":\"\",\"damVideoMP4\":\"\",\"damVideoWebM\":\"\",\"icon\":\"forward\",\"videoID\":\"\",\"label\":\"\",\"title\":\"\",\"timestamp\":1655481115853,\"airtableID\":\"\",\"eyebrow\":\"\",\"copy\":\"Boost your growth with up to $120K in cloud credits and expert mentoring when you join the Startup with IBM program\\\\n\",\"image\":\"https://web.archive.org/web/20230224123642/https://1.dam.s81c.com/public/content/dam/worldwide-content/homepage/ul/g/0e/e0/20220131-startup-26374-444x320.jpg\",\"link\":\"\",\"active\":false,\"sandbox\":false,\"stage\":false},{\"videoImage\":\"\",\"videoType\":\"youtube\",\"ibmEvLinkTitle\":\"\",\"ibmEvGroup\":\"\",\"ibmEvName\":\"\",\"ibmEvSection\":\"Th4\",\"ibmEvTarget\":\"\",\"damVideoMP4\":\"\",\"damVideoWebM\":\"\",\"icon\":\"forward\",\"videoID\":\"\",\"label\":\"\",\"title\":\"\",\"image\":\"https://web.archive.org/web/20230224123642/https://1.dam.s81c.com/p/0797bc3546c3dcc9/20220405-ibm-z-multiframe-annc-444x320-26343.jpg\",\"copy\":\"Breeze through 25 billion secure transactions daily, across any hybrid cloud structure\\\\n\",\"eyebrow\":\"\",\"timestamp\":1655481135287,\"airtableID\":\"\",\"link\":\"\",\"active\":false,\"sandbox\":false,\"stage\":false},{\"videoImage\":\"\",\"videoType\":\"youtube\",\"ibmEvLinkTitle\":\"\",\"ibmEvGroup\":\"\",\"ibmEvName\":\"\",\"ibmEvSection\":\"Th5\",\"ibmEvTarget\":\"\",\"damVideoMP4\":\"\",\"damVideoWebM\":\"\",\"icon\":\"forward\",\"videoID\":\"\",\"label\":\"Creativity at work\",\"title\":\"\",\"timestamp\":1652111841522,\"airtableID\":\"\",\"eyebrow\":\"Meet the New Creators, 10 visionaries creatively applying technology in business to drive change\",\"copy\":\"Boost your growth with up to $120K in cloud credits and expert mentoring when you join the Startup with IBM program\\\\n\",\"image\":\"https://web.archive.org/web/20230224123642/https://1.dam.s81c.com/public/content/dam/worldwide-content/homepage/ul/g/0e/e0/20220131-startup-26374-444x320.jpg\",\"link\":\"https://web.archive.org/web/20230224123642/https://www.ibm.com/thought-leadership/new-creators?lnk=ushpv18Th3\",\"active\":false,\"sandbox\":false,\"stage\":false},{\"videoImage\":\"\",\"videoType\":\"youtube\",\"ibmEvLinkTitle\":\"\",\"ibmEvGroup\":\"\",\"ibmEvName\":\"\",\"ibmEvSection\":\"Th6\",\"ibmEvTarget\":\"\",\"damVideoMP4\":\"\",\"damVideoWebM\":\"\",\"icon\":\"forward\",\"videoID\":\"\",\"label\":\"Creativity at work\",\"title\":\"\",\"timestamp\":1652111851031,\"airtableID\":\"\",\"eyebrow\":\"Meet the New Creators, 10 visionaries creatively applying technology in business to drive change\",\"copy\":\"Boost your growth with up to $120K in cloud credits and expert mentoring when you join the Startup with IBM program\\\\n\",\"image\":\"https://web.archive.org/web/20230224123642/https://1.dam.s81c.com/public/content/dam/worldwide-content/homepage/ul/g/0e/e0/20220131-startup-26374-444x320.jpg\",\"link\":\"https://web.archive.org/web/20230224123642/https://www.ibm.com/thought-leadership/new-creators?lnk=ushpv18Th3\",\"active\":false,\"sandbox\":false,\"stage\":false}]}},\"big6LeadspaceCards\":{\"data\":{\"content\":[{\"title\":\"Work safe. Work smart.\",\"copy\":\"\",\"link\":\"https://web.archive.org/web/20230224123642/https://www.ibm.com/smarter-business/work-safe?lnk=ushpv18cv1\",\"timestamp\":1591797887933},{\"title\":\"Engage customers anywhere with Watson\",\"copy\":\"\",\"link\":\"https://web.archive.org/web/20230224123642/https://www.ibm.com/smarter-business/customer-experience?lnk=ushpv18cv2\",\"timestamp\":1591797833198},{\"title\":\"Enhance your IT resiliency and business continuity\",\"copy\":\"\",\"link\":\"https://web.archive.org/web/20230224123642/https://www.ibm.com/services/business-continuity?lnk=ushpv18cv3\",\"timestamp\":1591797923124},{\"title\":\"Accelerate agility and efficiency with IBM Cloud\",\"copy\":\"\",\"link\":\"https://web.archive.org/web/20230224123642/https://www.ibm.com/cloud/yourcloud?lnk=ushpv18cv4\",\"timestamp\":1591798189360},{\"title\":\"Protect against new cyber risks\",\"copy\":\"\",\"link\":\"https://web.archive.org/web/20230224123642/https://www.ibm.com/security?lnk=ushpv18cv5\",\"timestamp\":1591990121847},{\"title\":\"Build resilient supply chains and operations\",\"copy\":\"\",\"link\":\"https://web.archive.org/web/20230224123642/https://www.ibm.com/supply-chain?lnk=ushpv18cv6\",\"timestamp\":1591990130317}]}},\"certifications\":{\"data\":{\"content\":[{\"ibmEvSection\":\"tc1\",\"image\":\" https://1.dam.s81c.com/public/content/dam/worldwide-content/homepage/ul/g/bb/fd/20211018-cert-tech-u-virtual-edition.png\",\"eyebrow\":\"IBM TechU virtual edition: October 25â\\x80\\x9328\",\"title\":\"IBM TechU 2021, the virtual edition\",\"button\":\"Register to choose from 250+ sessions and labs, and engage live with experts and peers\",\"timestamp\":1634607850644,\"airtableID\":\"26189\",\"link\":\"https://web.archive.org/web/20230224123642/https://www.ibm.com/training/events/vtechu2021?lnk=ushpv18tc1\",\"mobileImg\":\"https://web.archive.org/web/20230224123642/https://1.dam.s81c.com/public/content/dam/worldwide-content/homepage/ul/g/bb/fd/20211018-cert-tech-u-virtual-edition.png\",\"copy\":\"\\\\n\"},{\"ibmEvSection\":\"tc2\",\"eyebrow\":\"Design thinking is for everyone\",\"title\":\"26192 Design thinking practitioner \",\"button\":\"Learn how to drive business results by focusing on your usersâ\\x80\\x99 needs in this free course\",\"timestamp\":1634315831253,\"airtableID\":\"26192\",\"mobileImg\":\"https://web.archive.org/web/20230224123642/https://1.dam.s81c.com/public/content/dam/worldwide-content/homepage/ul/g/e1/3b/20211018-cert-design-thinking.jpg\",\"copy\":\"\\\\n\",\"link\":\"https://web.archive.org/web/20230224123642/https://www.ibm.com/design/thinking/?lnk=ushpv18tc2\",\"image\":\"https://web.archive.org/web/20230224123642/https://1.dam.s81c.com/public/content/dam/worldwide-content/homepage/ul/g/e1/3b/20211018-cert-design-thinking.jpg\"}]},\"config\":{\"enabled\":\"true\"}},\"videonews\":{\"data\":{\"content\":[{\"ibmEvSection\":\"vn1\",\"alternateColor\":true,\"eyebrow\":\"AI can take you to places youâ\\x80\\x99ve only dreamed of\\\\n\",\"title\":\"26324 Data Science: Watson Studio\",\"button\":\"Build and scale trusted AI across any cloud\",\"link\":\"https://web.archive.org/web/20230224123642/https://www.ibm.com/cloud/watson-studio?lnk=ushpv18vn1\",\"timestamp\":1639779183583,\"airtableID\":\"26324\",\"copy\":\"Get there with Watson Studio, a simpler way to turn predictions into decisions collaboratively, on any cloud, on one data and AI platform\",\"videoLength\":\"1:13\",\"videoId\":\"1_iej13uex\",\"image\":\"https://web.archive.org/web/20230224123642/https://1.dam.s81c.com/public/content/dam/worldwide-content/homepage/ul/g/82/93/20211025-vn-data-science-watson-studio-1200x900.jpg\"},{\"ibmEvSection\":\"vn2\",\"eyebrow\":\"A â\\x80\\x98never trust, always verifyâ\\x80\\x99 security model\\\\n\",\"title\":\"26325 Zero Trust Security\",\"button\":\"Read about zero trust architecture and the future of security\",\"timestamp\":1639779210749,\"airtableID\":\"26325\",\"copy\":\"On average, it can take 77 days to contain an insider data breach. Companies with a zero trust framework in place can do so in near-real time.\",\"videoLength\":\"3:06\",\"videoId\":\"1_yr2j7p5f\",\"image\":\"https://web.archive.org/web/20230224123642/https://1.dam.s81c.com/public/content/dam/worldwide-content/homepage/ul/g/2e/5a/20211115-vn-zero-trust-security-26254-1200x900.jpg\",\"alternateColor\":true,\"link\":\"https://web.archive.org/web/20230224123642/https://www.ibm.com/security/zero-trust?lnk=ushpv18vn2\"},{\"ibmEvSection\":\"vn3\",\"eyebrow\":\"Home Trust and IBM Cloud: prepared for the unforeseeable\\\\n\",\"title\":\"26326 Home Trust CS\",\"button\":\"Learn how the right platform supported the workforce during COVID\\\\u0026#8209;19 lockdowns\",\"timestamp\":1639779304922,\"airtableID\":\"26326\",\"copy\":\"Because of an early transition to IBM Cloud, one of Canadaâ\\x80\\x99s leading financial institutions was able to change to remote work and thrive in 2020\",\"videoLength\":\"2:37\",\"videoId\":\"1_fz1liaxf\",\"image\":\"https://web.archive.org/web/20230224123642/https://1.dam.s81c.com/public/content/dam/worldwide-content/homepage/ul/g/37/78/20211122-vn-home-trust-26271-1200x900.jpg\",\"alternateColor\":true,\"link\":\"https://web.archive.org/web/20230224123642/https://www.ibm.com/case-studies/home-trust/?lnk=ushpv18vn3\"}]},\"config\":{\"enabled\":\"true\"}}}}},\"__N_SSG\":true},\"page\":\"/\",\"query\":{},\"buildId\":\"0BehGL8Iczuyl_okDuIJa\",\"assetPrefix\":\".\",\"isFallback\":false,\"gsp\":true}</script><script nomodule=\"\" src=\"/web/20230224123642js_/https://www.ibm.com/us-en/_next/static/chunks/polyfills-e4c38ea28892f36667af.js\"></script><script src=\"/web/20230224123642js_/https://www.ibm.com/us-en/_next/static/chunks/webpack-9a6e2dd34947de61505d.js\" async=\"\"></script><script src=\"/web/20230224123642js_/https://www.ibm.com/us-en/_next/static/chunks/framework.602aaa49e9cf44108ea4.js\" async=\"\"></script><script src=\"/web/20230224123642js_/https://www.ibm.com/us-en/_next/static/chunks/commons.56cd7ef778495da405ee.js\" async=\"\"></script><script src=\"/web/20230224123642js_/https://www.ibm.com/us-en/_next/static/chunks/3ef630e34cd10ba68f9d468ac363ff81c534e1e9.d2f601340e1658353edc.js\" async=\"\"></script><script src=\"/web/20230224123642js_/https://www.ibm.com/us-en/_next/static/chunks/main-51700067fcf16cbe3818.js\" async=\"\"></script><script src=\"/web/20230224123642js_/https://www.ibm.com/us-en/_next/static/chunks/styles.3461e1160e1b06bf3496.js\" async=\"\"></script><script src=\"/web/20230224123642js_/https://www.ibm.com/us-en/_next/static/chunks/pages/_app-692f4737856e6f61cf41.js\" async=\"\"></script><script src=\"/web/20230224123642js_/https://www.ibm.com/us-en/_next/static/chunks/1c920f04.f4270e422fa8c16ba0f4.js\" async=\"\"></script><script src=\"/web/20230224123642js_/https://www.ibm.com/us-en/_next/static/chunks/5f6bb6fb.63224c0f3a7ce047c8e2.js\" async=\"\"></script><script src=\"/web/20230224123642js_/https://www.ibm.com/us-en/_next/static/chunks/8f19d780.9518ac89ebf3ed164ec7.js\" async=\"\"></script><script src=\"/web/20230224123642js_/https://www.ibm.com/us-en/_next/static/chunks/8edc3fe5.f57e384a441d6dc22242.js\" async=\"\"></script><script src=\"/web/20230224123642js_/https://www.ibm.com/us-en/_next/static/chunks/fc20e1c4.d98d23767340a1237305.js\" async=\"\"></script><script src=\"/web/20230224123642js_/https://www.ibm.com/us-en/_next/static/chunks/a37fbe3b.f465653335f45cc0fa1b.js\" async=\"\"></script><script src=\"/web/20230224123642js_/https://www.ibm.com/us-en/_next/static/chunks/bc80632e.7250d666a9b091e0e0e4.js\" async=\"\"></script><script src=\"/web/20230224123642js_/https://www.ibm.com/us-en/_next/static/chunks/1dd0fb51.f16e33f7e2db3449d18e.js\" async=\"\"></script><script src=\"/web/20230224123642js_/https://www.ibm.com/us-en/_next/static/chunks/56b0df7b.a548554a4a80dea8f00a.js\" async=\"\"></script><script src=\"/web/20230224123642js_/https://www.ibm.com/us-en/_next/static/chunks/b222b98b.ebaff15e961fd9a66fec.js\" async=\"\"></script><script src=\"/web/20230224123642js_/https://www.ibm.com/us-en/_next/static/chunks/500f7593.4b01426721d5ac82f9ba.js\" async=\"\"></script><script src=\"/web/20230224123642js_/https://www.ibm.com/us-en/_next/static/chunks/5d8d49e442f4e00190cb1a13966c1f91ed87c0f4.c5cea6b9909ecf9bea26.js\" async=\"\"></script><script src=\"/web/20230224123642js_/https://www.ibm.com/us-en/_next/static/chunks/11.f003844d8f71e73157c2.js\" async=\"\"></script><script src=\"/web/20230224123642js_/https://www.ibm.com/us-en/_next/static/chunks/pages/index-6fa402b7cf0ac5e5bee1.js\" async=\"\"></script><script src=\"/web/20230224123642js_/https://www.ibm.com/us-en/_next/static/0BehGL8Iczuyl_okDuIJa/_buildManifest.js\" async=\"\"></script><script src=\"/web/20230224123642js_/https://www.ibm.com/us-en/_next/static/0BehGL8Iczuyl_okDuIJa/_ssgManifest.js\" async=\"\"></script><script type=\"text/javascript\" src=\"/web/20230224123642js_/https://www.ibm.com/BBMvT9cBN/ZTfRs/BaKA/uk9tNGtLY7uG9G/FwcsSHIcHw0/ZCp3NG/hJJgw\"></script><link rel=\"stylesheet\" type=\"text/css\" href=\"/web/20230224123642cs_/https://www.ibm.com/_sec/cp_challenge/sec-3-9.css\">\\n          <script src=\"/web/20230224123642js_/https://www.ibm.com/_sec/cp_challenge/sec-cpt-3-9.js\" async defer></script>\\n          <div id=\"sec-overlay\" style=\"display:none;\">\\n          <div id=\"sec-container\">\\n          </div>\\n        </div></body></html><!--\\n     FILE ARCHIVED ON 12:36:42 Feb 24, 2023 AND RETRIEVED FROM THE\\n     INTERNET ARCHIVE ON 00:43:55 Sep 23, 2025.\\n     JAVASCRIPT APPENDED BY WAYBACK MACHINE, COPYRIGHT INTERNET ARCHIVE.\\n\\n     ALL OTHER CONTENT MAY ALSO BE PROTECTED BY COPYRIGHT (17 U.S.C.\\n     SECTION 108(a)(3)).\\n-->\\n<!--\\nplayback timings (ms):\\n  captures_list: 1.216\\n  exclusion.robots: 0.054\\n  exclusion.robots.policy: 0.038\\n  esindex: 0.014\\n  cdx.remote: 13.001\\n  LoadShardBlock: 798.462 (6)\\n  PetaboxLoader3.datanode: 319.759 (7)\\n  PetaboxLoader3.resolve: 226.81 (2)\\n  load_resource: 152.714\\n-->'"
      ]
     },
     "execution_count": 77,
     "metadata": {},
     "output_type": "execute_result"
    }
   ],
   "source": [
    "data = requests.get(url).text\n",
    "data"
   ]
  },
  {
   "cell_type": "markdown",
   "id": "45ab5543",
   "metadata": {},
   "source": [
    "We create a <code>BeautifulSoup</code> object using the <code>BeautifulSoup</code> constructor\n"
   ]
  },
  {
   "cell_type": "code",
   "execution_count": null,
   "id": "17748df4",
   "metadata": {},
   "outputs": [],
   "source": [
    "soup = BeautifulSoup(data, 'html.parser')\n",
    "soup"
   ]
  },
  {
   "cell_type": "markdown",
   "id": "b5dc2ae3",
   "metadata": {},
   "source": [
    "Scrape all links"
   ]
  },
  {
   "cell_type": "code",
   "execution_count": 80,
   "id": "6a5a570d",
   "metadata": {},
   "outputs": [
    {
     "name": "stdout",
     "output_type": "stream",
     "text": [
      "https://web.archive.org/web/20230224123642/https://www.ibm.com/reports/threat-intelligence/\n",
      "https://web.archive.org/web/20230224123642/https://www.ibm.com/about\n",
      "https://web.archive.org/web/20230224123642/https://www.ibm.com/consulting/?lnk=flathl\n",
      "https://web.archive.org/web/20230224123642/https://www.ibm.com/consulting/strategy/?lnk=flathl\n",
      "https://web.archive.org/web/20230224123642/https://www.ibm.com/consulting/ibmix?lnk=flathl\n",
      "https://web.archive.org/web/20230224123642/https://www.ibm.com/consulting/technology/\n",
      "https://web.archive.org/web/20230224123642/https://www.ibm.com/consulting/operations/?lnk=flathl\n",
      "https://web.archive.org/web/20230224123642/https://www.ibm.com/strategic-partnerships\n",
      "https://web.archive.org/web/20230224123642/https://www.ibm.com/employment/?lnk=flatitem\n",
      "https://web.archive.org/web/20230224123642/https://www.ibm.com/impact\n",
      "https://web.archive.org/web/20230224123642/https://research.ibm.com/\n",
      "https://web.archive.org/web/20230224123642/https://www.ibm.com/\n"
     ]
    }
   ],
   "source": [
    "for link in soup.find_all('a', href = True):\n",
    "    print(link.get('href'))"
   ]
  },
  {
   "cell_type": "markdown",
   "id": "f2fe610f",
   "metadata": {},
   "source": [
    "## Scrape  all images  Tags"
   ]
  },
  {
   "cell_type": "code",
   "execution_count": 81,
   "id": "33432480",
   "metadata": {},
   "outputs": [
    {
     "name": "stdout",
     "output_type": "stream",
     "text": [
      "<img alt=\"Person standing with arms crossed\" aria-describedby=\"bx--image-1\" class=\"bx--image__img\" src=\"https://web.archive.org/web/20230224123642im_/https://1.dam.s81c.com/p/0a23e414312bcb6f/08196d0e04260ae5_cropped.jpg.global.sr_16x9.jpg\"/>\n",
      "https://web.archive.org/web/20230224123642im_/https://1.dam.s81c.com/p/0a23e414312bcb6f/08196d0e04260ae5_cropped.jpg.global.sr_16x9.jpg\n",
      "<img alt=\"Team members at work in a conference room\" aria-describedby=\"bx--image-2\" class=\"bx--image__img\" src=\"https://web.archive.org/web/20230224123642im_/https://1.dam.s81c.com/p/06655c075aa3aa29/CaitOppermann_2019_12_06_IBMGarage_DSC3304.jpg.global.m_16x9.jpg\"/>\n",
      "https://web.archive.org/web/20230224123642im_/https://1.dam.s81c.com/p/06655c075aa3aa29/CaitOppermann_2019_12_06_IBMGarage_DSC3304.jpg.global.m_16x9.jpg\n",
      "<img alt=\"Coworkers looking at laptops\" aria-describedby=\"bx--image-3\" class=\"bx--image__img\" src=\"https://web.archive.org/web/20230224123642im_/https://1.dam.s81c.com/p/08f951353c2707b8/052022_CaitOppermann_InsideIBM_London_2945_03.jpg.global.sr_16x9.jpg\"/>\n",
      "https://web.archive.org/web/20230224123642im_/https://1.dam.s81c.com/p/08f951353c2707b8/052022_CaitOppermann_InsideIBM_London_2945_03.jpg.global.sr_16x9.jpg\n",
      "<img alt=\"Cloud developer with red sweater coding at desk\" aria-describedby=\"bx--image-4\" class=\"bx--image__img\" src=\"https://web.archive.org/web/20230224123642im_/https://1.dam.s81c.com/p/064e0139f5a3aa5e/0500002_Lowell_LI_100119.jpg.global.sr_16x9.jpg\"/>\n",
      "https://web.archive.org/web/20230224123642im_/https://1.dam.s81c.com/p/064e0139f5a3aa5e/0500002_Lowell_LI_100119.jpg.global.sr_16x9.jpg\n",
      "<img alt=\"Aerial view of automated conveyer belt and machinery at work\" aria-describedby=\"bx--image-5\" class=\"bx--image__img\" src=\"https://web.archive.org/web/20230224123642im_/https://1.dam.s81c.com/p/0795cae91a25156f/conveyorrobottopview.jpg.global.sr_16x9.jpg\"/>\n",
      "https://web.archive.org/web/20230224123642im_/https://1.dam.s81c.com/p/0795cae91a25156f/conveyorrobottopview.jpg.global.sr_16x9.jpg\n",
      "<img alt=\"Overhead view of partners collaborating on design with laptops and coffee\" aria-describedby=\"bx--image-6\" class=\"bx--image__img\" src=\"https://web.archive.org/web/20230224123642im_/https://1.dam.s81c.com/p/06dfa9ccdba4ec79/1f417900-9042-44d1-9c219a854bbb62ea.jpg.global.sr_16x9.jpg\"/>\n",
      "https://web.archive.org/web/20230224123642im_/https://1.dam.s81c.com/p/06dfa9ccdba4ec79/1f417900-9042-44d1-9c219a854bbb62ea.jpg.global.sr_16x9.jpg\n"
     ]
    }
   ],
   "source": [
    "for img in soup.find_all('img'):# in html image is represented by the tag <img>\n",
    "    print(img)\n",
    "    print(img.get('src'))"
   ]
  },
  {
   "cell_type": "markdown",
   "id": "8e32b1c2",
   "metadata": {},
   "source": [
    "## Scrape data from HTML tables"
   ]
  },
  {
   "cell_type": "code",
   "execution_count": 82,
   "id": "f8f8737e",
   "metadata": {},
   "outputs": [],
   "source": [
    "#The below url contains an html table with data about colors and color codes.\n",
    "url = \"https://cf-courses-data.s3.us.cloud-object-storage.appdomain.cloud/IBM-DA0321EN-SkillsNetwork/labs/datasets/HTMLColorCodes.html\""
   ]
  },
  {
   "cell_type": "markdown",
   "id": "fb22ee29",
   "metadata": {},
   "source": [
    "Before proceeding to scrape a web site, you need to examine the contents, and the way data is organized on the website. Open the above url in your browser and check how many rows and columns are there in the color table.\n"
   ]
  },
  {
   "cell_type": "code",
   "execution_count": 83,
   "id": "78f44b73",
   "metadata": {},
   "outputs": [
    {
     "data": {
      "text/plain": [
       "'<html>\\n   <body>\\n      <h1>Partital List  of HTML5 Supported Colors</h1>\\n<table border =\"1\" class=\"main-table\">\\n   <tr>\\n      <td>Number </td>\\n      <td>Color</td>\\n      <td>Color Name</td>\\n      <td>Hex Code<br>#RRGGBB</td>\\n      <td>Decimal Code<br>(R,G,B)</td>\\n   </tr>\\n   <tr>\\n      <td>1</td>\\n      <td style=\"background:lightsalmon;\">&nbsp;</td>\\n      <td>lightsalmon</td>\\n      <td>#FFA07A</td>\\n      <td>rgb(255,160,122)</td>\\n   </tr>\\n   <tr>\\n      <td>2</td>\\n      <td style=\"background:salmon;\">&nbsp;</td>\\n      <td>salmon</td>\\n      <td>#FA8072</td>\\n      <td>rgb(250,128,114)</td>\\n   </tr>\\n   <tr>\\n      <td>3</td>\\n      <td style=\"background:darksalmon;\">&nbsp;</td>\\n      <td>darksalmon</td>\\n      <td>#E9967A</td>\\n      <td>rgb(233,150,122)</td>\\n   </tr>\\n   <tr>\\n      <td>4</td>\\n      <td style=\"background:lightcoral;\">&nbsp;</td>\\n      <td>lightcoral</td>\\n      <td>#F08080</td>\\n      <td>rgb(240,128,128)</td>\\n   </tr>\\n   <tr>\\n      <td>5</td>\\n      <td style=\"background:coral;\">&nbsp;</td>\\n      <td>coral</td>\\n      <td>#FF7F50</td>\\n      <td>rgb(255,127,80)</td>\\n   </tr>\\n   <tr>\\n      <td>6</td>\\n      <td style=\"background:tomato;\">&nbsp;</td>\\n      <td>tomato</td>\\n      <td>#FF6347</td>\\n      <td>rgb(255,99,71)</td>\\n   </tr>\\n   <tr>\\n      <td>7</td>\\n      <td style=\"background:orangered;\">&nbsp;</td>\\n      <td>orangered</td>\\n      <td>#FF4500</td>\\n      <td>rgb(255,69,0)</td>\\n   </tr>\\n   <tr>\\n      <td>8</td>\\n      <td style=\"background:gold;\">&nbsp;</td>\\n      <td>gold</td>\\n      <td>#FFD700</td>\\n      <td>rgb(255,215,0)</td>\\n   </tr>\\n   <tr>\\n      <td>9</td>\\n      <td style=\"background:orange;\">&nbsp;</td>\\n      <td>orange</td>\\n      <td>#FFA500</td>\\n      <td>rgb(255,165,0)</td>\\n   </tr>\\n   <tr>\\n      <td>10</td>\\n      <td style=\"background:darkorange;\">&nbsp;</td>\\n      <td>darkorange</td>\\n      <td>#FF8C00</td>\\n      <td>rgb(255,140,0)</td>\\n   </tr>\\n   <tr>\\n      <td>11</td>\\n      <td style=\"background:lightyellow;\">&nbsp;</td>\\n      <td>lightyellow</td>\\n      <td>#FFFFE0</td>\\n      <td>rgb(255,255,224)</td>\\n   </tr>\\n   <tr>\\n      <td>12</td>\\n      <td style=\"background:lemonchiffon;\">&nbsp;</td>\\n      <td>lemonchiffon</td>\\n      <td>#FFFACD</td>\\n      <td>rgb(255,250,205)</td>\\n   </tr>\\n   <tr>\\n      <td>13</td>\\n      <td style=\"background:papayawhip;\">&nbsp;</td>\\n      <td>papayawhip</td>\\n      <td>#FFEFD5</td>\\n      <td>rgb(255,239,213)</td>\\n   </tr>\\n   <tr>\\n      <td>14</td>\\n      <td style=\"background:moccasin;\">&nbsp;</td>\\n      <td>moccasin</td>\\n      <td>#FFE4B5</td>\\n      <td>rgb(255,228,181)</td>\\n   </tr>\\n   <tr>\\n      <td>15</td>\\n      <td style=\"background:peachpuff;\">&nbsp;</td>\\n      <td>peachpuff</td>\\n      <td>#FFDAB9</td>\\n      <td>rgb(255,218,185)</td>\\n   </tr>\\n   <tr>\\n      <td>16</td>\\n      <td style=\"background:palegoldenrod;\">&nbsp;</td>\\n      <td>palegoldenrod</td>\\n      <td>#EEE8AA</td>\\n      <td>rgb(238,232,170)</td>\\n   </tr>\\n   <tr>\\n      <td>17</td>\\n      <td style=\"background:khaki;\">&nbsp;</td>\\n      <td>khaki</td>\\n      <td>#F0E68C</td>\\n      <td>rgb(240,230,140)</td>\\n   </tr>\\n   <tr>\\n      <td>18</td>\\n      <td style=\"background:darkkhaki;\">&nbsp;</td>\\n      <td>darkkhaki</td>\\n      <td>#BDB76B</td>\\n      <td>rgb(189,183,107)</td>\\n   </tr>\\n   <tr>\\n      <td>19</td>\\n      <td style=\"background:yellow;\">&nbsp;</td>\\n      <td>yellow</td>\\n      <td>#FFFF00</td>\\n      <td>rgb(255,255,0)</td>\\n   </tr>\\n   <tr>\\n      <td>20</td>\\n      <td style=\"background:lawngreen;\">&nbsp;</td>\\n      <td>lawngreen</td>\\n      <td>#7CFC00</td>\\n      <td>rgb(124,252,0)</td>\\n   </tr>\\n   <tr>\\n      <td>21</td>\\n      <td style=\"background:chartreuse;\">&nbsp;</td>\\n      <td>chartreuse</td>\\n      <td>#7FFF00</td>\\n      <td>rgb(127,255,0)</td>\\n   </tr>\\n   <tr>\\n      <td>22</td>\\n      <td style=\"background:limegreen;\">&nbsp;</td>\\n      <td>limegreen</td>\\n      <td>#32CD32</td>\\n      <td>rgb(50,205,50)</td>\\n   </tr>\\n   <tr>\\n      <td>23</td>\\n      <td style=\"background:lime;\">&nbsp;</td>\\n      <td>lime</td>\\n      <td>#00FF00</td>\\n      <td>rgb(0.255.0)</td>\\n   </tr>\\n   <tr>\\n      <td>24</td>\\n      <td style=\"background:forestgreen;\">&nbsp;</td>\\n      <td>forestgreen</td>\\n      <td>#228B22</td>\\n      <td>rgb(34,139,34)</td>\\n   </tr>\\n   <tr>\\n      <td>25</td>\\n      <td style=\"background:green;\">&nbsp;</td>\\n      <td>green</td>\\n      <td>#008000</td>\\n      <td>rgb(0,128,0)</td>\\n   </tr>\\n   <tr>\\n      <td>26</td>\\n      <td style=\"background:powderblue;\">&nbsp;</td>\\n      <td>powderblue</td>\\n      <td>#B0E0E6</td>\\n      <td>rgb(176,224,230)</td>\\n   </tr>\\n   <tr>\\n      <td>27</td>\\n      <td style=\"background:lightblue;\">&nbsp;</td>\\n      <td>lightblue</td>\\n      <td>#ADD8E6</td>\\n      <td>rgb(173,216,230)</td>\\n   </tr>\\n   <tr>\\n      <td>28</td>\\n      <td style=\"background:lightskyblue;\">&nbsp;</td>\\n      <td>lightskyblue</td>\\n      <td>#87CEFA</td>\\n      <td>rgb(135,206,250)</td>\\n   </tr>\\n   <tr>\\n      <td>29</td>\\n      <td style=\"background:skyblue;\">&nbsp;</td>\\n      <td>skyblue</td>\\n      <td>#87CEEB</td>\\n      <td>rgb(135,206,235)</td>\\n   </tr>\\n   <tr>\\n      <td>30</td>\\n      <td style=\"background:deepskyblue;\">&nbsp;</td>\\n      <td>deepskyblue</td>\\n      <td>#00BFFF</td>\\n      <td>rgb(0,191,255)</td>\\n   </tr>\\n   <tr>\\n      <td>31</td>\\n      <td style=\"background:lightsteelblue;\">&nbsp;</td>\\n      <td>lightsteelblue</td>\\n      <td>#B0C4DE</td>\\n      <td>rgb(176,196,222)</td>\\n   </tr>\\n   <tr>\\n      <td>32</td>\\n      <td style=\"background:dodgerblue;\">&nbsp;</td>\\n      <td>dodgerblue</td>\\n      <td>#1E90FF</td>\\n      <td>rgb(30,144,255)</td>\\n   </tr>\\n</table>\\n   </body>\\n</html>'"
      ]
     },
     "execution_count": 83,
     "metadata": {},
     "output_type": "execute_result"
    }
   ],
   "source": [
    "data = requests.get(url).text\n",
    "data"
   ]
  },
  {
   "cell_type": "code",
   "execution_count": null,
   "id": "3f11ae23",
   "metadata": {},
   "outputs": [],
   "source": [
    "soup = BeautifulSoup(data, 'html.parser')\n",
    "soup"
   ]
  },
  {
   "cell_type": "code",
   "execution_count": null,
   "id": "037a9839",
   "metadata": {},
   "outputs": [],
   "source": [
    "table = soup.find('table')\n",
    "table"
   ]
  },
  {
   "cell_type": "code",
   "execution_count": 104,
   "id": "e9ebfaa6",
   "metadata": {},
   "outputs": [
    {
     "name": "stdout",
     "output_type": "stream",
     "text": [
      "Color Name: lightsalmon, Color Code: #FFA07A\n",
      "Color Name: salmon, Color Code: #FA8072\n",
      "Color Name: darksalmon, Color Code: #E9967A\n",
      "Color Name: lightcoral, Color Code: #F08080\n",
      "Color Name: coral, Color Code: #FF7F50\n",
      "Color Name: tomato, Color Code: #FF6347\n",
      "Color Name: orangered, Color Code: #FF4500\n",
      "Color Name: gold, Color Code: #FFD700\n",
      "Color Name: orange, Color Code: #FFA500\n",
      "Color Name: darkorange, Color Code: #FF8C00\n",
      "Color Name: lightyellow, Color Code: #FFFFE0\n",
      "Color Name: lemonchiffon, Color Code: #FFFACD\n",
      "Color Name: papayawhip, Color Code: #FFEFD5\n",
      "Color Name: moccasin, Color Code: #FFE4B5\n",
      "Color Name: peachpuff, Color Code: #FFDAB9\n",
      "Color Name: palegoldenrod, Color Code: #EEE8AA\n",
      "Color Name: khaki, Color Code: #F0E68C\n",
      "Color Name: darkkhaki, Color Code: #BDB76B\n",
      "Color Name: yellow, Color Code: #FFFF00\n",
      "Color Name: lawngreen, Color Code: #7CFC00\n",
      "Color Name: chartreuse, Color Code: #7FFF00\n",
      "Color Name: limegreen, Color Code: #32CD32\n",
      "Color Name: lime, Color Code: #00FF00\n",
      "Color Name: forestgreen, Color Code: #228B22\n",
      "Color Name: green, Color Code: #008000\n",
      "Color Name: powderblue, Color Code: #B0E0E6\n",
      "Color Name: lightblue, Color Code: #ADD8E6\n",
      "Color Name: lightskyblue, Color Code: #87CEFA\n",
      "Color Name: skyblue, Color Code: #87CEEB\n",
      "Color Name: deepskyblue, Color Code: #00BFFF\n",
      "Color Name: lightsteelblue, Color Code: #B0C4DE\n",
      "Color Name: dodgerblue, Color Code: #1E90FF\n"
     ]
    }
   ],
   "source": [
    "#Get all rows from the table\n",
    "for row in table.find_all('tr'): # in html table row is represented by the tag <tr>\n",
    "    # Get all columns in each row.\n",
    "    cols = row.find_all('td') # in html a column is represented by the tag <td>\n",
    "    color_name = cols[2].string # store the value in column 3 as color_name\n",
    "    color_code = cols[3].string # store the value in column 4 as color_code\n",
    "    if color_name != 'Color Name' and color_code != 'None':  # to skip the header row\n",
    "        print(f\"Color Name: {color_name}, Color Code: {color_code}\")\n"
   ]
  },
  {
   "cell_type": "markdown",
   "id": "7b263e3a",
   "metadata": {},
   "source": [
    "## Scrape data from HTML tables into a DataFrame using BeautifulSoup and Pandas\n"
   ]
  },
  {
   "cell_type": "code",
   "execution_count": 101,
   "id": "820f56de",
   "metadata": {},
   "outputs": [],
   "source": [
    "import pandas as pd"
   ]
  },
  {
   "cell_type": "code",
   "execution_count": 118,
   "id": "8f9122fb",
   "metadata": {},
   "outputs": [],
   "source": [
    "#The below url contains html tables with data about world population.\n",
    "url = \"https://en.wikipedia.org/wiki/World_population\""
   ]
  },
  {
   "cell_type": "markdown",
   "id": "6e7c890d",
   "metadata": {},
   "source": [
    "Before proceeding to scrape a web site, you need to examine the contents, and the way data is organized on the website. Open the above url in your browser and check the tables on the webpage.\n",
    "\n"
   ]
  },
  {
   "cell_type": "code",
   "execution_count": 119,
   "id": "edfd8941",
   "metadata": {},
   "outputs": [
    {
     "data": {
      "text/plain": [
       "<Response [200]>"
      ]
     },
     "execution_count": 119,
     "metadata": {},
     "output_type": "execute_result"
    }
   ],
   "source": [
    "header = {\"User-Agent\": \"Mozilla/5.0 (Windows NT 10.0; Win64; x64) \"\n",
    "                  \"AppleWebKit/537.36 (KHTML, like Gecko) \"\n",
    "                  \"Chrome/91.0.4472.124 Safari/537.36\"}\n",
    "data = requests.get(url, headers = header)\n",
    "data"
   ]
  },
  {
   "cell_type": "code",
   "execution_count": null,
   "id": "04f30c05",
   "metadata": {},
   "outputs": [],
   "source": [
    "soup = BeautifulSoup(data.text, 'html.parser')"
   ]
  },
  {
   "cell_type": "code",
   "execution_count": 121,
   "id": "31573ff4",
   "metadata": {},
   "outputs": [],
   "source": [
    "#find all html tables in the web page\n",
    "tables = soup.find_all('table') # in html table is represented by the tag <table>"
   ]
  },
  {
   "cell_type": "code",
   "execution_count": 122,
   "id": "67068b64",
   "metadata": {},
   "outputs": [
    {
     "data": {
      "text/plain": [
       "26"
      ]
     },
     "execution_count": 122,
     "metadata": {},
     "output_type": "execute_result"
    }
   ],
   "source": [
    "# we can see how many tables were found by checking the length of the tables list\n",
    "len(tables)"
   ]
  },
  {
   "cell_type": "markdown",
   "id": "b0fc0841",
   "metadata": {},
   "source": [
    "Assume that we are looking for the `10 most densly populated countries` table, we can look through the tables list and find the right one we are look for based on the data in each table or we can search for the table name if it is in the table but this option might not always work.\n"
   ]
  },
  {
   "cell_type": "code",
   "execution_count": 130,
   "id": "d12f2c6a",
   "metadata": {},
   "outputs": [
    {
     "name": "stdout",
     "output_type": "stream",
     "text": [
      "5\n"
     ]
    }
   ],
   "source": [
    "# we can see how many tables were found by checking the length of the tables list\n",
    "for index,table in enumerate(tables):\n",
    "    if (\"10 most densely populated countries\" in str(table)):\n",
    "        table_index = index\n",
    "print(table_index)"
   ]
  },
  {
   "cell_type": "markdown",
   "id": "35a4b090",
   "metadata": {},
   "source": [
    "See if you can locate the table name of the table, `10 most densly populated countries`, below.\n"
   ]
  },
  {
   "cell_type": "code",
   "execution_count": null,
   "id": "d4b1e2a2",
   "metadata": {},
   "outputs": [
    {
     "name": "stdout",
     "output_type": "stream",
     "text": [
      "<table class=\"wikitable sortable\" style=\"text-align:right\">\n",
      " <caption>\n",
      "  10 most densely populated countries\n",
      "  <small>\n",
      "   (with population above 5 million)\n",
      "  </small>\n",
      "  <sup class=\"reference\" id=\"cite_ref-:10_106-0\">\n",
      "   <a href=\"#cite_note-:10-106\">\n",
      "    <span class=\"cite-bracket\">\n",
      "     [\n",
      "    </span>\n",
      "    101\n",
      "    <span class=\"cite-bracket\">\n",
      "     ]\n",
      "    </span>\n",
      "   </a>\n",
      "  </sup>\n",
      " </caption>\n",
      " <tbody>\n",
      "  <tr>\n",
      "   <th scope=\"col\">\n",
      "    Rank\n",
      "   </th>\n",
      "   <th scope=\"col\">\n",
      "    Country\n",
      "   </th>\n",
      "   <th scope=\"col\">\n",
      "    Population\n",
      "   </th>\n",
      "   <th scope=\"col\">\n",
      "    Area\n",
      "    <br/>\n",
      "    <small>\n",
      "     (km\n",
      "     <sup>\n",
      "      2\n",
      "     </sup>\n",
      "     )\n",
      "    </small>\n",
      "   </th>\n",
      "   <th scope=\"col\">\n",
      "    Density\n",
      "    <br/>\n",
      "    <small>\n",
      "     (pop/km\n",
      "     <sup>\n",
      "      2\n",
      "     </sup>\n",
      "     )\n",
      "    </small>\n",
      "   </th>\n",
      "  </tr>\n",
      "  <tr>\n",
      "   <td>\n",
      "    1\n",
      "   </td>\n",
      "   <td align=\"left\">\n",
      "    <span class=\"flagicon nowrap\">\n",
      "     <span class=\"mw-image-border\" typeof=\"mw:File\">\n",
      "      <span>\n",
      "       <img alt=\"\" class=\"mw-file-element\" data-file-height=\"600\" data-file-width=\"900\" decoding=\"async\" height=\"15\" src=\"//upload.wikimedia.org/wikipedia/commons/thumb/4/48/Flag_of_Singapore.svg/40px-Flag_of_Singapore.svg.png\" srcset=\"//upload.wikimedia.org/wikipedia/commons/thumb/4/48/Flag_of_Singapore.svg/60px-Flag_of_Singapore.svg.png 2x\" width=\"23\"/>\n",
      "      </span>\n",
      "     </span>\n",
      "    </span>\n",
      "    <a href=\"/wiki/Singapore\" title=\"Singapore\">\n",
      "     Singapore\n",
      "    </a>\n",
      "   </td>\n",
      "   <td>\n",
      "    5,921,231\n",
      "   </td>\n",
      "   <td>\n",
      "    719\n",
      "   </td>\n",
      "   <td>\n",
      "    8,235\n",
      "   </td>\n",
      "  </tr>\n",
      "  <tr>\n",
      "   <td>\n",
      "    2\n",
      "   </td>\n",
      "   <td align=\"left\">\n",
      "    <span class=\"flagicon nowrap\">\n",
      "     <span class=\"mw-image-border\" typeof=\"mw:File\">\n",
      "      <span>\n",
      "       <img alt=\"\" class=\"mw-file-element\" data-file-height=\"307\" data-file-width=\"512\" decoding=\"async\" height=\"14\" src=\"//upload.wikimedia.org/wikipedia/commons/thumb/f/f9/Flag_of_Bangladesh.svg/40px-Flag_of_Bangladesh.svg.png\" srcset=\"//upload.wikimedia.org/wikipedia/commons/thumb/f/f9/Flag_of_Bangladesh.svg/60px-Flag_of_Bangladesh.svg.png 2x\" width=\"23\"/>\n",
      "      </span>\n",
      "     </span>\n",
      "    </span>\n",
      "    <a href=\"/wiki/Bangladesh\" title=\"Bangladesh\">\n",
      "     Bangladesh\n",
      "    </a>\n",
      "   </td>\n",
      "   <td>\n",
      "    165,650,475\n",
      "   </td>\n",
      "   <td>\n",
      "    148,460\n",
      "   </td>\n",
      "   <td>\n",
      "    1,116\n",
      "   </td>\n",
      "  </tr>\n",
      "  <tr>\n",
      "   <td>\n",
      "    3\n",
      "   </td>\n",
      "   <td align=\"left\">\n",
      "    <p>\n",
      "     <span class=\"flagicon nowrap\">\n",
      "      <span class=\"mw-image-border\" typeof=\"mw:File\">\n",
      "       <span>\n",
      "        <img alt=\"\" class=\"mw-file-element\" data-file-height=\"600\" data-file-width=\"1200\" decoding=\"async\" height=\"12\" src=\"//upload.wikimedia.org/wikipedia/commons/thumb/0/00/Flag_of_Palestine.svg/40px-Flag_of_Palestine.svg.png\" srcset=\"//upload.wikimedia.org/wikipedia/commons/thumb/0/00/Flag_of_Palestine.svg/60px-Flag_of_Palestine.svg.png 2x\" width=\"23\"/>\n",
      "       </span>\n",
      "      </span>\n",
      "     </span>\n",
      "     <a href=\"/wiki/Palestine\" title=\"Palestine\">\n",
      "      Palestine\n",
      "     </a>\n",
      "     <sup class=\"reference\" id=\"cite_ref-107\">\n",
      "      <a href=\"#cite_note-107\">\n",
      "       <span class=\"cite-bracket\">\n",
      "        [\n",
      "       </span>\n",
      "       note 3\n",
      "       <span class=\"cite-bracket\">\n",
      "        ]\n",
      "       </span>\n",
      "      </a>\n",
      "     </sup>\n",
      "     <sup class=\"reference\" id=\"cite_ref-108\">\n",
      "      <a href=\"#cite_note-108\">\n",
      "       <span class=\"cite-bracket\">\n",
      "        [\n",
      "       </span>\n",
      "       102\n",
      "       <span class=\"cite-bracket\">\n",
      "        ]\n",
      "       </span>\n",
      "      </a>\n",
      "     </sup>\n",
      "    </p>\n",
      "   </td>\n",
      "   <td>\n",
      "    5,223,000\n",
      "   </td>\n",
      "   <td>\n",
      "    6,025\n",
      "   </td>\n",
      "   <td>\n",
      "    867\n",
      "   </td>\n",
      "  </tr>\n",
      "  <tr>\n",
      "   <td>\n",
      "    4\n",
      "   </td>\n",
      "   <td align=\"left\">\n",
      "    <span class=\"flagicon nowrap\">\n",
      "     <span class=\"mw-image-border\" typeof=\"mw:File\">\n",
      "      <span>\n",
      "       <img alt=\"\" class=\"mw-file-element\" data-file-height=\"600\" data-file-width=\"900\" decoding=\"async\" height=\"15\" src=\"//upload.wikimedia.org/wikipedia/commons/thumb/7/72/Flag_of_the_Republic_of_China.svg/40px-Flag_of_the_Republic_of_China.svg.png\" srcset=\"//upload.wikimedia.org/wikipedia/commons/thumb/7/72/Flag_of_the_Republic_of_China.svg/60px-Flag_of_the_Republic_of_China.svg.png 2x\" width=\"23\"/>\n",
      "      </span>\n",
      "     </span>\n",
      "    </span>\n",
      "    <a href=\"/wiki/Taiwan\" title=\"Taiwan\">\n",
      "     Taiwan\n",
      "    </a>\n",
      "    <sup class=\"reference\" id=\"cite_ref-109\">\n",
      "     <a href=\"#cite_note-109\">\n",
      "      <span class=\"cite-bracket\">\n",
      "       [\n",
      "      </span>\n",
      "      note 4\n",
      "      <span class=\"cite-bracket\">\n",
      "       ]\n",
      "      </span>\n",
      "     </a>\n",
      "    </sup>\n",
      "   </td>\n",
      "   <td>\n",
      "    23,580,712\n",
      "   </td>\n",
      "   <td>\n",
      "    35,980\n",
      "   </td>\n",
      "   <td>\n",
      "    655\n",
      "   </td>\n",
      "  </tr>\n",
      "  <tr>\n",
      "   <td>\n",
      "    5\n",
      "   </td>\n",
      "   <td align=\"left\">\n",
      "    <span class=\"flagicon nowrap\">\n",
      "     <span class=\"mw-image-border\" typeof=\"mw:File\">\n",
      "      <span>\n",
      "       <img alt=\"\" class=\"mw-file-element\" data-file-height=\"600\" data-file-width=\"900\" decoding=\"async\" height=\"15\" src=\"//upload.wikimedia.org/wikipedia/commons/thumb/0/09/Flag_of_South_Korea.svg/40px-Flag_of_South_Korea.svg.png\" srcset=\"//upload.wikimedia.org/wikipedia/commons/thumb/0/09/Flag_of_South_Korea.svg/60px-Flag_of_South_Korea.svg.png 2x\" width=\"23\"/>\n",
      "      </span>\n",
      "     </span>\n",
      "    </span>\n",
      "    <a href=\"/wiki/South_Korea\" title=\"South Korea\">\n",
      "     South Korea\n",
      "    </a>\n",
      "   </td>\n",
      "   <td>\n",
      "    51,844,834\n",
      "   </td>\n",
      "   <td>\n",
      "    99,720\n",
      "   </td>\n",
      "   <td>\n",
      "    520\n",
      "   </td>\n",
      "  </tr>\n",
      "  <tr>\n",
      "   <td>\n",
      "    6\n",
      "   </td>\n",
      "   <td align=\"left\">\n",
      "    <span class=\"flagicon nowrap\">\n",
      "     <span class=\"mw-image-border\" typeof=\"mw:File\">\n",
      "      <span>\n",
      "       <img alt=\"\" class=\"mw-file-element\" data-file-height=\"1920\" data-file-width=\"2880\" decoding=\"async\" height=\"15\" src=\"//upload.wikimedia.org/wikipedia/commons/thumb/5/59/Flag_of_Lebanon.svg/40px-Flag_of_Lebanon.svg.png\" srcset=\"//upload.wikimedia.org/wikipedia/commons/thumb/5/59/Flag_of_Lebanon.svg/60px-Flag_of_Lebanon.svg.png 2x\" width=\"23\"/>\n",
      "      </span>\n",
      "     </span>\n",
      "    </span>\n",
      "    <a href=\"/wiki/Lebanon\" title=\"Lebanon\">\n",
      "     Lebanon\n",
      "    </a>\n",
      "   </td>\n",
      "   <td>\n",
      "    5,296,814\n",
      "   </td>\n",
      "   <td>\n",
      "    10,400\n",
      "   </td>\n",
      "   <td>\n",
      "    509\n",
      "   </td>\n",
      "  </tr>\n",
      "  <tr>\n",
      "   <td>\n",
      "    7\n",
      "   </td>\n",
      "   <td align=\"left\">\n",
      "    <span class=\"flagicon nowrap\">\n",
      "     <span class=\"mw-image-border\" typeof=\"mw:File\">\n",
      "      <span>\n",
      "       <img alt=\"\" class=\"mw-file-element\" data-file-height=\"600\" data-file-width=\"900\" decoding=\"async\" height=\"15\" src=\"//upload.wikimedia.org/wikipedia/commons/thumb/1/17/Flag_of_Rwanda.svg/40px-Flag_of_Rwanda.svg.png\" srcset=\"//upload.wikimedia.org/wikipedia/commons/thumb/1/17/Flag_of_Rwanda.svg/60px-Flag_of_Rwanda.svg.png 2x\" width=\"23\"/>\n",
      "      </span>\n",
      "     </span>\n",
      "    </span>\n",
      "    <a href=\"/wiki/Rwanda\" title=\"Rwanda\">\n",
      "     Rwanda\n",
      "    </a>\n",
      "   </td>\n",
      "   <td>\n",
      "    13,173,730\n",
      "   </td>\n",
      "   <td>\n",
      "    26,338\n",
      "   </td>\n",
      "   <td>\n",
      "    500\n",
      "   </td>\n",
      "  </tr>\n",
      "  <tr>\n",
      "   <td>\n",
      "    8\n",
      "   </td>\n",
      "   <td align=\"left\">\n",
      "    <span class=\"flagicon nowrap\">\n",
      "     <span class=\"mw-image-border\" typeof=\"mw:File\">\n",
      "      <span>\n",
      "       <img alt=\"\" class=\"mw-file-element\" data-file-height=\"600\" data-file-width=\"1000\" decoding=\"async\" height=\"14\" src=\"//upload.wikimedia.org/wikipedia/commons/thumb/5/50/Flag_of_Burundi.svg/40px-Flag_of_Burundi.svg.png\" srcset=\"//upload.wikimedia.org/wikipedia/commons/thumb/5/50/Flag_of_Burundi.svg/60px-Flag_of_Burundi.svg.png 2x\" width=\"23\"/>\n",
      "      </span>\n",
      "     </span>\n",
      "    </span>\n",
      "    <a href=\"/wiki/Burundi\" title=\"Burundi\">\n",
      "     Burundi\n",
      "    </a>\n",
      "   </td>\n",
      "   <td>\n",
      "    12,696,478\n",
      "   </td>\n",
      "   <td>\n",
      "    27,830\n",
      "   </td>\n",
      "   <td>\n",
      "    456\n",
      "   </td>\n",
      "  </tr>\n",
      "  <tr>\n",
      "   <td>\n",
      "    9\n",
      "   </td>\n",
      "   <td align=\"left\">\n",
      "    <span class=\"flagicon nowrap\">\n",
      "     <span class=\"mw-image-border\" typeof=\"mw:File\">\n",
      "      <span>\n",
      "       <img alt=\"\" class=\"mw-file-element\" data-file-height=\"800\" data-file-width=\"1100\" decoding=\"async\" height=\"15\" src=\"//upload.wikimedia.org/wikipedia/commons/thumb/d/d4/Flag_of_Israel.svg/40px-Flag_of_Israel.svg.png\" srcset=\"//upload.wikimedia.org/wikipedia/commons/thumb/d/d4/Flag_of_Israel.svg/60px-Flag_of_Israel.svg.png 2x\" width=\"21\"/>\n",
      "      </span>\n",
      "     </span>\n",
      "    </span>\n",
      "    <a href=\"/wiki/Israel\" title=\"Israel\">\n",
      "     Israel\n",
      "    </a>\n",
      "   </td>\n",
      "   <td>\n",
      "    9,402,617\n",
      "   </td>\n",
      "   <td>\n",
      "    21,937\n",
      "   </td>\n",
      "   <td>\n",
      "    429\n",
      "   </td>\n",
      "  </tr>\n",
      "  <tr>\n",
      "   <td>\n",
      "    10\n",
      "   </td>\n",
      "   <td align=\"left\">\n",
      "    <span class=\"flagicon nowrap\">\n",
      "     <span class=\"mw-image-border\" typeof=\"mw:File\">\n",
      "      <span>\n",
      "       <img alt=\"\" class=\"mw-file-element\" data-file-height=\"600\" data-file-width=\"900\" decoding=\"async\" height=\"15\" src=\"//upload.wikimedia.org/wikipedia/en/thumb/4/41/Flag_of_India.svg/40px-Flag_of_India.svg.png\" srcset=\"//upload.wikimedia.org/wikipedia/en/thumb/4/41/Flag_of_India.svg/60px-Flag_of_India.svg.png 2x\" width=\"23\"/>\n",
      "      </span>\n",
      "     </span>\n",
      "    </span>\n",
      "    <a href=\"/wiki/India\" title=\"India\">\n",
      "     India\n",
      "    </a>\n",
      "   </td>\n",
      "   <td>\n",
      "    1,389,637,446\n",
      "   </td>\n",
      "   <td>\n",
      "    3,287,263\n",
      "   </td>\n",
      "   <td>\n",
      "    423\n",
      "   </td>\n",
      "  </tr>\n",
      " </tbody>\n",
      "</table>\n",
      "\n",
      "[]\n"
     ]
    }
   ],
   "source": [
    "print(tables[table_index].prettify())"
   ]
  },
  {
   "cell_type": "code",
   "execution_count": 139,
   "id": "47d0de02",
   "metadata": {},
   "outputs": [
    {
     "data": {
      "text/html": [
       "<div>\n",
       "<style scoped>\n",
       "    .dataframe tbody tr th:only-of-type {\n",
       "        vertical-align: middle;\n",
       "    }\n",
       "\n",
       "    .dataframe tbody tr th {\n",
       "        vertical-align: top;\n",
       "    }\n",
       "\n",
       "    .dataframe thead th {\n",
       "        text-align: right;\n",
       "    }\n",
       "</style>\n",
       "<table border=\"1\" class=\"dataframe\">\n",
       "  <thead>\n",
       "    <tr style=\"text-align: right;\">\n",
       "      <th></th>\n",
       "      <th>Rank</th>\n",
       "      <th>Country</th>\n",
       "      <th>Population</th>\n",
       "      <th>Area</th>\n",
       "      <th>Density</th>\n",
       "    </tr>\n",
       "  </thead>\n",
       "  <tbody>\n",
       "    <tr>\n",
       "      <th>0</th>\n",
       "      <td>1</td>\n",
       "      <td>Singapore</td>\n",
       "      <td>5,921,231</td>\n",
       "      <td>719</td>\n",
       "      <td>8,235</td>\n",
       "    </tr>\n",
       "    <tr>\n",
       "      <th>1</th>\n",
       "      <td>2</td>\n",
       "      <td>Bangladesh</td>\n",
       "      <td>165,650,475</td>\n",
       "      <td>148,460</td>\n",
       "      <td>1,116</td>\n",
       "    </tr>\n",
       "    <tr>\n",
       "      <th>2</th>\n",
       "      <td>3</td>\n",
       "      <td>Palestine[note 3][102]</td>\n",
       "      <td>5,223,000</td>\n",
       "      <td>6,025</td>\n",
       "      <td>867</td>\n",
       "    </tr>\n",
       "    <tr>\n",
       "      <th>3</th>\n",
       "      <td>4</td>\n",
       "      <td>Taiwan[note 4]</td>\n",
       "      <td>23,580,712</td>\n",
       "      <td>35,980</td>\n",
       "      <td>655</td>\n",
       "    </tr>\n",
       "    <tr>\n",
       "      <th>4</th>\n",
       "      <td>5</td>\n",
       "      <td>South Korea</td>\n",
       "      <td>51,844,834</td>\n",
       "      <td>99,720</td>\n",
       "      <td>520</td>\n",
       "    </tr>\n",
       "    <tr>\n",
       "      <th>5</th>\n",
       "      <td>6</td>\n",
       "      <td>Lebanon</td>\n",
       "      <td>5,296,814</td>\n",
       "      <td>10,400</td>\n",
       "      <td>509</td>\n",
       "    </tr>\n",
       "    <tr>\n",
       "      <th>6</th>\n",
       "      <td>7</td>\n",
       "      <td>Rwanda</td>\n",
       "      <td>13,173,730</td>\n",
       "      <td>26,338</td>\n",
       "      <td>500</td>\n",
       "    </tr>\n",
       "    <tr>\n",
       "      <th>7</th>\n",
       "      <td>8</td>\n",
       "      <td>Burundi</td>\n",
       "      <td>12,696,478</td>\n",
       "      <td>27,830</td>\n",
       "      <td>456</td>\n",
       "    </tr>\n",
       "    <tr>\n",
       "      <th>8</th>\n",
       "      <td>9</td>\n",
       "      <td>Israel</td>\n",
       "      <td>9,402,617</td>\n",
       "      <td>21,937</td>\n",
       "      <td>429</td>\n",
       "    </tr>\n",
       "    <tr>\n",
       "      <th>9</th>\n",
       "      <td>10</td>\n",
       "      <td>India</td>\n",
       "      <td>1,389,637,446</td>\n",
       "      <td>3,287,263</td>\n",
       "      <td>423</td>\n",
       "    </tr>\n",
       "  </tbody>\n",
       "</table>\n",
       "</div>"
      ],
      "text/plain": [
       "  Rank                 Country     Population       Area Density\n",
       "0    1               Singapore      5,921,231        719   8,235\n",
       "1    2              Bangladesh    165,650,475    148,460   1,116\n",
       "2    3  Palestine[note 3][102]      5,223,000      6,025     867\n",
       "3    4          Taiwan[note 4]     23,580,712     35,980     655\n",
       "4    5             South Korea     51,844,834     99,720     520\n",
       "5    6                 Lebanon      5,296,814     10,400     509\n",
       "6    7                  Rwanda     13,173,730     26,338     500\n",
       "7    8                 Burundi     12,696,478     27,830     456\n",
       "8    9                  Israel      9,402,617     21,937     429\n",
       "9   10                   India  1,389,637,446  3,287,263     423"
      ]
     },
     "execution_count": 139,
     "metadata": {},
     "output_type": "execute_result"
    }
   ],
   "source": [
    "population_data = pd.DataFrame(columns=[\"Rank\", \"Country\", \"Population\", \"Area\", \"Density\"])\n",
    "\n",
    "for row in tables[table_index].tbody.find_all(\"tr\"):\n",
    "    col = row.find_all(\"td\")\n",
    "    if col:\n",
    "        rank = col[0].text.strip()\n",
    "        country = col[1].text.strip()\n",
    "        population = col[2].text.strip()\n",
    "        area = col[3].text.strip()\n",
    "        density = col[4].text.strip()\n",
    "\n",
    "        # Create a temporary DataFrame for the new row\n",
    "        new_row = pd.DataFrame([{\"Rank\": rank, \"Country\": country, \"Population\": population, \"Area\": area, \"Density\": density}])\n",
    "\n",
    "        # Use concat \n",
    "        population_data = pd.concat([population_data, new_row], ignore_index=True)\n",
    "\n",
    "population_data"
   ]
  },
  {
   "cell_type": "markdown",
   "id": "f75fd8a1",
   "metadata": {},
   "source": [
    "## Scrape data from HTML tables into a DataFrame using BeautifulSoup and read_html\n"
   ]
  },
  {
   "cell_type": "markdown",
   "id": "59ea16ad",
   "metadata": {},
   "source": [
    "Using the same `url`, `data`, `soup`, and `tables` object as in the last section we can use the `read_html` function to create a DataFrame.\n",
    "\n",
    "Remember the table we need is located in `tables[table_index]`\n",
    "\n",
    "We can now use the `pandas` function `read_html` and give it the string version of the table as well as the `flavor` which is the parsing engine `bs4`.\n"
   ]
  },
  {
   "cell_type": "code",
   "execution_count": 140,
   "id": "cd2a4ab4",
   "metadata": {},
   "outputs": [
    {
     "data": {
      "text/plain": [
       "[   Rank                 Country  Population  Area (km2)  Density (pop/km2)\n",
       " 0     1               Singapore     5921231         719               8235\n",
       " 1     2              Bangladesh   165650475      148460               1116\n",
       " 2     3  Palestine[note 3][102]     5223000        6025                867\n",
       " 3     4          Taiwan[note 4]    23580712       35980                655\n",
       " 4     5             South Korea    51844834       99720                520\n",
       " 5     6                 Lebanon     5296814       10400                509\n",
       " 6     7                  Rwanda    13173730       26338                500\n",
       " 7     8                 Burundi    12696478       27830                456\n",
       " 8     9                  Israel     9402617       21937                429\n",
       " 9    10                   India  1389637446     3287263                423]"
      ]
     },
     "execution_count": 140,
     "metadata": {},
     "output_type": "execute_result"
    }
   ],
   "source": [
    "pd.read_html(str(tables[table_index]), flavor='bs4')"
   ]
  },
  {
   "cell_type": "markdown",
   "id": "32bb242a",
   "metadata": {},
   "source": [
    "The function `read_html` always returns a list of DataFrames so we must pick the one we want out of the list.\n"
   ]
  },
  {
   "cell_type": "code",
   "execution_count": 143,
   "id": "2b63043b",
   "metadata": {},
   "outputs": [
    {
     "data": {
      "text/html": [
       "<div>\n",
       "<style scoped>\n",
       "    .dataframe tbody tr th:only-of-type {\n",
       "        vertical-align: middle;\n",
       "    }\n",
       "\n",
       "    .dataframe tbody tr th {\n",
       "        vertical-align: top;\n",
       "    }\n",
       "\n",
       "    .dataframe thead th {\n",
       "        text-align: right;\n",
       "    }\n",
       "</style>\n",
       "<table border=\"1\" class=\"dataframe\">\n",
       "  <thead>\n",
       "    <tr style=\"text-align: right;\">\n",
       "      <th></th>\n",
       "      <th>Rank</th>\n",
       "      <th>Country</th>\n",
       "      <th>Population</th>\n",
       "      <th>Area (km2)</th>\n",
       "      <th>Density (pop/km2)</th>\n",
       "    </tr>\n",
       "  </thead>\n",
       "  <tbody>\n",
       "    <tr>\n",
       "      <th>0</th>\n",
       "      <td>1</td>\n",
       "      <td>Singapore</td>\n",
       "      <td>5921231</td>\n",
       "      <td>719</td>\n",
       "      <td>8235</td>\n",
       "    </tr>\n",
       "    <tr>\n",
       "      <th>1</th>\n",
       "      <td>2</td>\n",
       "      <td>Bangladesh</td>\n",
       "      <td>165650475</td>\n",
       "      <td>148460</td>\n",
       "      <td>1116</td>\n",
       "    </tr>\n",
       "    <tr>\n",
       "      <th>2</th>\n",
       "      <td>3</td>\n",
       "      <td>Palestine[note 3][102]</td>\n",
       "      <td>5223000</td>\n",
       "      <td>6025</td>\n",
       "      <td>867</td>\n",
       "    </tr>\n",
       "    <tr>\n",
       "      <th>3</th>\n",
       "      <td>4</td>\n",
       "      <td>Taiwan[note 4]</td>\n",
       "      <td>23580712</td>\n",
       "      <td>35980</td>\n",
       "      <td>655</td>\n",
       "    </tr>\n",
       "    <tr>\n",
       "      <th>4</th>\n",
       "      <td>5</td>\n",
       "      <td>South Korea</td>\n",
       "      <td>51844834</td>\n",
       "      <td>99720</td>\n",
       "      <td>520</td>\n",
       "    </tr>\n",
       "    <tr>\n",
       "      <th>5</th>\n",
       "      <td>6</td>\n",
       "      <td>Lebanon</td>\n",
       "      <td>5296814</td>\n",
       "      <td>10400</td>\n",
       "      <td>509</td>\n",
       "    </tr>\n",
       "    <tr>\n",
       "      <th>6</th>\n",
       "      <td>7</td>\n",
       "      <td>Rwanda</td>\n",
       "      <td>13173730</td>\n",
       "      <td>26338</td>\n",
       "      <td>500</td>\n",
       "    </tr>\n",
       "    <tr>\n",
       "      <th>7</th>\n",
       "      <td>8</td>\n",
       "      <td>Burundi</td>\n",
       "      <td>12696478</td>\n",
       "      <td>27830</td>\n",
       "      <td>456</td>\n",
       "    </tr>\n",
       "    <tr>\n",
       "      <th>8</th>\n",
       "      <td>9</td>\n",
       "      <td>Israel</td>\n",
       "      <td>9402617</td>\n",
       "      <td>21937</td>\n",
       "      <td>429</td>\n",
       "    </tr>\n",
       "    <tr>\n",
       "      <th>9</th>\n",
       "      <td>10</td>\n",
       "      <td>India</td>\n",
       "      <td>1389637446</td>\n",
       "      <td>3287263</td>\n",
       "      <td>423</td>\n",
       "    </tr>\n",
       "  </tbody>\n",
       "</table>\n",
       "</div>"
      ],
      "text/plain": [
       "   Rank                 Country  Population  Area (km2)  Density (pop/km2)\n",
       "0     1               Singapore     5921231         719               8235\n",
       "1     2              Bangladesh   165650475      148460               1116\n",
       "2     3  Palestine[note 3][102]     5223000        6025                867\n",
       "3     4          Taiwan[note 4]    23580712       35980                655\n",
       "4     5             South Korea    51844834       99720                520\n",
       "5     6                 Lebanon     5296814       10400                509\n",
       "6     7                  Rwanda    13173730       26338                500\n",
       "7     8                 Burundi    12696478       27830                456\n",
       "8     9                  Israel     9402617       21937                429\n",
       "9    10                   India  1389637446     3287263                423"
      ]
     },
     "execution_count": 143,
     "metadata": {},
     "output_type": "execute_result"
    }
   ],
   "source": [
    "population_data_read_html = pd.read_html(str(tables[table_index]), flavor='bs4')[0]\n",
    "population_data_read_html"
   ]
  },
  {
   "cell_type": "markdown",
   "id": "552b33ac",
   "metadata": {},
   "source": [
    "## Scrape data from HTML tables into a DataFrame using read_html"
   ]
  },
  {
   "cell_type": "markdown",
   "id": "97735648",
   "metadata": {},
   "source": [
    "We can also use the `read_html` function to directly get DataFrames from a `url`.\n"
   ]
  },
  {
   "cell_type": "code",
   "execution_count": 144,
   "id": "3931b1df",
   "metadata": {},
   "outputs": [],
   "source": [
    "df_list = pd.read_html(data.text, flavor='bs4')\n"
   ]
  },
  {
   "cell_type": "markdown",
   "id": "346b686a",
   "metadata": {},
   "source": [
    "We can see there are 25 DataFrames just like when we used `find_all` on the `soup` object.\n"
   ]
  },
  {
   "cell_type": "code",
   "execution_count": 145,
   "id": "fc27dbce",
   "metadata": {},
   "outputs": [
    {
     "data": {
      "text/plain": [
       "26"
      ]
     },
     "execution_count": 145,
     "metadata": {},
     "output_type": "execute_result"
    }
   ],
   "source": [
    "len(df_list)"
   ]
  },
  {
   "cell_type": "markdown",
   "id": "02cff959",
   "metadata": {},
   "source": [
    "Finally we can pick the DataFrame we need out of the list.\n"
   ]
  },
  {
   "cell_type": "code",
   "execution_count": 149,
   "id": "15dc783d",
   "metadata": {},
   "outputs": [
    {
     "data": {
      "text/html": [
       "<div>\n",
       "<style scoped>\n",
       "    .dataframe tbody tr th:only-of-type {\n",
       "        vertical-align: middle;\n",
       "    }\n",
       "\n",
       "    .dataframe tbody tr th {\n",
       "        vertical-align: top;\n",
       "    }\n",
       "\n",
       "    .dataframe thead th {\n",
       "        text-align: right;\n",
       "    }\n",
       "</style>\n",
       "<table border=\"1\" class=\"dataframe\">\n",
       "  <thead>\n",
       "    <tr style=\"text-align: right;\">\n",
       "      <th></th>\n",
       "      <th>Rank</th>\n",
       "      <th>Country</th>\n",
       "      <th>Population</th>\n",
       "      <th>Area (km2)</th>\n",
       "      <th>Density (pop/km2)</th>\n",
       "    </tr>\n",
       "  </thead>\n",
       "  <tbody>\n",
       "    <tr>\n",
       "      <th>0</th>\n",
       "      <td>1</td>\n",
       "      <td>Singapore</td>\n",
       "      <td>5921231</td>\n",
       "      <td>719</td>\n",
       "      <td>8235</td>\n",
       "    </tr>\n",
       "    <tr>\n",
       "      <th>1</th>\n",
       "      <td>2</td>\n",
       "      <td>Bangladesh</td>\n",
       "      <td>165650475</td>\n",
       "      <td>148460</td>\n",
       "      <td>1116</td>\n",
       "    </tr>\n",
       "    <tr>\n",
       "      <th>2</th>\n",
       "      <td>3</td>\n",
       "      <td>Palestine[note 3][102]</td>\n",
       "      <td>5223000</td>\n",
       "      <td>6025</td>\n",
       "      <td>867</td>\n",
       "    </tr>\n",
       "    <tr>\n",
       "      <th>3</th>\n",
       "      <td>4</td>\n",
       "      <td>Taiwan[note 4]</td>\n",
       "      <td>23580712</td>\n",
       "      <td>35980</td>\n",
       "      <td>655</td>\n",
       "    </tr>\n",
       "    <tr>\n",
       "      <th>4</th>\n",
       "      <td>5</td>\n",
       "      <td>South Korea</td>\n",
       "      <td>51844834</td>\n",
       "      <td>99720</td>\n",
       "      <td>520</td>\n",
       "    </tr>\n",
       "    <tr>\n",
       "      <th>5</th>\n",
       "      <td>6</td>\n",
       "      <td>Lebanon</td>\n",
       "      <td>5296814</td>\n",
       "      <td>10400</td>\n",
       "      <td>509</td>\n",
       "    </tr>\n",
       "    <tr>\n",
       "      <th>6</th>\n",
       "      <td>7</td>\n",
       "      <td>Rwanda</td>\n",
       "      <td>13173730</td>\n",
       "      <td>26338</td>\n",
       "      <td>500</td>\n",
       "    </tr>\n",
       "    <tr>\n",
       "      <th>7</th>\n",
       "      <td>8</td>\n",
       "      <td>Burundi</td>\n",
       "      <td>12696478</td>\n",
       "      <td>27830</td>\n",
       "      <td>456</td>\n",
       "    </tr>\n",
       "    <tr>\n",
       "      <th>8</th>\n",
       "      <td>9</td>\n",
       "      <td>Israel</td>\n",
       "      <td>9402617</td>\n",
       "      <td>21937</td>\n",
       "      <td>429</td>\n",
       "    </tr>\n",
       "    <tr>\n",
       "      <th>9</th>\n",
       "      <td>10</td>\n",
       "      <td>India</td>\n",
       "      <td>1389637446</td>\n",
       "      <td>3287263</td>\n",
       "      <td>423</td>\n",
       "    </tr>\n",
       "  </tbody>\n",
       "</table>\n",
       "</div>"
      ],
      "text/plain": [
       "   Rank                 Country  Population  Area (km2)  Density (pop/km2)\n",
       "0     1               Singapore     5921231         719               8235\n",
       "1     2              Bangladesh   165650475      148460               1116\n",
       "2     3  Palestine[note 3][102]     5223000        6025                867\n",
       "3     4          Taiwan[note 4]    23580712       35980                655\n",
       "4     5             South Korea    51844834       99720                520\n",
       "5     6                 Lebanon     5296814       10400                509\n",
       "6     7                  Rwanda    13173730       26338                500\n",
       "7     8                 Burundi    12696478       27830                456\n",
       "8     9                  Israel     9402617       21937                429\n",
       "9    10                   India  1389637446     3287263                423"
      ]
     },
     "execution_count": 149,
     "metadata": {},
     "output_type": "execute_result"
    }
   ],
   "source": [
    "df_list[table_index]"
   ]
  },
  {
   "cell_type": "markdown",
   "id": "f8c851e4",
   "metadata": {},
   "source": [
    "We can also use the `match` parameter to select the specific table we want. If the table contains a string matching the text it will be read."
   ]
  },
  {
   "cell_type": "code",
   "execution_count": 157,
   "id": "1dc49907",
   "metadata": {},
   "outputs": [
    {
     "name": "stdout",
     "output_type": "stream",
     "text": [
      "Requirement already satisfied: lxml in c:\\users\\youss\\anaconda3\\envs\\rp_env\\lib\\site-packages (6.0.2)\n"
     ]
    }
   ],
   "source": [
    "!pip install lxml"
   ]
  },
  {
   "cell_type": "code",
   "execution_count": 160,
   "id": "c964bcda",
   "metadata": {},
   "outputs": [
    {
     "name": "stdout",
     "output_type": "stream",
     "text": [
      "   Rank                 Country  Population  Area (km2)  Density (pop/km2)\n",
      "0     1               Singapore     5921231         719               8235\n",
      "1     2              Bangladesh   165650475      148460               1116\n",
      "2     3  Palestine[note 3][102]     5223000        6025                867\n",
      "3     4          Taiwan[note 4]    23580712       35980                655\n",
      "4     5             South Korea    51844834       99720                520\n",
      "5     6                 Lebanon     5296814       10400                509\n",
      "6     7                  Rwanda    13173730       26338                500\n",
      "7     8                 Burundi    12696478       27830                456\n",
      "8     9                  Israel     9402617       21937                429\n",
      "9    10                   India  1389637446     3287263                423\n"
     ]
    }
   ],
   "source": [
    "\n",
    "heading = soup.find(\"h3\", {\"id\": \"Most_densely_populated_countries\"})\n",
    "\n",
    "# Get the next table after this heading\n",
    "table = heading.find_next(\"table\")\n",
    "\n",
    "# Convert to DataFrame\n",
    "df = pd.read_html(str(table))[0]\n",
    "print(df.head(100))"
   ]
  }
 ],
 "metadata": {
  "kernelspec": {
   "display_name": "RP_Env",
   "language": "python",
   "name": "python3"
  },
  "language_info": {
   "codemirror_mode": {
    "name": "ipython",
    "version": 3
   },
   "file_extension": ".py",
   "mimetype": "text/x-python",
   "name": "python",
   "nbconvert_exporter": "python",
   "pygments_lexer": "ipython3",
   "version": "3.13.5"
  }
 },
 "nbformat": 4,
 "nbformat_minor": 5
}
