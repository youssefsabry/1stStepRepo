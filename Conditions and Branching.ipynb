{
 "cells": [
  {
   "cell_type": "code",
   "execution_count": 29,
   "id": "5d1ea650",
   "metadata": {},
   "outputs": [
    {
     "data": {
      "text/plain": [
       "[21, 22]"
      ]
     },
     "execution_count": 29,
     "metadata": {},
     "output_type": "execute_result"
    }
   ],
   "source": [
    "A=((11,12),[21,22])\n",
    "A[1]"
   ]
  },
  {
   "cell_type": "code",
   "execution_count": 30,
   "id": "53e543be",
   "metadata": {},
   "outputs": [
    {
     "data": {
      "text/plain": [
       "['hard rock', 1.2]"
      ]
     },
     "execution_count": 30,
     "metadata": {},
     "output_type": "execute_result"
    }
   ],
   "source": [
    "A=[\"hard rock\",10,1.2] \n",
    "del(A[1])\n",
    "A"
   ]
  },
  {
   "cell_type": "code",
   "execution_count": 31,
   "id": "80910268",
   "metadata": {},
   "outputs": [
    {
     "data": {
      "text/plain": [
       "{'user123', 'user456', 'user789'}"
      ]
     },
     "execution_count": 31,
     "metadata": {},
     "output_type": "execute_result"
    }
   ],
   "source": [
    "visitors = {'user123', 'user456'}\n",
    "visitors.add('user789')\n",
    "visitors"
   ]
  },
  {
   "cell_type": "code",
   "execution_count": 32,
   "id": "0b08b9e5",
   "metadata": {},
   "outputs": [
    {
     "data": {
      "text/plain": [
       "True"
      ]
     },
     "execution_count": 32,
     "metadata": {},
     "output_type": "execute_result"
    }
   ],
   "source": [
    "auth_codes = {'A123', 'B456', 'C789'}\n",
    "'B456' in auth_codes"
   ]
  },
  {
   "cell_type": "code",
   "execution_count": 33,
   "id": "9fe646a1",
   "metadata": {},
   "outputs": [
    {
     "name": "stdout",
     "output_type": "stream",
     "text": [
      "You are 25 years old.\n"
     ]
    }
   ],
   "source": [
    "age = 25\n",
    "if age == 25:\n",
    "    print(\"You are 25 years old.\")"
   ]
  },
  {
   "cell_type": "code",
   "execution_count": 34,
   "id": "5358b1c8",
   "metadata": {},
   "outputs": [
    {
     "name": "stdout",
     "output_type": "stream",
     "text": [
      "You are not 30 years old.\n"
     ]
    }
   ],
   "source": [
    "if age != 30:\n",
    "    print(\"You are not 30 years old.\")"
   ]
  },
  {
   "cell_type": "code",
   "execution_count": 35,
   "id": "cafeffb5",
   "metadata": {},
   "outputs": [
    {
     "name": "stdout",
     "output_type": "stream",
     "text": [
      "Yes, the Age is greater than 20\n"
     ]
    }
   ],
   "source": [
    "if age>= 20:\n",
    "    print(\"Yes, the Age is greater than 20\")"
   ]
  },
  {
   "cell_type": "code",
   "execution_count": 36,
   "id": "c91a1673",
   "metadata": {},
   "outputs": [
    {
     "name": "stdout",
     "output_type": "stream",
     "text": [
      "Sorry, you cannot enter.\n"
     ]
    }
   ],
   "source": [
    "age = 20\n",
    "if age >= 21:\n",
    "    print(\"You can enter the bar.\")\n",
    "else:\n",
    "    print(\"Sorry, you cannot enter.\")"
   ]
  },
  {
   "cell_type": "code",
   "execution_count": 37,
   "id": "2f4327ff",
   "metadata": {},
   "outputs": [
    {
     "name": "stdout",
     "output_type": "stream",
     "text": [
      "You can watch a movie.\n"
     ]
    }
   ],
   "source": [
    "if age >= 21:\n",
    "    print(\"You can enter the bar.\")\n",
    "elif age >= 18:\n",
    "    print(\"You can watch a movie.\")\n",
    "else:\n",
    "    print(\"Sorry, you cannot do either.\")"
   ]
  },
  {
   "cell_type": "code",
   "execution_count": 38,
   "id": "fc1b114e",
   "metadata": {},
   "outputs": [
    {
     "name": "stdout",
     "output_type": "stream",
     "text": [
      "Amount dispensed:  5000\n"
     ]
    }
   ],
   "source": [
    "user_choice = \"Withdraw Cash\"\n",
    "if user_choice == \"Withdraw Cash\":\n",
    "    amount = int(input(\"Enter the amount to withdraw: \"))\n",
    "    if amount % 10 == 0:\n",
    "        print(\"Amount dispensed: \", amount)\n",
    "    else:\n",
    "        print(\"Please enter a multiple of 10.\")\n",
    "else:\n",
    "    print(\"Thank you for using the ATM.\")"
   ]
  },
  {
   "cell_type": "code",
   "execution_count": 39,
   "id": "16cb84f4",
   "metadata": {},
   "outputs": [],
   "source": [
    "is_do_not_disturb = True\n",
    "if not is_do_not_disturb:\n",
    "    print(\"New message received\")"
   ]
  },
  {
   "cell_type": "code",
   "execution_count": 40,
   "id": "cd4c8b27",
   "metadata": {},
   "outputs": [
    {
     "name": "stdout",
     "output_type": "stream",
     "text": [
      "open_high_security_door\n"
     ]
    }
   ],
   "source": [
    "has_valid_id_card = True\n",
    "has_matching_fingerprint = True\n",
    "if has_valid_id_card and has_matching_fingerprint:\n",
    "    print('open_high_security_door')"
   ]
  },
  {
   "cell_type": "code",
   "execution_count": 41,
   "id": "18d78bf0",
   "metadata": {},
   "outputs": [
    {
     "name": "stdout",
     "output_type": "stream",
     "text": [
      "choose a movie\n"
     ]
    }
   ],
   "source": [
    "friend1_likes_comedy = True\n",
    "friend2_likes_action = False\n",
    "friend3_likes_drama = False\n",
    "if friend1_likes_comedy or friend2_likes_action or friend3_likes_drama:\n",
    "    print(\"choose a movie\")"
   ]
  }
 ],
 "metadata": {
  "kernelspec": {
   "display_name": "RP_Env",
   "language": "python",
   "name": "python3"
  },
  "language_info": {
   "codemirror_mode": {
    "name": "ipython",
    "version": 3
   },
   "file_extension": ".py",
   "mimetype": "text/x-python",
   "name": "python",
   "nbconvert_exporter": "python",
   "pygments_lexer": "ipython3",
   "version": "3.13.5"
  }
 },
 "nbformat": 4,
 "nbformat_minor": 5
}
