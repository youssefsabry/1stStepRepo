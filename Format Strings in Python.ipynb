{
 "cells": [
  {
   "cell_type": "markdown",
   "id": "4952b670-c818-4f25-bf76-9a2d3724bfbd",
   "metadata": {},
   "source": [
    "## String interpolation (f-strings)"
   ]
  },
  {
   "cell_type": "code",
   "execution_count": 6,
   "id": "30f80524-a17d-48c9-9de2-98f3dec9c15b",
   "metadata": {},
   "outputs": [
    {
     "name": "stdout",
     "output_type": "stream",
     "text": [
      "My name is youssef and I am 33 years old.\n"
     ]
    }
   ],
   "source": [
    "name = 'youssef'\n",
    "age = 33\n",
    "print(f'My name is {name} and I am {age} years old.')"
   ]
  },
  {
   "cell_type": "markdown",
   "id": "4c080a4c-c6e5-4d85-861f-8885228571ef",
   "metadata": {},
   "source": [
    "## str.format()"
   ]
  },
  {
   "cell_type": "code",
   "execution_count": 2,
   "id": "45a63f30-157f-42e1-8458-f4123f0e9eff",
   "metadata": {},
   "outputs": [
    {
     "name": "stdout",
     "output_type": "stream",
     "text": [
      "My name is youssef and I am 33 years old.\n"
     ]
    }
   ],
   "source": [
    "print(\"My name is {} and I am {} years old.\".format(name, age))"
   ]
  },
  {
   "cell_type": "markdown",
   "id": "b767aad4-61d0-46b2-a43e-5680ccd177d7",
   "metadata": {},
   "source": [
    "## % Operator"
   ]
  },
  {
   "cell_type": "code",
   "execution_count": 7,
   "id": "6b2ef56e-03f3-460b-9f70-5a64546780c3",
   "metadata": {},
   "outputs": [
    {
     "name": "stdout",
     "output_type": "stream",
     "text": [
      "My name is youssef and I am 33 years old.\n"
     ]
    }
   ],
   "source": [
    "print('My name is %s and I am %d years old.' % (name, age))"
   ]
  },
  {
   "cell_type": "markdown",
   "id": "329b4282-6c0b-41d9-b9d1-3e69023d19d8",
   "metadata": {},
   "source": [
    "“My name is %s and I am %d years old.“: This is a string that includes format specifiers:\n",
    "\n",
    "%s: This is a placeholder for a string.\n",
    "%d: This is a placeholder for an integer.\n",
    "% (name, age): This is a tuple containing the variables name and age. The values of these variables will replace the placeholders in the string."
   ]
  },
  {
   "cell_type": "markdown",
   "id": "e4fec240-2676-4f4c-a86a-6a5d42191905",
   "metadata": {},
   "source": [
    "## Additional capabilities\n"
   ]
  },
  {
   "cell_type": "code",
   "execution_count": 11,
   "id": "930d9e01-eb4c-4b46-99d4-f5afb4e0b1d8",
   "metadata": {},
   "outputs": [
    {
     "name": "stdout",
     "output_type": "stream",
     "text": [
      "The sum of x and y is 30.\n",
      "The sum of x and y is 30.\n"
     ]
    }
   ],
   "source": [
    "x = 20 \n",
    "y = 10\n",
    "print(f'The sum of x and y is {x+y}.')"
   ]
  },
  {
   "cell_type": "markdown",
   "id": "22686071-d3c8-441a-a8aa-9c04d05ef5c5",
   "metadata": {},
   "source": [
    "## Raw String (r’’)"
   ]
  },
  {
   "cell_type": "code",
   "execution_count": 12,
   "id": "a0fc730e-6186-46bb-8241-9f49a737a52b",
   "metadata": {},
   "outputs": [
    {
     "name": "stdout",
     "output_type": "stream",
     "text": [
      "Regular String: C:\n",
      "ew_folder\f",
      "ile.txt\n"
     ]
    }
   ],
   "source": [
    "regular_string = \"C:\\new_folder\\file.txt\"\n",
    "print(\"Regular String:\", regular_string)"
   ]
  },
  {
   "cell_type": "code",
   "execution_count": 14,
   "id": "c044814b-f3f1-44ed-8dcf-46934264201e",
   "metadata": {},
   "outputs": [
    {
     "name": "stdout",
     "output_type": "stream",
     "text": [
      "Regular String: C:\\new_folder\\file.txt\n"
     ]
    }
   ],
   "source": [
    "regular_string = r\"C:\\new_folder\\file.txt\"\n",
    "print(\"Regular String:\", regular_string)"
   ]
  },
  {
   "cell_type": "code",
   "execution_count": null,
   "id": "4b0a2797-6f75-46e2-967f-4f62f6d26650",
   "metadata": {},
   "outputs": [],
   "source": []
  }
 ],
 "metadata": {
  "kernelspec": {
   "display_name": "Python [conda env:RP_Env]",
   "language": "python",
   "name": "conda-env-RP_Env-py"
  },
  "language_info": {
   "codemirror_mode": {
    "name": "ipython",
    "version": 3
   },
   "file_extension": ".py",
   "mimetype": "text/x-python",
   "name": "python",
   "nbconvert_exporter": "python",
   "pygments_lexer": "ipython3",
   "version": "3.13.5"
  }
 },
 "nbformat": 4,
 "nbformat_minor": 5
}
